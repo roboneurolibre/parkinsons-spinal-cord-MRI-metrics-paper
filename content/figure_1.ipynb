{
 "cells": [
  {
   "cell_type": "code",
   "execution_count": null,
   "id": "a50696ba-c9f6-4a94-b508-6e32bbc19b11",
   "metadata": {
    "tags": []
   },
   "outputs": [
    {
     "data": {
      "application/vnd.plotly.v1+json": {
       "config": {
        "plotlyServerURL": "https://plot.ly"
       },
       "data": [
        {
         "marker": {
          "color": "#1C5F82"
         },
         "name": "DWI",
         "showlegend": true,
         "type": "histogram",
         "x": [
          "65-69",
          "70-74",
          "55-59",
          "55-59",
          "65-69",
          "60-64",
          "75-79",
          "60-64",
          "65-69",
          "60-64",
          "65-69",
          "70-74",
          "60-64",
          "65-69",
          "45-49",
          "60-64",
          "80-84",
          "60-64",
          "55-59",
          "35-39",
          "65-69",
          "60-64",
          "65-69",
          "80-84",
          "75-79",
          "65-69",
          "70-74",
          "60-64",
          "55-59",
          "60-64",
          "80-84",
          "55-59",
          "60-64",
          "45-49",
          "65-69",
          "55-59",
          "55-59",
          "50-54",
          "60-64",
          "60-64",
          "55-59",
          "55-59",
          "50-54",
          "35-39",
          "45-49",
          "65-69",
          "60-64",
          "65-69",
          "65-69",
          "55-59",
          "65-69",
          "65-69",
          "65-69",
          "45-49",
          "50-54",
          "65-69",
          "55-59",
          "50-54",
          "40-44",
          "70-74",
          "60-64",
          "75-79",
          "65-69",
          "60-64",
          "65-69",
          "80-84",
          "75-79",
          "65-69",
          "75-79",
          "70-74",
          "70-74",
          "75-79",
          "65-69",
          "35-39",
          "60-64",
          "60-64",
          "70-74",
          "65-69",
          "70-74",
          "60-64",
          "65-69",
          "65-69",
          "50-54",
          "55-59",
          "45-49",
          "55-59",
          "65-69",
          "70-74",
          "55-59",
          "65-69",
          "55-59",
          "75-79",
          "75-79",
          "55-59",
          "80-84",
          "65-69",
          "45-49",
          "50-54",
          "45-49",
          "50-54",
          "50-54",
          "45-49",
          "45-49",
          "50-54"
         ],
         "xaxis": "x3",
         "yaxis": "y3"
        },
        {
         "marker": {
          "color": "black"
         },
         "name": "MTR",
         "showlegend": true,
         "type": "histogram",
         "x": [
          "65-69",
          "65-69",
          "60-64",
          "60-64",
          "65-69",
          "65-69",
          "70-74",
          "60-64",
          "65-69",
          "45-49",
          "60-64",
          "80-84",
          "60-64",
          "55-59",
          "35-39",
          "65-69",
          "60-64",
          "65-69",
          "80-84",
          "75-79",
          "65-69",
          "70-74",
          "60-64",
          "55-59",
          "70-74",
          "60-64",
          "80-84",
          "55-59",
          "45-49",
          "65-69",
          "55-59",
          "50-54",
          "60-64",
          "60-64",
          "55-59",
          "55-59",
          "50-54",
          "35-39",
          "45-49",
          "65-69",
          "60-64",
          "65-69",
          "65-69",
          "55-59",
          "65-69",
          "65-69",
          "65-69",
          "45-49",
          "50-54",
          "65-69",
          "55-59",
          "50-54",
          "40-44",
          "70-74",
          "60-64",
          "75-79",
          "70-74",
          "60-64",
          "65-69",
          "80-84",
          "75-79",
          "65-69",
          "75-79",
          "70-74",
          "70-74",
          "65-69",
          "35-39",
          "60-64",
          "70-74",
          "65-69",
          "70-74",
          "60-64",
          "65-69",
          "65-69",
          "50-54",
          "55-59",
          "55-59",
          "65-69",
          "70-74",
          "55-59",
          "65-69",
          "55-59",
          "75-79",
          "75-79",
          "55-59",
          "80-84",
          "65-69",
          "45-49",
          "50-54",
          "45-49",
          "50-54",
          "50-54",
          "45-49",
          "45-49",
          "50-54"
         ],
         "xaxis": "x3",
         "yaxis": "y3"
        },
        {
         "marker": {
          "color": "#D1D1D1"
         },
         "name": "T2*w",
         "showlegend": true,
         "type": "histogram",
         "x": [
          "65-69",
          "65-69",
          "60-64",
          "60-64",
          "65-69",
          "65-69",
          "70-74",
          "60-64",
          "65-69",
          "45-49",
          "60-64",
          "80-84",
          "60-64",
          "55-59",
          "35-39",
          "65-69",
          "60-64",
          "65-69",
          "80-84",
          "75-79",
          "65-69",
          "70-74",
          "60-64",
          "55-59",
          "70-74",
          "60-64",
          "80-84",
          "55-59",
          "45-49",
          "65-69",
          "55-59",
          "50-54",
          "60-64",
          "60-64",
          "55-59",
          "55-59",
          "50-54",
          "35-39",
          "45-49",
          "65-69",
          "60-64",
          "65-69",
          "65-69",
          "55-59",
          "65-69",
          "65-69",
          "65-69",
          "45-49",
          "50-54",
          "65-69",
          "55-59",
          "50-54",
          "40-44",
          "70-74",
          "60-64",
          "75-79",
          "70-74",
          "60-64",
          "65-69",
          "80-84",
          "75-79",
          "65-69",
          "75-79",
          "70-74",
          "70-74",
          "65-69",
          "35-39",
          "60-64",
          "70-74",
          "65-69",
          "70-74",
          "60-64",
          "65-69",
          "65-69",
          "50-54",
          "55-59",
          "55-59",
          "65-69",
          "70-74",
          "55-59",
          "65-69",
          "55-59",
          "75-79",
          "75-79",
          "55-59",
          "80-84",
          "65-69",
          "45-49",
          "50-54",
          "45-49",
          "50-54",
          "50-54",
          "45-49",
          "45-49",
          "50-54"
         ],
         "xaxis": "x3",
         "yaxis": "y3"
        },
        {
         "marker": {
          "color": "#1C5F82"
         },
         "name": "DWI",
         "showlegend": false,
         "type": "histogram",
         "x": [
          "adv",
          "med",
          "low",
          "low",
          "adv",
          "med",
          "adv",
          "med",
          "med",
          "adv",
          "low",
          "med",
          "adv",
          "med",
          "adv",
          "low",
          "low",
          "low",
          "low",
          "CTRL",
          "adv",
          "CTRL",
          "med",
          "adv",
          "low",
          "adv",
          "med",
          "med",
          "med",
          "adv",
          "CTRL",
          "CTRL",
          "adv",
          "med",
          "low",
          "med",
          "med",
          "low",
          "CTRL",
          "adv",
          "low",
          "med",
          "low",
          "low",
          "adv",
          "adv",
          "low",
          "adv",
          "med",
          "med",
          "low",
          "med",
          "med",
          "adv",
          "low",
          "low",
          "low",
          "low",
          "low",
          "med",
          "low",
          "adv",
          "adv",
          "med",
          "CTRL",
          "adv",
          "adv",
          "low",
          "adv",
          "CTRL",
          "CTRL",
          "CTRL",
          "CTRL",
          "CTRL",
          "CTRL",
          "CTRL",
          "med",
          "CTRL",
          "CTRL",
          "CTRL",
          "CTRL",
          "low",
          "CTRL",
          "CTRL",
          "med",
          "CTRL",
          "CTRL",
          "CTRL",
          "CTRL",
          "CTRL",
          "CTRL",
          "CTRL",
          "CTRL",
          "CTRL",
          "CTRL",
          "CTRL",
          "CTRL",
          "CTRL",
          "CTRL",
          "CTRL",
          "CTRL",
          "CTRL",
          "CTRL",
          "CTRL"
         ],
         "xaxis": "x4",
         "yaxis": "y4"
        },
        {
         "marker": {
          "color": "black"
         },
         "name": "MTR",
         "showlegend": false,
         "type": "histogram",
         "x": [
          "adv",
          "adv",
          "med",
          "med",
          "med",
          "low",
          "med",
          "adv",
          "med",
          "adv",
          "low",
          "low",
          "low",
          "low",
          "CTRL",
          "adv",
          "CTRL",
          "med",
          "adv",
          "low",
          "adv",
          "med",
          "med",
          "med",
          "adv",
          "adv",
          "CTRL",
          "CTRL",
          "med",
          "low",
          "med",
          "low",
          "CTRL",
          "adv",
          "low",
          "med",
          "low",
          "low",
          "adv",
          "adv",
          "low",
          "adv",
          "med",
          "med",
          "low",
          "med",
          "med",
          "adv",
          "low",
          "low",
          "low",
          "low",
          "low",
          "med",
          "low",
          "adv",
          "adv",
          "med",
          "CTRL",
          "adv",
          "adv",
          "low",
          "adv",
          "CTRL",
          "CTRL",
          "CTRL",
          "CTRL",
          "CTRL",
          "med",
          "CTRL",
          "CTRL",
          "CTRL",
          "CTRL",
          "low",
          "CTRL",
          "CTRL",
          "CTRL",
          "CTRL",
          "CTRL",
          "CTRL",
          "CTRL",
          "CTRL",
          "CTRL",
          "CTRL",
          "CTRL",
          "CTRL",
          "CTRL",
          "CTRL",
          "CTRL",
          "CTRL",
          "CTRL",
          "CTRL",
          "CTRL",
          "CTRL",
          "CTRL"
         ],
         "xaxis": "x4",
         "yaxis": "y4"
        },
        {
         "marker": {
          "color": "#D1D1D1"
         },
         "name": "T2*w",
         "showlegend": false,
         "type": "histogram",
         "x": [
          "adv",
          "adv",
          "med",
          "med",
          "med",
          "low",
          "med",
          "adv",
          "med",
          "adv",
          "low",
          "low",
          "low",
          "low",
          "CTRL",
          "adv",
          "CTRL",
          "med",
          "adv",
          "low",
          "adv",
          "med",
          "med",
          "med",
          "adv",
          "adv",
          "CTRL",
          "CTRL",
          "med",
          "low",
          "med",
          "low",
          "CTRL",
          "adv",
          "low",
          "med",
          "low",
          "low",
          "adv",
          "adv",
          "low",
          "adv",
          "med",
          "med",
          "low",
          "med",
          "med",
          "adv",
          "low",
          "low",
          "low",
          "low",
          "low",
          "med",
          "low",
          "adv",
          "adv",
          "med",
          "CTRL",
          "adv",
          "adv",
          "low",
          "adv",
          "CTRL",
          "CTRL",
          "CTRL",
          "CTRL",
          "CTRL",
          "med",
          "CTRL",
          "CTRL",
          "CTRL",
          "CTRL",
          "low",
          "CTRL",
          "CTRL",
          "CTRL",
          "CTRL",
          "CTRL",
          "CTRL",
          "CTRL",
          "CTRL",
          "CTRL",
          "CTRL",
          "CTRL",
          "CTRL",
          "CTRL",
          "CTRL",
          "CTRL",
          "CTRL",
          "CTRL",
          "CTRL",
          "CTRL",
          "CTRL",
          "CTRL"
         ],
         "xaxis": "x4",
         "yaxis": "y4"
        }
       ],
       "layout": {
        "height": 1000,
        "images": [
         {
          "layer": "below",
          "sizex": 1.15,
          "sizey": 4.2,
          "source": "Figure1_template.png",
          "x": -0.12,
          "xanchor": "left",
          "y": 1.1,
          "yanchor": "top"
         }
        ],
        "legend": {
         "orientation": "h",
         "x": 0.5,
         "xanchor": "center",
         "y": 0.25,
         "yanchor": "bottom"
        },
        "plot_bgcolor": "white",
        "template": {
         "data": {
          "bar": [
           {
            "error_x": {
             "color": "#2a3f5f"
            },
            "error_y": {
             "color": "#2a3f5f"
            },
            "marker": {
             "line": {
              "color": "#E5ECF6",
              "width": 0.5
             },
             "pattern": {
              "fillmode": "overlay",
              "size": 10,
              "solidity": 0.2
             }
            },
            "type": "bar"
           }
          ],
          "barpolar": [
           {
            "marker": {
             "line": {
              "color": "#E5ECF6",
              "width": 0.5
             },
             "pattern": {
              "fillmode": "overlay",
              "size": 10,
              "solidity": 0.2
             }
            },
            "type": "barpolar"
           }
          ],
          "carpet": [
           {
            "aaxis": {
             "endlinecolor": "#2a3f5f",
             "gridcolor": "white",
             "linecolor": "white",
             "minorgridcolor": "white",
             "startlinecolor": "#2a3f5f"
            },
            "baxis": {
             "endlinecolor": "#2a3f5f",
             "gridcolor": "white",
             "linecolor": "white",
             "minorgridcolor": "white",
             "startlinecolor": "#2a3f5f"
            },
            "type": "carpet"
           }
          ],
          "choropleth": [
           {
            "colorbar": {
             "outlinewidth": 0,
             "ticks": ""
            },
            "type": "choropleth"
           }
          ],
          "contour": [
           {
            "colorbar": {
             "outlinewidth": 0,
             "ticks": ""
            },
            "colorscale": [
             [
              0,
              "#0d0887"
             ],
             [
              0.1111111111111111,
              "#46039f"
             ],
             [
              0.2222222222222222,
              "#7201a8"
             ],
             [
              0.3333333333333333,
              "#9c179e"
             ],
             [
              0.4444444444444444,
              "#bd3786"
             ],
             [
              0.5555555555555556,
              "#d8576b"
             ],
             [
              0.6666666666666666,
              "#ed7953"
             ],
             [
              0.7777777777777778,
              "#fb9f3a"
             ],
             [
              0.8888888888888888,
              "#fdca26"
             ],
             [
              1,
              "#f0f921"
             ]
            ],
            "type": "contour"
           }
          ],
          "contourcarpet": [
           {
            "colorbar": {
             "outlinewidth": 0,
             "ticks": ""
            },
            "type": "contourcarpet"
           }
          ],
          "heatmap": [
           {
            "colorbar": {
             "outlinewidth": 0,
             "ticks": ""
            },
            "colorscale": [
             [
              0,
              "#0d0887"
             ],
             [
              0.1111111111111111,
              "#46039f"
             ],
             [
              0.2222222222222222,
              "#7201a8"
             ],
             [
              0.3333333333333333,
              "#9c179e"
             ],
             [
              0.4444444444444444,
              "#bd3786"
             ],
             [
              0.5555555555555556,
              "#d8576b"
             ],
             [
              0.6666666666666666,
              "#ed7953"
             ],
             [
              0.7777777777777778,
              "#fb9f3a"
             ],
             [
              0.8888888888888888,
              "#fdca26"
             ],
             [
              1,
              "#f0f921"
             ]
            ],
            "type": "heatmap"
           }
          ],
          "histogram": [
           {
            "marker": {
             "pattern": {
              "fillmode": "overlay",
              "size": 10,
              "solidity": 0.2
             }
            },
            "type": "histogram"
           }
          ],
          "histogram2d": [
           {
            "colorbar": {
             "outlinewidth": 0,
             "ticks": ""
            },
            "colorscale": [
             [
              0,
              "#0d0887"
             ],
             [
              0.1111111111111111,
              "#46039f"
             ],
             [
              0.2222222222222222,
              "#7201a8"
             ],
             [
              0.3333333333333333,
              "#9c179e"
             ],
             [
              0.4444444444444444,
              "#bd3786"
             ],
             [
              0.5555555555555556,
              "#d8576b"
             ],
             [
              0.6666666666666666,
              "#ed7953"
             ],
             [
              0.7777777777777778,
              "#fb9f3a"
             ],
             [
              0.8888888888888888,
              "#fdca26"
             ],
             [
              1,
              "#f0f921"
             ]
            ],
            "type": "histogram2d"
           }
          ],
          "histogram2dcontour": [
           {
            "colorbar": {
             "outlinewidth": 0,
             "ticks": ""
            },
            "colorscale": [
             [
              0,
              "#0d0887"
             ],
             [
              0.1111111111111111,
              "#46039f"
             ],
             [
              0.2222222222222222,
              "#7201a8"
             ],
             [
              0.3333333333333333,
              "#9c179e"
             ],
             [
              0.4444444444444444,
              "#bd3786"
             ],
             [
              0.5555555555555556,
              "#d8576b"
             ],
             [
              0.6666666666666666,
              "#ed7953"
             ],
             [
              0.7777777777777778,
              "#fb9f3a"
             ],
             [
              0.8888888888888888,
              "#fdca26"
             ],
             [
              1,
              "#f0f921"
             ]
            ],
            "type": "histogram2dcontour"
           }
          ],
          "mesh3d": [
           {
            "colorbar": {
             "outlinewidth": 0,
             "ticks": ""
            },
            "type": "mesh3d"
           }
          ],
          "parcoords": [
           {
            "line": {
             "colorbar": {
              "outlinewidth": 0,
              "ticks": ""
             }
            },
            "type": "parcoords"
           }
          ],
          "pie": [
           {
            "automargin": true,
            "type": "pie"
           }
          ],
          "scatter": [
           {
            "fillpattern": {
             "fillmode": "overlay",
             "size": 10,
             "solidity": 0.2
            },
            "type": "scatter"
           }
          ],
          "scatter3d": [
           {
            "line": {
             "colorbar": {
              "outlinewidth": 0,
              "ticks": ""
             }
            },
            "marker": {
             "colorbar": {
              "outlinewidth": 0,
              "ticks": ""
             }
            },
            "type": "scatter3d"
           }
          ],
          "scattercarpet": [
           {
            "marker": {
             "colorbar": {
              "outlinewidth": 0,
              "ticks": ""
             }
            },
            "type": "scattercarpet"
           }
          ],
          "scattergeo": [
           {
            "marker": {
             "colorbar": {
              "outlinewidth": 0,
              "ticks": ""
             }
            },
            "type": "scattergeo"
           }
          ],
          "scattergl": [
           {
            "marker": {
             "colorbar": {
              "outlinewidth": 0,
              "ticks": ""
             }
            },
            "type": "scattergl"
           }
          ],
          "scattermap": [
           {
            "marker": {
             "colorbar": {
              "outlinewidth": 0,
              "ticks": ""
             }
            },
            "type": "scattermap"
           }
          ],
          "scattermapbox": [
           {
            "marker": {
             "colorbar": {
              "outlinewidth": 0,
              "ticks": ""
             }
            },
            "type": "scattermapbox"
           }
          ],
          "scatterpolar": [
           {
            "marker": {
             "colorbar": {
              "outlinewidth": 0,
              "ticks": ""
             }
            },
            "type": "scatterpolar"
           }
          ],
          "scatterpolargl": [
           {
            "marker": {
             "colorbar": {
              "outlinewidth": 0,
              "ticks": ""
             }
            },
            "type": "scatterpolargl"
           }
          ],
          "scatterternary": [
           {
            "marker": {
             "colorbar": {
              "outlinewidth": 0,
              "ticks": ""
             }
            },
            "type": "scatterternary"
           }
          ],
          "surface": [
           {
            "colorbar": {
             "outlinewidth": 0,
             "ticks": ""
            },
            "colorscale": [
             [
              0,
              "#0d0887"
             ],
             [
              0.1111111111111111,
              "#46039f"
             ],
             [
              0.2222222222222222,
              "#7201a8"
             ],
             [
              0.3333333333333333,
              "#9c179e"
             ],
             [
              0.4444444444444444,
              "#bd3786"
             ],
             [
              0.5555555555555556,
              "#d8576b"
             ],
             [
              0.6666666666666666,
              "#ed7953"
             ],
             [
              0.7777777777777778,
              "#fb9f3a"
             ],
             [
              0.8888888888888888,
              "#fdca26"
             ],
             [
              1,
              "#f0f921"
             ]
            ],
            "type": "surface"
           }
          ],
          "table": [
           {
            "cells": {
             "fill": {
              "color": "#EBF0F8"
             },
             "line": {
              "color": "white"
             }
            },
            "header": {
             "fill": {
              "color": "#C8D4E3"
             },
             "line": {
              "color": "white"
             }
            },
            "type": "table"
           }
          ]
         },
         "layout": {
          "annotationdefaults": {
           "arrowcolor": "#2a3f5f",
           "arrowhead": 0,
           "arrowwidth": 1
          },
          "autotypenumbers": "strict",
          "coloraxis": {
           "colorbar": {
            "outlinewidth": 0,
            "ticks": ""
           }
          },
          "colorscale": {
           "diverging": [
            [
             0,
             "#8e0152"
            ],
            [
             0.1,
             "#c51b7d"
            ],
            [
             0.2,
             "#de77ae"
            ],
            [
             0.3,
             "#f1b6da"
            ],
            [
             0.4,
             "#fde0ef"
            ],
            [
             0.5,
             "#f7f7f7"
            ],
            [
             0.6,
             "#e6f5d0"
            ],
            [
             0.7,
             "#b8e186"
            ],
            [
             0.8,
             "#7fbc41"
            ],
            [
             0.9,
             "#4d9221"
            ],
            [
             1,
             "#276419"
            ]
           ],
           "sequential": [
            [
             0,
             "#0d0887"
            ],
            [
             0.1111111111111111,
             "#46039f"
            ],
            [
             0.2222222222222222,
             "#7201a8"
            ],
            [
             0.3333333333333333,
             "#9c179e"
            ],
            [
             0.4444444444444444,
             "#bd3786"
            ],
            [
             0.5555555555555556,
             "#d8576b"
            ],
            [
             0.6666666666666666,
             "#ed7953"
            ],
            [
             0.7777777777777778,
             "#fb9f3a"
            ],
            [
             0.8888888888888888,
             "#fdca26"
            ],
            [
             1,
             "#f0f921"
            ]
           ],
           "sequentialminus": [
            [
             0,
             "#0d0887"
            ],
            [
             0.1111111111111111,
             "#46039f"
            ],
            [
             0.2222222222222222,
             "#7201a8"
            ],
            [
             0.3333333333333333,
             "#9c179e"
            ],
            [
             0.4444444444444444,
             "#bd3786"
            ],
            [
             0.5555555555555556,
             "#d8576b"
            ],
            [
             0.6666666666666666,
             "#ed7953"
            ],
            [
             0.7777777777777778,
             "#fb9f3a"
            ],
            [
             0.8888888888888888,
             "#fdca26"
            ],
            [
             1,
             "#f0f921"
            ]
           ]
          },
          "colorway": [
           "#636efa",
           "#EF553B",
           "#00cc96",
           "#ab63fa",
           "#FFA15A",
           "#19d3f3",
           "#FF6692",
           "#B6E880",
           "#FF97FF",
           "#FECB52"
          ],
          "font": {
           "color": "#2a3f5f"
          },
          "geo": {
           "bgcolor": "white",
           "lakecolor": "white",
           "landcolor": "#E5ECF6",
           "showlakes": true,
           "showland": true,
           "subunitcolor": "white"
          },
          "hoverlabel": {
           "align": "left"
          },
          "hovermode": "closest",
          "mapbox": {
           "style": "light"
          },
          "paper_bgcolor": "white",
          "plot_bgcolor": "#E5ECF6",
          "polar": {
           "angularaxis": {
            "gridcolor": "white",
            "linecolor": "white",
            "ticks": ""
           },
           "bgcolor": "#E5ECF6",
           "radialaxis": {
            "gridcolor": "white",
            "linecolor": "white",
            "ticks": ""
           }
          },
          "scene": {
           "xaxis": {
            "backgroundcolor": "#E5ECF6",
            "gridcolor": "white",
            "gridwidth": 2,
            "linecolor": "white",
            "showbackground": true,
            "ticks": "",
            "zerolinecolor": "white"
           },
           "yaxis": {
            "backgroundcolor": "#E5ECF6",
            "gridcolor": "white",
            "gridwidth": 2,
            "linecolor": "white",
            "showbackground": true,
            "ticks": "",
            "zerolinecolor": "white"
           },
           "zaxis": {
            "backgroundcolor": "#E5ECF6",
            "gridcolor": "white",
            "gridwidth": 2,
            "linecolor": "white",
            "showbackground": true,
            "ticks": "",
            "zerolinecolor": "white"
           }
          },
          "shapedefaults": {
           "line": {
            "color": "#2a3f5f"
           }
          },
          "ternary": {
           "aaxis": {
            "gridcolor": "white",
            "linecolor": "white",
            "ticks": ""
           },
           "baxis": {
            "gridcolor": "white",
            "linecolor": "white",
            "ticks": ""
           },
           "bgcolor": "#E5ECF6",
           "caxis": {
            "gridcolor": "white",
            "linecolor": "white",
            "ticks": ""
           }
          },
          "title": {
           "x": 0.05
          },
          "xaxis": {
           "automargin": true,
           "gridcolor": "white",
           "linecolor": "white",
           "ticks": "",
           "title": {
            "standoff": 15
           },
           "zerolinecolor": "white",
           "zerolinewidth": 2
          },
          "yaxis": {
           "automargin": true,
           "gridcolor": "white",
           "linecolor": "white",
           "ticks": "",
           "title": {
            "standoff": 15
           },
           "zerolinecolor": "white",
           "zerolinewidth": 2
          }
         }
        },
        "width": 1050,
        "xaxis": {
         "anchor": "y",
         "domain": [
          0,
          0.45
         ]
        },
        "xaxis2": {
         "anchor": "y2",
         "domain": [
          0.55,
          1
         ]
        },
        "xaxis3": {
         "anchor": "y3",
         "categoryarray": [
          "35-39",
          "40-44",
          "45-49",
          "50-54",
          "55-59",
          "60-64",
          "65-69",
          "70-74",
          "75-79",
          "80-84"
         ],
         "categoryorder": "array",
         "domain": [
          0,
          0.45
         ],
         "gridwidth": 0.5,
         "tickangle": -45,
         "title": {
          "text": "Age"
         }
        },
        "xaxis4": {
         "anchor": "y4",
         "categoryarray": [
          "CTRL",
          "low",
          "med",
          "adv"
         ],
         "categoryorder": "array",
         "domain": [
          0.55,
          1
         ],
         "gridwidth": 0.5,
         "tickangle": 0,
         "ticktext": [
          "Controls",
          "Low PD",
          "Med PD",
          "Adv PD"
         ],
         "tickvals": [
          0,
          1,
          2,
          3
         ],
         "title": {
          "text": "Subject Categories"
         }
        },
        "yaxis": {
         "anchor": "x",
         "domain": [
          0.3625,
          1
         ]
        },
        "yaxis2": {
         "anchor": "x2",
         "domain": [
          0.3625,
          1
         ]
        },
        "yaxis3": {
         "anchor": "x3",
         "domain": [
          0,
          0.2125
         ],
         "gridcolor": "lightgray",
         "gridwidth": 0.5,
         "showgrid": true,
         "title": {
          "text": "Number of subjects"
         }
        },
        "yaxis4": {
         "anchor": "x4",
         "domain": [
          0,
          0.2125
         ],
         "gridcolor": "lightgray",
         "gridwidth": 0.5,
         "showgrid": true,
         "title": {
          "text": "Number of subjects"
         }
        }
       }
      }
     },
     "metadata": {},
     "output_type": "display_data"
    },
    {
     "data": {
      "text/plain": [
       "'temp-plot.html'"
      ]
     },
     "execution_count": 2,
     "metadata": {},
     "output_type": "execute_result"
    }
   ],
   "source": [
    "#| label: fig1cell\n",
    "\n",
    "import plotly.express as px\n",
    "from plotly.offline import plot\n",
    "from IPython.core.display import HTML\n",
    "import plotly.graph_objects as go\n",
    "from plotly.subplots import make_subplots\n",
    "import pandas as pd\n",
    "import base64\n",
    "\n",
    "# Example dataset \n",
    "df = pd.read_csv('../data/parkinsons-spinalcord-mri-metrics/data/participants.csv')\n",
    "\n",
    "# Add column for age groups\n",
    "age_group_labels_list = ['35-39', '40-44', '45-49', '50-54', '55-59', '60-64', '65-69', '70-74', '75-79', '80-84']\n",
    "df['age_groups'] = pd.cut(df['age'], bins=[35, 40, 45, 50, 55, 60, 65, 70, 75, 80, 85], labels=age_group_labels_list)\n",
    "\n",
    "# Create list to specify the order of the UPDRSIII groups\n",
    "UPDRS_group_labels_list = ['CTRL', 'low', 'med', 'adv']\n",
    "UPDRS_group_labels_ticks = ['Controls', 'Low PD', 'Med PD', 'Adv PD'] # Add custom text for plotting\n",
    "\n",
    "# Divide the data based on if the modality was used for each subject\n",
    "df_DWI = df[df['DWI'] == 'Y']\n",
    "df_MTR = df[df['MTR'] == 'Y']\n",
    "df_T2star = df[df['T2star'] == 'Y']\n",
    "\n",
    "# Create subplots: 1 row, 2 columns\n",
    "fig = make_subplots(rows=2, cols=2, row_heights=[0.75, 0.25], column_widths=[0.5, 0.5],)\n",
    "\n",
    "# Figure dimensions\n",
    "fig.update_layout(width=1050, height=1000)\n",
    "\n",
    "# Load static background image and encode as base64\n",
    "with open(\"Figure1_template.png\", \"rb\") as image_file:\n",
    "    encoded_image = base64.b64encode(image_file.read()).decode()\n",
    "\n",
    "### ADD STATIC BACKGROUND IMAGE ###\n",
    "fig.update_layout(\n",
    "    images=[dict(\n",
    "        source=\"data:image/png;base64,\" + encoded_image,\n",
    "        x=-0.12,\n",
    "        y=1.1,\n",
    "        xanchor=\"left\",\n",
    "        yanchor=\"top\",\n",
    "        sizex=1.15,\n",
    "        sizey=4.2, \n",
    "        layer=\"below\",  \n",
    "    )],\n",
    ")\n",
    "\n",
    "### SUBPLOT 1 ###\n",
    "\n",
    "# Add histogram for DWI\n",
    "fig.add_trace(go.Histogram(\n",
    "    x=df_DWI['age_groups'], \n",
    "    name='DWI', \n",
    "    marker=dict(color='#1C5F82'),\n",
    "    showlegend=True\n",
    "    ),\n",
    "    row=2, col=1\n",
    ")\n",
    "\n",
    "# Add histogram for MTR\n",
    "fig.add_trace(go.Histogram(\n",
    "    x=df_MTR['age_groups'], \n",
    "    name='MTR', \n",
    "    marker=dict(color='black'),\n",
    "    showlegend=True\n",
    "    ), \n",
    "    row=2, col=1\n",
    ")\n",
    "\n",
    "# Add histogram for T2star\n",
    "fig.add_trace(go.Histogram(\n",
    "    x=df_T2star['age_groups'], \n",
    "    name='T2*w', \n",
    "    marker=dict(color='#D1D1D1'),\n",
    "    showlegend=True\n",
    "    ), \n",
    "    row=2, col=1\n",
    ")\n",
    "\n",
    "### SUBPLOT 2 ###\n",
    "\n",
    "# Add histogram for DWI\n",
    "fig.add_trace(go.Histogram(\n",
    "    x=df_DWI['UPDRSIII_group'], \n",
    "    name='DWI', \n",
    "    marker=dict(color='#1C5F82'),\n",
    "    showlegend=False\n",
    "    ),\n",
    "    row=2, col=2\n",
    ")\n",
    "\n",
    "# Add histogram for MTR\n",
    "fig.add_trace(go.Histogram(\n",
    "    x=df_MTR['UPDRSIII_group'], \n",
    "    name='MTR', \n",
    "    marker=dict(color='black'),\n",
    "    showlegend=False\n",
    "    ), \n",
    "    row=2, col=2\n",
    ")\n",
    "\n",
    "# Add histogram for T2star\n",
    "fig.add_trace(go.Histogram(\n",
    "    x=df_T2star['UPDRSIII_group'], \n",
    "    name='T2*w', \n",
    "    marker=dict(color='#D1D1D1'),\n",
    "    showlegend=False\n",
    "    ), \n",
    "    row=2, col=2\n",
    ")\n",
    "\n",
    "fig.update_layout(\n",
    "    legend=dict(\n",
    "        orientation=\"h\", \n",
    "        yanchor=\"bottom\", \n",
    "        y=0.25, \n",
    "        xanchor=\"center\",  \n",
    "        x=0.5\n",
    "    ),\n",
    "    plot_bgcolor='white',\n",
    ")\n",
    "\n",
    "# Update axis properties for each subplot\n",
    "fig.update_xaxes(\n",
    "    title=\"Age\",\n",
    "    categoryorder=\"array\", \n",
    "    categoryarray=age_group_labels_list,  \n",
    "    tickangle=-45,\n",
    "    gridwidth=0.5,\n",
    "    row=2, col=1 \n",
    ")\n",
    "\n",
    "fig.update_xaxes(\n",
    "    title=\"Subject Categories\",\n",
    "    categoryorder=\"array\",\n",
    "    categoryarray=UPDRS_group_labels_list, \n",
    "    tickvals=list(range(len(UPDRS_group_labels_list))),  # Specify tick positions\n",
    "    ticktext=list(UPDRS_group_labels_ticks),  # Provide custom text for each tick\n",
    "    tickangle=0,\n",
    "    gridwidth=0.5,\n",
    "    row=2, col=2  \n",
    ")\n",
    "\n",
    "fig.update_yaxes(\n",
    "    title=\"Number of subjects\",\n",
    "    showgrid=True,  \n",
    "    gridcolor='lightgray', \n",
    "    gridwidth=0.5,\n",
    "    row=2, col=1  \n",
    ")\n",
    "\n",
    "fig.update_yaxes( \n",
    "    title=\"Number of subjects\",\n",
    "    showgrid=True,  \n",
    "    gridcolor='lightgray',\n",
    "    gridwidth=0.5,\n",
    "    row=2, col=2  \n",
    ")\n",
    "\n",
    "fig.show()\n",
    "plot(fig, auto_open=True)"
   ]
  }
 ],
 "metadata": {
  "kernelspec": {
   "display_name": "Python 3",
   "language": "python",
   "name": "python3"
  },
  "language_info": {
   "codemirror_mode": {
    "name": "ipython",
    "version": 3
   },
   "file_extension": ".py",
   "mimetype": "text/x-python",
   "name": "python",
   "nbconvert_exporter": "python",
   "pygments_lexer": "ipython3",
   "version": "3.12.2"
  }
 },
 "nbformat": 4,
 "nbformat_minor": 5
}
