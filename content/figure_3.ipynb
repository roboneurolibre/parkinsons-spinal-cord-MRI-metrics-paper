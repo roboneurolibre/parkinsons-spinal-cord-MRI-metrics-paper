{
 "cells": [
  {
   "cell_type": "code",
   "execution_count": null,
   "id": "fb688a53-193c-4374-bd9e-8f67ac59e589",
   "metadata": {
    "tags": []
   },
   "outputs": [],
   "source": [
    "#| label: fig3cell\n",
    "\n",
    "import plotly.express as px\n",
    "from plotly.offline import plot\n",
    "from IPython.core.display import HTML\n",
    "from PIL import Image\n",
    "\n",
    "# Load the image using PIL\n",
    "img = Image.open('Figure3.png')\n",
    "\n",
    "# Display the image using px.imshow\n",
    "fig = px.imshow(img)\n",
    "\n",
    "# Remove axes and set the dimensions\n",
    "fig.update_layout(\n",
    "    xaxis_showgrid=False,  \n",
    "    yaxis_showgrid=False,  \n",
    "    xaxis_visible=False,  \n",
    "    yaxis_visible=False,  \n",
    "    width=900, \n",
    "    height=700, \n",
    "    margin=dict(t=0, l=0, r=0, b=0),\n",
    ")\n",
    "\n",
    "fig.show() "
   ]
  }
 ],
 "metadata": {
  "kernelspec": {
   "display_name": "Python 3 (ipykernel)",
   "language": "python",
   "name": "python3"
  },
  "language_info": {
   "codemirror_mode": {
    "name": "ipython",
    "version": 3
   },
   "file_extension": ".py",
   "mimetype": "text/x-python",
   "name": "python",
   "nbconvert_exporter": "python",
   "pygments_lexer": "ipython3",
   "version": "3.10.4"
  }
 },
 "nbformat": 4,
 "nbformat_minor": 5
}
