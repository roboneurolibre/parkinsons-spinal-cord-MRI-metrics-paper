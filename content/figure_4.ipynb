{
 "cells": [
  {
   "cell_type": "code",
   "execution_count": 5,
   "id": "fb688a53-193c-4374-bd9e-8f67ac59e589",
   "metadata": {
    "tags": []
   },
   "outputs": [
    {
     "name": "stdout",
     "output_type": "stream",
     "text": [
      "      SCT Version MRI_metric VertLevel         Label        WA   Subject  \\\n",
      "5112          6.1     T2star      2:05  white matter  0.971560  sub-P003   \n",
      "5113          6.1     T2star      2:05  white matter  0.932687  sub-P009   \n",
      "5114          6.1     T2star      2:05  white matter  0.932031  sub-P011   \n",
      "5115          6.1     T2star      2:05  white matter  0.919731  sub-P013   \n",
      "5116          6.1     T2star      2:05  white matter  0.918402  sub-P014   \n",
      "...           ...        ...       ...           ...       ...       ...   \n",
      "5214          6.1     T2star      2:05  white matter  0.976560  sub-A055   \n",
      "5215          6.1     T2star      2:05  white matter  0.971181  sub-A012   \n",
      "5216          6.1     T2star      2:05  white matter  0.965564  sub-A015   \n",
      "5217          6.1     T2star      2:05  white matter  0.911703  sub-A047   \n",
      "5218          6.1     T2star      2:05  white matter  0.955927  sub-A022   \n",
      "\n",
      "     UPDRS_class_bis CTRL_or_PD  UPDRSIII_total   Age  \n",
      "5112             adv         PD            37.0  70.0  \n",
      "5113             adv         PD            59.0  69.0  \n",
      "5114             med         PD            22.0  64.0  \n",
      "5115             med         PD            29.0  65.0  \n",
      "5116             med         PD            27.0  66.0  \n",
      "...              ...        ...             ...   ...  \n",
      "5214             NaN       CTRL             NaN  52.0  \n",
      "5215             NaN       CTRL             NaN  77.0  \n",
      "5216             NaN       CTRL             NaN  79.0  \n",
      "5217             NaN       CTRL             NaN  53.0  \n",
      "5218             NaN       CTRL             NaN  55.0  \n",
      "\n",
      "[107 rows x 10 columns]\n"
     ]
    },
    {
     "data": {
      "application/vnd.plotly.v1+json": {
       "config": {
        "plotlyServerURL": "https://plot.ly"
       },
       "data": [
        {
         "boxpoints": "all",
         "fillcolor": "steelblue",
         "jitter": 0.5,
         "line": {
          "width": 1.5
         },
         "marker": {
          "color": "#00517F",
          "size": 3
         },
         "pointpos": 0,
         "type": "box",
         "whiskerwidth": 0.4,
         "x": [],
         "xaxis": "x7",
         "y": [],
         "yaxis": "y7"
        },
        {
         "boxpoints": "all",
         "fillcolor": "#F0B0B0",
         "jitter": 0.5,
         "line": {
          "width": 1.5
         },
         "marker": {
          "color": "lightcoral",
          "size": 3
         },
         "pointpos": 0,
         "type": "box",
         "whiskerwidth": 0.4,
         "x": [],
         "xaxis": "x7",
         "y": [],
         "yaxis": "y7"
        },
        {
         "boxpoints": "all",
         "fillcolor": "lightcoral",
         "jitter": 0.5,
         "line": {
          "width": 1.5
         },
         "marker": {
          "color": "#B4464F",
          "size": 3
         },
         "pointpos": 0,
         "type": "box",
         "whiskerwidth": 0.4,
         "x": [],
         "xaxis": "x7",
         "y": [],
         "yaxis": "y7"
        },
        {
         "boxpoints": "all",
         "fillcolor": "#B4464F",
         "jitter": 0.5,
         "line": {
          "width": 1.5
         },
         "marker": {
          "color": "#5E000E",
          "size": 3
         },
         "pointpos": 0,
         "type": "box",
         "whiskerwidth": 0.4,
         "x": [],
         "xaxis": "x7",
         "y": [],
         "yaxis": "y7"
        },
        {
         "boxpoints": "all",
         "fillcolor": "steelblue",
         "jitter": 0.5,
         "line": {
          "width": 1.5
         },
         "marker": {
          "color": "#00517F",
          "size": 3
         },
         "pointpos": 0,
         "type": "box",
         "whiskerwidth": 0.4,
         "x": [
          "CTRL",
          "CTRL",
          "CTRL",
          "CTRL",
          "CTRL",
          "CTRL",
          "CTRL",
          "CTRL",
          "CTRL",
          "CTRL",
          "CTRL",
          "CTRL",
          "CTRL",
          "CTRL",
          "CTRL",
          "CTRL",
          "CTRL",
          "CTRL",
          "CTRL",
          "CTRL",
          "CTRL",
          "CTRL",
          "CTRL",
          "CTRL",
          "CTRL",
          "CTRL",
          "CTRL",
          "CTRL",
          "CTRL",
          "CTRL",
          "CTRL",
          "CTRL",
          "CTRL",
          "CTRL",
          "CTRL",
          "CTRL",
          "CTRL",
          "CTRL"
         ],
         "xaxis": "x11",
         "y": {
          "bdata": "WwOvJOZKTj9Km5iYqIpLP0ES1d87/1A/waLtW1cTTj/nNOXsmBhNPwnXq+GFIVA/MqBEb+TGTD+oKAZkibBMP+dyFgXg8Ek/3KFAIwE4UD867V4r97tNP9JimC8J+Us/5hMK9RrZSj9INPN3/tNOP/2fAOCR3ks/7qeo9dwUTz+syHvk9bFJP1kyUOQMb00/2LoEQhOqST+sAdjtpJ9PP94LmRmgrko/832ZcRihTz9m+MGMOINQP7WEk2wpq08/4u7w+nOhRz9nr96rzTROPybM6e/78Ek/mL6BEGOuST+J0SLEXQlJP0AdZpp2Uks/o1tHBs1vRz9+nuP8fWFKP/QDSk8A4U0/5mF4VwO1RD9nQPXDk9NKP5GdT85kwEg/c0v3r7amTD/DI7wApehLPw==",
          "dtype": "f8"
         },
         "yaxis": "y11"
        },
        {
         "boxpoints": "all",
         "fillcolor": "#F0B0B0",
         "jitter": 0.5,
         "line": {
          "width": 1.5
         },
         "marker": {
          "color": "lightcoral",
          "size": 3
         },
         "pointpos": 0,
         "type": "box",
         "whiskerwidth": 0.4,
         "x": [
          "low",
          "low",
          "low",
          "low",
          "low",
          "low",
          "low",
          "low",
          "low",
          "low",
          "low",
          "low",
          "low",
          "low",
          "low",
          "low",
          "low",
          "low",
          "low",
          "low",
          "low",
          "low",
          "low",
          "low"
         ],
         "xaxis": "x11",
         "y": {
          "bdata": "Jepbn5/NTT84/xRmWMdMP81FeW/XDlA/7wd22wkfTz9yG0eLt75NP6Gg7uU5gFA/zA9PuwcERD/E1C5XUxpQP8Cn9VuUCUo/ts45JCemSj8khV7xZ4dOP/JMFJPKI04/CFWnWVkIRj9MmpLu36NLP2E3S02rtkU/gO7n7hzFRz+nOBvmXG5GPy44FiMxkkQ/0XttenNfTj/lKbCiNAtMP6HGBtDEe0s/oK8r9i/6Tj9qEE5apMhLP7ZAPsXKmE0/",
          "dtype": "f8"
         },
         "yaxis": "y11"
        },
        {
         "boxpoints": "all",
         "fillcolor": "lightcoral",
         "jitter": 0.5,
         "line": {
          "width": 1.5
         },
         "marker": {
          "color": "#B4464F",
          "size": 3
         },
         "pointpos": 0,
         "type": "box",
         "whiskerwidth": 0.4,
         "x": [
          "med",
          "med",
          "med",
          "med",
          "med",
          "med",
          "med",
          "med",
          "med",
          "med",
          "med",
          "med",
          "med",
          "med",
          "med",
          "med",
          "med",
          "med",
          "med",
          "med",
          "med",
          "med"
         ],
         "xaxis": "x11",
         "y": {
          "bdata": "rsmwEHEBRT8yK6SUwWVGP2vHsU7FKFA/RSSgSEtzSD9FE/C3sk5JP0tjagGQyUg/FqqqtuwnSz9PeoGH2TNKP+6P2VQ7lUw/wq4HQpvkQz9nIcI+iARGP8vaNCN0sUg/beFT4jUNTD/DoeexjixOPzExjnhPcU4/TAkPOuvKTD9PkDsZ2ghNPx/WXdGUOkQ/J4d6uu1URj++CCKk0ZFKPxv9GfKQqE4/E8bzcgi3TT8=",
          "dtype": "f8"
         },
         "yaxis": "y11"
        },
        {
         "boxpoints": "all",
         "fillcolor": "#B4464F",
         "jitter": 0.5,
         "line": {
          "width": 1.5
         },
         "marker": {
          "color": "#5E000E",
          "size": 3
         },
         "pointpos": 0,
         "type": "box",
         "whiskerwidth": 0.4,
         "x": [
          "adv",
          "adv",
          "adv",
          "adv",
          "adv",
          "adv",
          "adv",
          "adv",
          "adv",
          "adv",
          "adv",
          "adv",
          "adv",
          "adv",
          "adv",
          "adv",
          "adv",
          "adv",
          "adv",
          "adv",
          "adv",
          "adv",
          "adv"
         ],
         "xaxis": "x11",
         "y": {
          "bdata": "u3pXNe/VSj/d8k94IutNP2oueTS89kg/TABwfz1FTz8vhfihgUFKP37uc5gJaE0/Le0bMvreSj+1HIC+QTxRP4CNR1DM30w/cjOVq0NhTD877QVzryRNP5I+NpSdKFA/zsi4k5zURj9AnUuhju9EP+5axnaMZUk/M/4fVYQDUD+56Fd/8/5JP4MVW8zFm0k/CUCcugQ9Sj+MQzAgEdlLPxrvKWHvw0Y/YfifNIiaTj+wSAd8YsNRPw==",
          "dtype": "f8"
         },
         "yaxis": "y11"
        },
        {
         "boxpoints": "all",
         "fillcolor": "steelblue",
         "jitter": 0.5,
         "line": {
          "width": 1.5
         },
         "marker": {
          "color": "#00517F",
          "size": 3
         },
         "pointpos": 0,
         "type": "box",
         "whiskerwidth": 0.4,
         "x": [
          "CTRL",
          "CTRL",
          "CTRL",
          "CTRL",
          "CTRL",
          "CTRL",
          "CTRL",
          "CTRL",
          "CTRL",
          "CTRL",
          "CTRL",
          "CTRL",
          "CTRL",
          "CTRL",
          "CTRL",
          "CTRL",
          "CTRL",
          "CTRL",
          "CTRL",
          "CTRL",
          "CTRL",
          "CTRL",
          "CTRL",
          "CTRL",
          "CTRL",
          "CTRL",
          "CTRL",
          "CTRL",
          "CTRL",
          "CTRL",
          "CTRL",
          "CTRL",
          "CTRL",
          "CTRL",
          "CTRL",
          "CTRL",
          "CTRL",
          "CTRL"
         ],
         "xaxis": "x15",
         "y": {
          "bdata": "qxNvG0hCWz8XX/EqJMZWP+FXQv2Ca1s/UDIgGJNAWz8gZiKxTNtZPx8Z6jFDQ1w/m5S3YP8uWT/NjkW0zAtYPy1tng5XE1M/z+J2fDxzXT8XIkc9u7FdPwoWZiXWd1g/VkQYAipjVj9aJPW3ZwpbP6GpQRKi7lY/sABQDGPnWj8OzYZGwZ1VPywTYlRwfVo/cKwh98h0VT/TvBu/ez1bPyGZlNZtvVc/wdrej1f3Wj9D3ObXIN1ZPyT6QOhcLls/4H1BSm1bVD9fptwzAXVZP4htDLMwQVY/josF5mopVT8yqEgbzeVUP9Xy9ix3glc/TeinmIDoVD/M4Xn6H5hXP1qwXIg4Slw/2siWYbOOUD+PMIYeo89WPz1Eutf97lM/a2IF6IxiWD+I+r1Kx2dVPw==",
          "dtype": "f8"
         },
         "yaxis": "y15"
        },
        {
         "boxpoints": "all",
         "fillcolor": "#F0B0B0",
         "jitter": 0.5,
         "line": {
          "width": 1.5
         },
         "marker": {
          "color": "lightcoral",
          "size": 3
         },
         "pointpos": 0,
         "type": "box",
         "whiskerwidth": 0.4,
         "x": [
          "low",
          "low",
          "low",
          "low",
          "low",
          "low",
          "low",
          "low",
          "low",
          "low",
          "low",
          "low",
          "low",
          "low",
          "low",
          "low",
          "low",
          "low",
          "low",
          "low",
          "low",
          "low",
          "low",
          "low"
         ],
         "xaxis": "x15",
         "y": {
          "bdata": "AaPLm8O1Wj+56xmAFflYP8VIrTJ+2ls/BTnr/Y0QWj8fCd0guJxbP62eWTOuj1k/f2AurJL9UD/GLCBZZUtbPwErczLyK1Y/OkV8ZMnVVT8HwHoHOLdbP8+097sN8Fg/slcO4ySDUj+ASYUMP5NYP2sGfnXRZ1I/EJa2WlVmUj8pDiYZx7VSP+8cESahAVA/GJVitH9/WT+I+0R1pStZP6xhShpfWFc/zNjkseXjWj8afqzqKZVXP9Pdf6hXcVo/",
          "dtype": "f8"
         },
         "yaxis": "y15"
        },
        {
         "boxpoints": "all",
         "fillcolor": "lightcoral",
         "jitter": 0.5,
         "line": {
          "width": 1.5
         },
         "marker": {
          "color": "#B4464F",
          "size": 3
         },
         "pointpos": 0,
         "type": "box",
         "whiskerwidth": 0.4,
         "x": [
          "med",
          "med",
          "med",
          "med",
          "med",
          "med",
          "med",
          "med",
          "med",
          "med",
          "med",
          "med",
          "med",
          "med",
          "med",
          "med",
          "med",
          "med",
          "med",
          "med",
          "med",
          "med"
         ],
         "xaxis": "x15",
         "y": {
          "bdata": "NV+4gozRUT9Cqy4ILlRTP4Sq2GXmbFs/Dvm9BqpqVT+YzfMSKe5UP0pblI2STVU/xW/a8f72Vz/NsxiQS4lVP15CPTF2uFk/tVkYye5nUD+a/qgqjchSP8b1J6UrzlQ/Bqtj9URgVz8kJBRT0IpbP6RQTmgdS1s//72Du42vWD8HKUBgWt5ZPxf7ClMNW1A/ejI8TLQRUz/kmDRfiElWP4clcZhgH1o/fv1cqXGzWz8=",
          "dtype": "f8"
         },
         "yaxis": "y15"
        },
        {
         "boxpoints": "all",
         "fillcolor": "#B4464F",
         "jitter": 0.5,
         "line": {
          "width": 1.5
         },
         "marker": {
          "color": "#5E000E",
          "size": 3
         },
         "pointpos": 0,
         "type": "box",
         "whiskerwidth": 0.4,
         "x": [
          "adv",
          "adv",
          "adv",
          "adv",
          "adv",
          "adv",
          "adv",
          "adv",
          "adv",
          "adv",
          "adv",
          "adv",
          "adv",
          "adv",
          "adv",
          "adv",
          "adv",
          "adv",
          "adv",
          "adv",
          "adv",
          "adv",
          "adv"
         ],
         "xaxis": "x15",
         "y": {
          "bdata": "YxL2ObNnUz8tL9Agy6NXPwsWRxgYD1U/Lw16cQ0sWj8t1j2g1q5VP3r4Se35JVg/iyl8qeQLVj/S5kfiNjFcP5uO2qZzo1o/v/lyPvN0WT8M1XnGUchUPwhBBY+IjFs/IPPlK5/qUj8WO3r5JhhRP7zY3BrWKVY/K7gx03zpWz/X2cgpxYRUP/CqXcz8jlQ/BkN7x7nlVD+CfgxBASBWPxUl6eZXfVI/YfADbBRNWD/wLQqN8I5dPw==",
          "dtype": "f8"
         },
         "yaxis": "y15"
        },
        {
         "boxpoints": "all",
         "fillcolor": "steelblue",
         "jitter": 0.5,
         "line": {
          "width": 1.5
         },
         "marker": {
          "color": "#00517F",
          "size": 3
         },
         "pointpos": 0,
         "type": "box",
         "whiskerwidth": 0.4,
         "x": [
          "CTRL",
          "CTRL",
          "CTRL",
          "CTRL",
          "CTRL",
          "CTRL",
          "CTRL",
          "CTRL",
          "CTRL",
          "CTRL",
          "CTRL",
          "CTRL",
          "CTRL",
          "CTRL",
          "CTRL",
          "CTRL",
          "CTRL",
          "CTRL",
          "CTRL",
          "CTRL",
          "CTRL",
          "CTRL",
          "CTRL",
          "CTRL",
          "CTRL",
          "CTRL",
          "CTRL",
          "CTRL",
          "CTRL",
          "CTRL",
          "CTRL",
          "CTRL",
          "CTRL",
          "CTRL",
          "CTRL",
          "CTRL",
          "CTRL",
          "CTRL"
         ],
         "xaxis": "x19",
         "y": {
          "bdata": "XHGXGxEuQj/dBrXf2olCP2SdHbUxkkc/00HE8W/cQT87aTWymMlBP/xrGXNOIUQ/q95tIFX7QT8vrsNhAf1CP7D94wv61UM/RsErAMg0Qz97Bs3hbNA9P6+/HY+2fUE/f1y1R3ziQT+Q6xbplDNDP9wEoNA530I/uLkNd+m3Qz/03zKQL+1AP9z29hQkqUE/1Wvl61MKQT+vRail+zFEP6d7DyqASEA/LGKHGk16RD/0iSD0iqxHP+xMnDphUkQ/8crSp4UtPj86ohA7MtpDPy6G8SFIqEA/01PcnyhcQT8gD62wQahAP473gs07eUE/T0KG4WV+PD/dmvXbN/Q/P5nSUxRKh0A/+xZ6HaEBPT+Obkqau21BP5/mnXCaMUE/wo7tH4WXQj+f+TxJMXVEPw==",
          "dtype": "f8"
         },
         "yaxis": "y19"
        },
        {
         "boxpoints": "all",
         "fillcolor": "#F0B0B0",
         "jitter": 0.5,
         "line": {
          "width": 1.5
         },
         "marker": {
          "color": "lightcoral",
          "size": 3
         },
         "pointpos": 0,
         "type": "box",
         "whiskerwidth": 0.4,
         "x": [
          "low",
          "low",
          "low",
          "low",
          "low",
          "low",
          "low",
          "low",
          "low",
          "low",
          "low",
          "low",
          "low",
          "low",
          "low",
          "low",
          "low",
          "low",
          "low",
          "low",
          "low",
          "low",
          "low",
          "low"
         ],
         "xaxis": "x19",
         "y": {
          "bdata": "Nzw+06v+QT8bkwUZ7zFCPyDK3QgHUkQ/4tJFywCeRD+K4SwdWgFBP7OEkWv+8Ec/YvHOs+8QOj+EUWyslANFP59QfVds4kA/VbL5PnAjQj8yxnP15BNCPx59hzOjRUQ/tE/ZRsISPT/xnVbZkOJAP0yZ5fxeVDw/Mw6GHldBQT+nCselit89P61uIB1Rsz0/JGMilq4PRD/OhOJrKOVAP8QJ3wpH4UE/IvB7LGGTQz8IWamvzRdCP7vEfGzX80E/",
          "dtype": "f8"
         },
         "yaxis": "y19"
        },
        {
         "boxpoints": "all",
         "fillcolor": "lightcoral",
         "jitter": 0.5,
         "line": {
          "width": 1.5
         },
         "marker": {
          "color": "#B4464F",
          "size": 3
         },
         "pointpos": 0,
         "type": "box",
         "whiskerwidth": 0.4,
         "x": [
          "med",
          "med",
          "med",
          "med",
          "med",
          "med",
          "med",
          "med",
          "med",
          "med",
          "med",
          "med",
          "med",
          "med",
          "med",
          "med",
          "med",
          "med",
          "med",
          "med",
          "med",
          "med"
         ],
         "xaxis": "x19",
         "y": {
          "bdata": "nCHgBjhhOz8Nrs2H5og8P76rPIZpDUU/tvcl8o+EPj9QT/QA4wdBP0n2VMOIwT8/2dBEDePEQD+uAOvgfMRBP4YVCc5iJ0E/015j6O/dOj/86TJBfHw8P2pSp48CPEA/Hica3ouzQj+ATse3BbhBP6M6prnYXkI/do5zLtSAQj/tcLiy665BPy+MA86j+Ts/gTD3lmDbPD+3tR0EMZFBP58X1b933UM/IWrxFRzfQD8=",
          "dtype": "f8"
         },
         "yaxis": "y19"
        },
        {
         "boxpoints": "all",
         "fillcolor": "#B4464F",
         "jitter": 0.5,
         "line": {
          "width": 1.5
         },
         "marker": {
          "color": "#5E000E",
          "size": 3
         },
         "pointpos": 0,
         "type": "box",
         "whiskerwidth": 0.4,
         "x": [
          "adv",
          "adv",
          "adv",
          "adv",
          "adv",
          "adv",
          "adv",
          "adv",
          "adv",
          "adv",
          "adv",
          "adv",
          "adv",
          "adv",
          "adv",
          "adv",
          "adv",
          "adv",
          "adv",
          "adv",
          "adv",
          "adv",
          "adv"
         ],
         "xaxis": "x19",
         "y": {
          "bdata": "tiUNljPZRD8evaeT6DxFP48yrRAAY0A/Q/Otzc67RD8csJflbLNBPz5wolES9kM/tvvMjpFCQj9R7Pl+kINHPyIHsL49rEA/6hQMMPEcQT/IkU1As+5GPzA5fkBR7UQ/LvEfiZmoPj+Z3q8WYJ48P0zi1wj33D8/dL/vURIhRD86hnnvpXlCP9ezC/ms2kE/hl6OPcx1Qj9SpRyCmaVDPyEG6i8cUT8/MQTs4reaRT8frAvnNrtHPw==",
          "dtype": "f8"
         },
         "yaxis": "y19"
        },
        {
         "boxpoints": "all",
         "fillcolor": "steelblue",
         "jitter": 0.5,
         "line": {
          "width": 1.5
         },
         "marker": {
          "color": "#00517F",
          "size": 3
         },
         "pointpos": 0,
         "type": "box",
         "whiskerwidth": 0.4,
         "x": [
          "CTRL",
          "CTRL",
          "CTRL",
          "CTRL",
          "CTRL",
          "CTRL",
          "CTRL",
          "CTRL",
          "CTRL",
          "CTRL",
          "CTRL",
          "CTRL",
          "CTRL",
          "CTRL",
          "CTRL",
          "CTRL",
          "CTRL",
          "CTRL",
          "CTRL",
          "CTRL",
          "CTRL",
          "CTRL",
          "CTRL",
          "CTRL",
          "CTRL",
          "CTRL",
          "CTRL",
          "CTRL",
          "CTRL",
          "CTRL",
          "CTRL",
          "CTRL",
          "CTRL",
          "CTRL",
          "CTRL",
          "CTRL",
          "CTRL",
          "CTRL"
         ],
         "xaxis": "x8",
         "y": {
          "bdata": "n+3vcUiYuD/jNfEGf1zHP7T+GjmgH8M/cu2cSixHtj/jIT1Z8ne8P9jJ/zU33ro/IyNv0pdSwD8e2+GYLeXCP2/Cq0+z7M4/EhRljX/BtD8I68dyh1etP1LPmexTGcA/nyMil2D6xD9F37RL4eK7P3VBAwVsdMQ/ypcGNMcovj+6SJIBT4PGPyHEfBbXOrg/RmpvKjGTxz8fizphLE29PyV1htKspr4/dvLsabwxvT+XjoCkZMa9P1/b07yAar0/8DlSqx8Dxz/FDyHwuM/BP5dzDVn7AMU/o+LF4x4ixz/iIUXKOg/HP9cchcOJ6sM/JLcm3ZaIxj+j8LV0wMbCP9GjrFZb7rQ/5+UnCjEt0D84xyMyWGPEP64Vi+TNj8o/pijZ4gGCuT9JPH1dtjjLPw==",
          "dtype": "f8"
         },
         "yaxis": "y8"
        },
        {
         "boxpoints": "all",
         "fillcolor": "#F0B0B0",
         "jitter": 0.5,
         "line": {
          "width": 1.5
         },
         "marker": {
          "color": "lightcoral",
          "size": 3
         },
         "pointpos": 0,
         "type": "box",
         "whiskerwidth": 0.4,
         "x": [
          "low",
          "low",
          "low",
          "low",
          "low",
          "low",
          "low",
          "low",
          "low",
          "low",
          "low",
          "low",
          "low",
          "low",
          "low",
          "low",
          "low",
          "low",
          "low",
          "low",
          "low",
          "low",
          "low",
          "low"
         ],
         "xaxis": "x8",
         "y": {
          "bdata": "Yu9qXnogvD9htK235PC+P8BCDJJD5rw/V9AhYfliwD9VG2TeH3m3P1sRDFK2qcQ/cEMInxhfzD/uwmIW0ki6P8wdUS9l0cQ/nqlR9DLdyD+W8+M05iO0PwkYWCVjRcE/S2pPZg/2zT8N5Akfcvy/P/6jEWEzqMs/69u5mLVAzj/+PUP7AkHJPyge7wxVfNA/vOGScfkAvT+sTI7B3tK9PxiT+aVQ5sM/VkiH9MysvD9yVsAUUO7APwTCorD4vr8/",
          "dtype": "f8"
         },
         "yaxis": "y8"
        },
        {
         "boxpoints": "all",
         "fillcolor": "lightcoral",
         "jitter": 0.5,
         "line": {
          "width": 1.5
         },
         "marker": {
          "color": "#B4464F",
          "size": 3
         },
         "pointpos": 0,
         "type": "box",
         "whiskerwidth": 0.4,
         "x": [
          "med",
          "med",
          "med",
          "med",
          "med",
          "med",
          "med",
          "med",
          "med",
          "med",
          "med",
          "med",
          "med",
          "med",
          "med",
          "med",
          "med",
          "med",
          "med",
          "med",
          "med",
          "med"
         ],
         "xaxis": "x8",
         "y": {
          "bdata": "37JrxJGcyD8u33R3D+PFPzjkVYypqr4/ZTWasoy6wz/FO4Mw/tDGP4oxJZxaWcU/2JmEAwi8wD/NkkzD+gPIP+FacZrTH74/MHqmS4qFzj9j7Zls1vXIP0D46L6wPcg/N8K+d31hxT9JkyoIIOC1P5nSMgZh5Lg/fOoe+mpewT/EWOh79KO9PxG1U8QAIdE/yBWQVrKsyT979XUJHIPGP/QZ7USLZMA/eCkN5sP0tj8=",
          "dtype": "f8"
         },
         "yaxis": "y8"
        },
        {
         "boxpoints": "all",
         "fillcolor": "#B4464F",
         "jitter": 0.5,
         "line": {
          "width": 1.5
         },
         "marker": {
          "color": "#5E000E",
          "size": 3
         },
         "pointpos": 0,
         "type": "box",
         "whiskerwidth": 0.4,
         "x": [
          "adv",
          "adv",
          "adv",
          "adv",
          "adv",
          "adv",
          "adv",
          "adv",
          "adv",
          "adv",
          "adv",
          "adv",
          "adv",
          "adv",
          "adv",
          "adv",
          "adv",
          "adv",
          "adv",
          "adv",
          "adv",
          "adv"
         ],
         "xaxis": "x8",
         "y": {
          "bdata": "9EUakwBgzT/40N0sYC3GPzopLO7II8Y/TFvn1byHvz83koCoZlzGP/Kwz+qE2sQ/UDGepm6lxD/qPySpcHe9P0Lt4vb+mLo/Fr4A83cMvT8SH0ePuRTKP3S1MVD7qNA/xhbEOGZ2xD/8FgBXcMe6P9JZxoO2p8s/FKQ4mGTcyT+C3EhQMUvGP5ts5SBGmsg/YHyUuxYHxz/+16LNvTzKP/A2xZzNDsY/Iqlu9lNYuj8=",
          "dtype": "f8"
         },
         "yaxis": "y8"
        },
        {
         "boxpoints": "all",
         "fillcolor": "steelblue",
         "jitter": 0.5,
         "line": {
          "width": 1.5
         },
         "marker": {
          "color": "#00517F",
          "size": 3
         },
         "pointpos": 0,
         "type": "box",
         "whiskerwidth": 0.4,
         "x": [
          "CTRL",
          "CTRL",
          "CTRL",
          "CTRL",
          "CTRL",
          "CTRL",
          "CTRL",
          "CTRL",
          "CTRL",
          "CTRL",
          "CTRL",
          "CTRL",
          "CTRL",
          "CTRL",
          "CTRL",
          "CTRL",
          "CTRL",
          "CTRL",
          "CTRL",
          "CTRL",
          "CTRL",
          "CTRL",
          "CTRL",
          "CTRL",
          "CTRL",
          "CTRL",
          "CTRL",
          "CTRL",
          "CTRL",
          "CTRL",
          "CTRL",
          "CTRL",
          "CTRL",
          "CTRL",
          "CTRL",
          "CTRL",
          "CTRL",
          "CTRL"
         ],
         "xaxis": "x12",
         "y": {
          "bdata": "NOBriQ7h2D/7rAyMtzPbPw1NEZRmaeA/9rp6Uny10T9VfCpEE8rQP6jsm8tykd0/pnBqi16y0j80HIqT30jWP/YQhX3Y/tc/1N+1xeF+2j+DwWWwCl3UP4XI8VxC0tI/7M1H0JqK0j+vPobdYyjYP5TKwHOChdo/o4eaG+X22z94D5jT2h7WP6ecuujnqtM/qaBHMeWI0j+h8DLzf0/aP9T/n67hrsw/3edyL6Kg3D/gHBi6vkHcPy9rETqwKNw/7tKV7v+a2j/iDe+Nr2rUP1vMqUaqbdg/8pljrklt1j9nVhzywiLYP8vCyq24FNE/gCIjW+6w1z/Av+UKH2zMP4CuPp15mdM/MDjto/831j9WO2dkwDTTP5vNps1/otU/5X5mlFfc1j9PQrYafBvWPw==",
          "dtype": "f8"
         },
         "yaxis": "y12"
        },
        {
         "boxpoints": "all",
         "fillcolor": "#F0B0B0",
         "jitter": 0.5,
         "line": {
          "width": 1.5
         },
         "marker": {
          "color": "lightcoral",
          "size": 3
         },
         "pointpos": 0,
         "type": "box",
         "whiskerwidth": 0.4,
         "x": [
          "low",
          "low",
          "low",
          "low",
          "low",
          "low",
          "low",
          "low",
          "low",
          "low",
          "low",
          "low",
          "low",
          "low",
          "low",
          "low",
          "low",
          "low",
          "low",
          "low",
          "low",
          "low",
          "low",
          "low"
         ],
         "xaxis": "x12",
         "y": {
          "bdata": "ScNjHn2c2j9+2Exq2tjRP7j4CdcLVN8/ae8rjZq62j9ieH3KVyDXP1GW9AzuYt4/0uGvNrdjyz9/gc/4hg7WP/E+3SydENg/sb8zdMh62T9F/owXeqDUPx7dSqdcftM/72I0BxUw0D+ngjar0VrSP1CnqVZAUNA/IVJzvHnf0T/Zsz0z7vHPP1AXO3dBWM8/i5eku7a6zz+PujhS/77UP/Md0USlX9I/4JSW6jI32T/GoneXfM3QPyp6vJ04sds/",
          "dtype": "f8"
         },
         "yaxis": "y12"
        },
        {
         "boxpoints": "all",
         "fillcolor": "lightcoral",
         "jitter": 0.5,
         "line": {
          "width": 1.5
         },
         "marker": {
          "color": "#B4464F",
          "size": 3
         },
         "pointpos": 0,
         "type": "box",
         "whiskerwidth": 0.4,
         "x": [
          "med",
          "med",
          "med",
          "med",
          "med",
          "med",
          "med",
          "med",
          "med",
          "med",
          "med",
          "med",
          "med",
          "med",
          "med",
          "med",
          "med",
          "med",
          "med",
          "med",
          "med",
          "med"
         ],
         "xaxis": "x12",
         "y": {
          "bdata": "WeJh13/o0D+N3NXWSCXQP15obLd2Rdw/H784auXbzD9he9Xm2a7WPxNNIQlbSdc/jvj3FF5U0T+eLsrtEN/VP27KXrScK9I/yrTs/9IYzz831Myzwk/QP05Z4/Jzcdc/AVnR5DdM2T8ILyLTn5LWP5/vMrnUBdY//UwOthC41z9G3zXM9r/XP7hecFnHqc8/5wVCLEda0T/pU2YBFbnXPxiNFzMLstY/sB5pA7/M0j8=",
          "dtype": "f8"
         },
         "yaxis": "y12"
        },
        {
         "boxpoints": "all",
         "fillcolor": "#B4464F",
         "jitter": 0.5,
         "line": {
          "width": 1.5
         },
         "marker": {
          "color": "#5E000E",
          "size": 3
         },
         "pointpos": 0,
         "type": "box",
         "whiskerwidth": 0.4,
         "x": [
          "adv",
          "adv",
          "adv",
          "adv",
          "adv",
          "adv",
          "adv",
          "adv",
          "adv",
          "adv",
          "adv",
          "adv",
          "adv",
          "adv",
          "adv",
          "adv",
          "adv",
          "adv",
          "adv",
          "adv",
          "adv",
          "adv"
         ],
         "xaxis": "x12",
         "y": {
          "bdata": "PlH4vWTb2D/3/rWl1ufaP2wAIjxb+dM/AyWdMksD2T8S4C7aZx7XP3HeWIBRytg/uAgIvWlA1z/BH/9+ke3cP+LMmEqLj9c/+fHUeQ3n3D9NJqEGaWzRP5aAI3eUZ88/CbXKPz+b1T9oQsi2YnjbP7VEJ36eHNY/iu0tZv2G2T//CPO5OzTUP098O90HLdc/H8wRJWYl2j9IG21zaNPSP9iHL/I2v9s/ghllk4Ji2z8=",
          "dtype": "f8"
         },
         "yaxis": "y12"
        },
        {
         "boxpoints": "all",
         "fillcolor": "steelblue",
         "jitter": 0.5,
         "line": {
          "width": 1.5
         },
         "marker": {
          "color": "#00517F",
          "size": 3
         },
         "pointpos": 0,
         "type": "box",
         "whiskerwidth": 0.4,
         "x": [
          "CTRL",
          "CTRL",
          "CTRL",
          "CTRL",
          "CTRL",
          "CTRL",
          "CTRL",
          "CTRL",
          "CTRL",
          "CTRL",
          "CTRL",
          "CTRL",
          "CTRL",
          "CTRL",
          "CTRL",
          "CTRL",
          "CTRL",
          "CTRL",
          "CTRL",
          "CTRL",
          "CTRL",
          "CTRL",
          "CTRL",
          "CTRL",
          "CTRL",
          "CTRL",
          "CTRL",
          "CTRL",
          "CTRL",
          "CTRL",
          "CTRL",
          "CTRL",
          "CTRL",
          "CTRL",
          "CTRL",
          "CTRL",
          "CTRL",
          "CTRL"
         ],
         "xaxis": "x16",
         "y": {
          "bdata": "9bWybeba5z9RFeZM+eHrPzB6zBItUek/PsiH4IUr4z9J1CeT/FPiP+Fw5FZIZug/Je6kyp8b5T8rGBGcZUznP7w3kyriuOo/zMBmWEM05j8MZXZQaO3lPzqLLfBUIeU/BanNZY445j9BNVZJARXmPzq3c9tqyOo/5JNQJcP06D8fhc/8iKTqP2HyoWwTPOU/JCj1mluX6D8IHT8Xt1jmP29IC+abbOQ/RXTzgL6M6D/siHNvppvrPycFpmvXKOY/pif8t2qF5j+UcQgs64TrP7lbq6AWgeY/MWP48nyS6j87dfmXI2LrP7Mnotsii+c//NJP9p6z6T/6DmKN0U/mPzgwvgoeFug/lJUkpHUB5j/djrrnCpDtPyJ36Cb3/Og/pMmpwygd7D8soc8ItT3lPw==",
          "dtype": "f8"
         },
         "yaxis": "y16"
        },
        {
         "boxpoints": "all",
         "fillcolor": "#F0B0B0",
         "jitter": 0.5,
         "line": {
          "width": 1.5
         },
         "marker": {
          "color": "lightcoral",
          "size": 3
         },
         "pointpos": 0,
         "type": "box",
         "whiskerwidth": 0.4,
         "x": [
          "low",
          "low",
          "low",
          "low",
          "low",
          "low",
          "low",
          "low",
          "low",
          "low",
          "low",
          "low",
          "low",
          "low",
          "low",
          "low",
          "low",
          "low",
          "low",
          "low",
          "low",
          "low",
          "low",
          "low"
         ],
         "xaxis": "x16",
         "y": {
          "bdata": "k7cScL4X6T+boJebuTHkP86jFfEzBOo/i5+Ryym45z9/JuZMH+nmP/+R6dDpmeg/eWQRYuUC7D/7Q236N8jiPwX5g8i8mus/zgdSyQOo6z8HcGF6TqzkP+lSHDpPQuM/Hj8m4kXA6D/IkgldYTjmP7497qz0Mus/SLYJ4+YF5z9LH9uup7jqP9ELkMssoOo/bRMczmR+4D+ZQ/wKbMrmP26UbqtWD+c/MKSVCy2M5j8kUJeh/s7jP4vADFF7reg/",
          "dtype": "f8"
         },
         "yaxis": "y16"
        },
        {
         "boxpoints": "all",
         "fillcolor": "lightcoral",
         "jitter": 0.5,
         "line": {
          "width": 1.5
         },
         "marker": {
          "color": "#B4464F",
          "size": 3
         },
         "pointpos": 0,
         "type": "box",
         "whiskerwidth": 0.4,
         "x": [
          "med",
          "med",
          "med",
          "med",
          "med",
          "med",
          "med",
          "med",
          "med",
          "med",
          "med",
          "med",
          "med",
          "med",
          "med",
          "med",
          "med",
          "med",
          "med",
          "med",
          "med",
          "med"
         ],
         "xaxis": "x16",
         "y": {
          "bdata": "vIwCR3mL7D/TW0gvhgzqP+A3wPf3POc/oUTKnTnO5j+UgaigR5HqPw7p4C41gew/Vt/x1MDi5T8DGSqUv8roP32de99d9uQ/aCUIsvlj7T+S9s9rnSzrP5+pZdgZoOw/v+pHEbkT6j99OX5r0WnmP4EU7vXr1+Q/REcNzikG6D8Vj9yxEDHoPywdrgCfgus/lCj6yiPi6z8aitP6b1bqP15yRg69N+U/lK8x0+m14z8=",
          "dtype": "f8"
         },
         "yaxis": "y16"
        },
        {
         "boxpoints": "all",
         "fillcolor": "#B4464F",
         "jitter": 0.5,
         "line": {
          "width": 1.5
         },
         "marker": {
          "color": "#5E000E",
          "size": 3
         },
         "pointpos": 0,
         "type": "box",
         "whiskerwidth": 0.4,
         "x": [
          "adv",
          "adv",
          "adv",
          "adv",
          "adv",
          "adv",
          "adv",
          "adv",
          "adv",
          "adv",
          "adv",
          "adv",
          "adv",
          "adv",
          "adv",
          "adv",
          "adv",
          "adv",
          "adv",
          "adv",
          "adv",
          "adv"
         ],
         "xaxis": "x16",
         "y": {
          "bdata": "GQH5OPFa6j9nKqMVCFDoPwbFGiQAnOk/MPYhGbmx5j+7Egck75nqP5icpSfWoOg/hLd0vU4J6T/ybi/gmnjmP3hKfvmhCOg/YX4EhCqD6D815HdR9qHqP3vRaLy+gOo/B1wi2jhJ6j/7c6FX2zvnP9LaRpmTW+o/4/NB0Wdg7D/bujZ8VFHmP1dJUjyo4Oo/OJ2hDuRm6j/0fuM43pfrP54Bby0FN+k/uTagGjkf4z8=",
          "dtype": "f8"
         },
         "yaxis": "y16"
        },
        {
         "boxpoints": "all",
         "fillcolor": "steelblue",
         "jitter": 0.5,
         "line": {
          "width": 1.5
         },
         "marker": {
          "color": "#00517F",
          "size": 3
         },
         "pointpos": 0,
         "type": "box",
         "whiskerwidth": 0.4,
         "x": [],
         "xaxis": "x20",
         "y": [],
         "yaxis": "y20"
        },
        {
         "boxpoints": "all",
         "fillcolor": "#F0B0B0",
         "jitter": 0.5,
         "line": {
          "width": 1.5
         },
         "marker": {
          "color": "lightcoral",
          "size": 3
         },
         "pointpos": 0,
         "type": "box",
         "whiskerwidth": 0.4,
         "x": [],
         "xaxis": "x20",
         "y": [],
         "yaxis": "y20"
        },
        {
         "boxpoints": "all",
         "fillcolor": "lightcoral",
         "jitter": 0.5,
         "line": {
          "width": 1.5
         },
         "marker": {
          "color": "#B4464F",
          "size": 3
         },
         "pointpos": 0,
         "type": "box",
         "whiskerwidth": 0.4,
         "x": [],
         "xaxis": "x20",
         "y": [],
         "yaxis": "y20"
        },
        {
         "boxpoints": "all",
         "fillcolor": "#B4464F",
         "jitter": 0.5,
         "line": {
          "width": 1.5
         },
         "marker": {
          "color": "#5E000E",
          "size": 3
         },
         "pointpos": 0,
         "type": "box",
         "whiskerwidth": 0.4,
         "x": [],
         "xaxis": "x20",
         "y": [],
         "yaxis": "y20"
        },
        {
         "boxpoints": "all",
         "fillcolor": "steelblue",
         "jitter": 0.5,
         "line": {
          "width": 1.5
         },
         "marker": {
          "color": "#00517F",
          "size": 3
         },
         "pointpos": 0,
         "type": "box",
         "whiskerwidth": 0.4,
         "x": [
          "CTRL",
          "CTRL",
          "CTRL",
          "CTRL",
          "CTRL",
          "CTRL",
          "CTRL",
          "CTRL",
          "CTRL",
          "CTRL",
          "CTRL",
          "CTRL",
          "CTRL",
          "CTRL",
          "CTRL",
          "CTRL",
          "CTRL",
          "CTRL",
          "CTRL",
          "CTRL",
          "CTRL",
          "CTRL",
          "CTRL",
          "CTRL",
          "CTRL",
          "CTRL",
          "CTRL",
          "CTRL",
          "CTRL",
          "CTRL",
          "CTRL",
          "CTRL",
          "CTRL",
          "CTRL",
          "CTRL",
          "CTRL",
          "CTRL",
          "CTRL"
         ],
         "xaxis": "x13",
         "y": {
          "bdata": "P7w6CZ2+yT8+z582qlPRP5T+ucOBq8g/3Afcl4xTyD/tRYmd9gLOPwt89G9fE8k/3k52wU33zj+kd6tgtITJP4tK/OfvGdQ/+J/o+VQHxj/uyilfokrDP5kp5WmE9Mo/emQOqlbkzj+n8tuvueXKP8hkHQAEO80/X8xrLC78yz/aO60fvnPNP0H5qZQY8Mc/28RKfiQi0j+BoFANAy/FP3K90ND9JMs/QjOZO0Ttxz/kFNusE/rKP0g/7BWuuMU//OtPwWU+0D+hTTkf0RbMP1MkZMJd7dA/NkG94Yqg0T+Hah8ysrLQP8r6PxpdxM4/L32oZ1Nr0D/Wg98MUj7LPz2/g/rx8sg/YG7HOYk/1D/9mdxQeqTNP564cq/5nM0/rdlvkovWxT8lNI4AiqvQPw==",
          "dtype": "f8"
         },
         "yaxis": "y13"
        },
        {
         "boxpoints": "all",
         "fillcolor": "#F0B0B0",
         "jitter": 0.5,
         "line": {
          "width": 1.5
         },
         "marker": {
          "color": "lightcoral",
          "size": 3
         },
         "pointpos": 0,
         "type": "box",
         "whiskerwidth": 0.4,
         "x": [
          "low",
          "low",
          "low",
          "low",
          "low",
          "low",
          "low",
          "low",
          "low",
          "low",
          "low",
          "low",
          "low",
          "low",
          "low",
          "low",
          "low",
          "low",
          "low",
          "low",
          "low",
          "low",
          "low",
          "low"
         ],
         "xaxis": "x13",
         "y": {
          "bdata": "LI0R6bQ3yT8NmHYgodzGPysT5owUycc/Qk9gwOYqyz+TtWKMA4DEP5wJKgM3rcw/757RkNCa0j/cTxz56ePGP8i2rsZJyc4/jJDs1778zz9roeqrOS3FP8C52Bd9w8o/kNo2H+bR1D/5u3Ib32fKP6VDTC5rx9E/m39eMjqy1T+Lgweqn+fRPwmbnALis9Y/Pp60dRL/zD/datgaCtLGPz6TlRDAzs4/KE7hTSYKyj/U547xbenMP7VEblMqC8g/",
          "dtype": "f8"
         },
         "yaxis": "y13"
        },
        {
         "boxpoints": "all",
         "fillcolor": "lightcoral",
         "jitter": 0.5,
         "line": {
          "width": 1.5
         },
         "marker": {
          "color": "#B4464F",
          "size": 3
         },
         "pointpos": 0,
         "type": "box",
         "whiskerwidth": 0.4,
         "x": [
          "med",
          "med",
          "med",
          "med",
          "med",
          "med",
          "med",
          "med",
          "med",
          "med",
          "med",
          "med",
          "med",
          "med",
          "med",
          "med",
          "med",
          "med",
          "med",
          "med",
          "med",
          "med"
         ],
         "xaxis": "x13",
         "y": {
          "bdata": "/p7Ubibszz+UOEn4gG7NPzT9Vg7U+co/u/z2kTUMzT943+xnlb/NPxP79yWKrM4/VPRfntDWxz8g6uj/74TQPwHXbusJc8g/9HEU8NBv1D9cE4SLEh3RP16InXUChNE/4ROhx97BzT/MFbofq+zFP0cs0XW7AMY/nfd2gGRQzj+HK9dDSt/LP4z3l2iGUNU/NiGWlXKT0D8/4DC6hI/OP/weKsr7ccc/x6rMimQsyj8=",
          "dtype": "f8"
         },
         "yaxis": "y13"
        },
        {
         "boxpoints": "all",
         "fillcolor": "#B4464F",
         "jitter": 0.5,
         "line": {
          "width": 1.5
         },
         "marker": {
          "color": "#5E000E",
          "size": 3
         },
         "pointpos": 0,
         "type": "box",
         "whiskerwidth": 0.4,
         "x": [
          "adv",
          "adv",
          "adv",
          "adv",
          "adv",
          "adv",
          "adv",
          "adv",
          "adv",
          "adv",
          "adv",
          "adv",
          "adv",
          "adv",
          "adv",
          "adv",
          "adv",
          "adv",
          "adv",
          "adv",
          "adv",
          "adv"
         ],
         "xaxis": "x13",
         "y": {
          "bdata": "Tn6LTpaa0z9Nrl85DdTPPyyGVwSSf84/iF9taY6cyT9Hf9LKaQHRP3hP+k/yO8s/iRtDQoz+yz+gikF+O2vBPyQfK2BRPcc/o4IHKR+Sxj8++ZOvBjPTP9fpALusn9M/0odmUs7Nzj/20lYdIHXHP75i/uuLzdE/WAVYTryv0D/TcVjBP4rPP6WKF0imPNI/UGbzoO860T/KUAvhdZbPP0a6BH92Qs0/Eh9Hj7nUxj8=",
          "dtype": "f8"
         },
         "yaxis": "y13"
        },
        {
         "boxpoints": "all",
         "fillcolor": "steelblue",
         "jitter": 0.5,
         "line": {
          "width": 1.5
         },
         "marker": {
          "color": "#00517F",
          "size": 3
         },
         "pointpos": 0,
         "type": "box",
         "whiskerwidth": 0.4,
         "x": [
          "CTRL",
          "CTRL",
          "CTRL",
          "CTRL",
          "CTRL",
          "CTRL",
          "CTRL",
          "CTRL",
          "CTRL",
          "CTRL",
          "CTRL",
          "CTRL",
          "CTRL",
          "CTRL",
          "CTRL",
          "CTRL",
          "CTRL",
          "CTRL",
          "CTRL",
          "CTRL",
          "CTRL",
          "CTRL",
          "CTRL",
          "CTRL",
          "CTRL",
          "CTRL",
          "CTRL",
          "CTRL",
          "CTRL",
          "CTRL",
          "CTRL",
          "CTRL",
          "CTRL",
          "CTRL",
          "CTRL",
          "CTRL",
          "CTRL",
          "CTRL"
         ],
         "xaxis": "x17",
         "y": {
          "bdata": "WkZSIQoF2T/ZGh62havbP0N9Kw9bdeA/x/7Q0UylzD8pKnaPx+fLP8oZIlhpE98/+ENSXGxS0j8zujoC4znWP+NGj7RbGNY/zSGphZLp2j/Gucw3QsnSPzHoA1As+s8/Dxzmtyfp0j8B5sSYoPjVP4xgiEEF7Ns/ONRS7ZE13D8M+gXNRFfUP/6NEPqmBNE/bQDl2EK80j8U5Vvq42vbP/BagaIrMc0/iclTCkWw3T+szvC6DKzdP1albBI1sd8/YuSNFfoV3D9nmBxv2Z7RPyogbgCWMtY/1/IoZ7h51j8Kc5IYyurXPwdTIPXPesk/bf3gu0680z84/J7ze2TLP7e1oTzVXNI/6SWRQC2N2D+tBtXECtDOPydwdmEnOdQ/Uijll7zf0j8ngZOO7tfVPw==",
          "dtype": "f8"
         },
         "yaxis": "y17"
        },
        {
         "boxpoints": "all",
         "fillcolor": "#F0B0B0",
         "jitter": 0.5,
         "line": {
          "width": 1.5
         },
         "marker": {
          "color": "lightcoral",
          "size": 3
         },
         "pointpos": 0,
         "type": "box",
         "whiskerwidth": 0.4,
         "x": [
          "low",
          "low",
          "low",
          "low",
          "low",
          "low",
          "low",
          "low",
          "low",
          "low",
          "low",
          "low",
          "low",
          "low",
          "low",
          "low",
          "low",
          "low",
          "low",
          "low",
          "low",
          "low",
          "low",
          "low"
         ],
         "xaxis": "x17",
         "y": {
          "bdata": "4oS7E+ln3j9OOGhtIgzNP7pmvdtm8d8/vedsc/ad2z+Cg5AImurVP5EGrUMSRuA/HCHY+BmFzD9rxce/gDLVPyWupXhDt9g/lELSB8iA2D8FHG0V9xHUP6vpvL69yNA/qDjH5s4/0T+RzWfW2DnQP4nY5hr0Es8/bn7BQ1g60D8VQtRrHZbLP09lTiC3otA//o/rXb4gyD+/JIFF/x3RP6RzbKcnuNI/WCtrf40i2D8cKDzdg5TMP74FD1ywt9o/",
          "dtype": "f8"
         },
         "yaxis": "y17"
        },
        {
         "boxpoints": "all",
         "fillcolor": "lightcoral",
         "jitter": 0.5,
         "line": {
          "width": 1.5
         },
         "marker": {
          "color": "#B4464F",
          "size": 3
         },
         "pointpos": 0,
         "type": "box",
         "whiskerwidth": 0.4,
         "x": [
          "med",
          "med",
          "med",
          "med",
          "med",
          "med",
          "med",
          "med",
          "med",
          "med",
          "med",
          "med",
          "med",
          "med",
          "med",
          "med",
          "med",
          "med",
          "med",
          "med",
          "med",
          "med"
         ],
         "xaxis": "x17",
         "y": {
          "bdata": "NQdrEKQa0j+jvZlPWI3KP1baQo3LI9o/+YtVWrGFyj+idh188Z3UP1nKbG87Hdc/krudt5ALzz8uV4vEDsfTPwMH8dcduNI/rvb8pU+v0D+nHfnh8qjJPyUOZDNDZ9U/Jrt7ezVy1z8rhl912lbWP0dNVm2AN9U/3RqZxn1L1z/iqq020XfXP96ryHvktco/tBdVr/BI0z/cvW+LGGfYP14yfK4wCdY/dFMwTm9L0j8=",
          "dtype": "f8"
         },
         "yaxis": "y17"
        },
        {
         "boxpoints": "all",
         "fillcolor": "#B4464F",
         "jitter": 0.5,
         "line": {
          "width": 1.5
         },
         "marker": {
          "color": "#5E000E",
          "size": 3
         },
         "pointpos": 0,
         "type": "box",
         "whiskerwidth": 0.4,
         "x": [
          "adv",
          "adv",
          "adv",
          "adv",
          "adv",
          "adv",
          "adv",
          "adv",
          "adv",
          "adv",
          "adv",
          "adv",
          "adv",
          "adv",
          "adv",
          "adv",
          "adv",
          "adv",
          "adv",
          "adv",
          "adv",
          "adv"
         ],
         "xaxis": "x17",
         "y": {
          "bdata": "FftFtfod2z9UZGjNcyrbP6I5SA4sVdE/w3apcWym2z/itWS4rjbXPwoULVC9O9Y/741/cTnW1D+BilzQeMvYP3y9d6sZv9c/HDUfCnhv3T+vrATw7j/TPy+nS5mwisw/nHxN60My1z+XvNTkNvXbP0JLcE0uJNI/eXergcIN2j/tXbavmULVP6zVWVgwRNg/5O5kUYfe2z80M23evEHSP8CdXSEgHdw/1Ju+j4Ss3D8=",
          "dtype": "f8"
         },
         "yaxis": "y17"
        },
        {
         "boxpoints": "all",
         "fillcolor": "steelblue",
         "jitter": 0.5,
         "line": {
          "width": 1.5
         },
         "marker": {
          "color": "#00517F",
          "size": 3
         },
         "pointpos": 0,
         "type": "box",
         "whiskerwidth": 0.4,
         "x": [
          "CTRL",
          "CTRL",
          "CTRL",
          "CTRL",
          "CTRL",
          "CTRL",
          "CTRL",
          "CTRL",
          "CTRL",
          "CTRL",
          "CTRL",
          "CTRL",
          "CTRL",
          "CTRL",
          "CTRL",
          "CTRL",
          "CTRL",
          "CTRL",
          "CTRL",
          "CTRL",
          "CTRL",
          "CTRL",
          "CTRL",
          "CTRL",
          "CTRL",
          "CTRL",
          "CTRL",
          "CTRL",
          "CTRL",
          "CTRL",
          "CTRL",
          "CTRL",
          "CTRL",
          "CTRL",
          "CTRL",
          "CTRL",
          "CTRL",
          "CTRL"
         ],
         "xaxis": "x21",
         "y": {
          "bdata": "NGmIZ18i6D/ZBZoHZKrsPxc7BeyvZuo/rIWtZ3XD4j93ye64l4rhP32npn2j+Ok/DFodQIxO5T8vIO7JR6voP2Lp+kAdz+s/DOaJyRZX5j993TNcLvzkP3yXSCUZouU/LLfQb0Hh5z+kZjgzNE3lP2NZqrd4K+0/7K+8g1Zy6T9XEXAz1cbrP6QQf0/Xk+Q/0P3SKzCn6D9cjw6EbhPnP/DPMKh73OQ/10WN5iED6j+t7oHrxFTuPzez2h/PPug/gDGVXbSg5z8qUnNP3cDsP49HmaKW5eY/VqbSLioC7D9XA6GwHAXsP/gqQ2Z4Xec/ZwxSdE226D/gFh+rA8znP5waJiIVSeg/aFXmDuR+5j9pAnVleIXuP66lUnwU7+g//9CFvt/77D+3/TxXpX7mPw==",
          "dtype": "f8"
         },
         "yaxis": "y21"
        },
        {
         "boxpoints": "all",
         "fillcolor": "#F0B0B0",
         "jitter": 0.5,
         "line": {
          "width": 1.5
         },
         "marker": {
          "color": "lightcoral",
          "size": 3
         },
         "pointpos": 0,
         "type": "box",
         "whiskerwidth": 0.4,
         "x": [
          "low",
          "low",
          "low",
          "low",
          "low",
          "low",
          "low",
          "low",
          "low",
          "low",
          "low",
          "low",
          "low",
          "low",
          "low",
          "low",
          "low",
          "low",
          "low",
          "low",
          "low",
          "low",
          "low",
          "low"
         ],
         "xaxis": "x21",
         "y": {
          "bdata": "/1JVVDxP6z893XYqq+zjP8l1n1ixDOo/ifNj2NAZ6T/ECFjgaJ3mP3VxFlQmleo/qJ1p25OE7D9MQt2YgjviPzVhiXQwrOw/zQ/xSQYU7D8ngFjyVVvmP0OEC7sgOeI/IkqudNRH6z8GMVE2RW3lP6XoFvS9euw/IMclelgp6j+6BN3nw6bqP4Q75Qs5yuw/DvL+aM0J3z+q5Ic9+ZPmPyGcd+V46uY/sObka+2S5j+ELXu0ZjvkPyuA6p7DDOk/",
          "dtype": "f8"
         },
         "yaxis": "y21"
        },
        {
         "boxpoints": "all",
         "fillcolor": "lightcoral",
         "jitter": 0.5,
         "line": {
          "width": 1.5
         },
         "marker": {
          "color": "#B4464F",
          "size": 3
         },
         "pointpos": 0,
         "type": "box",
         "whiskerwidth": 0.4,
         "x": [
          "med",
          "med",
          "med",
          "med",
          "med",
          "med",
          "med",
          "med",
          "med",
          "med",
          "med",
          "med",
          "med",
          "med",
          "med",
          "med",
          "med",
          "med",
          "med",
          "med",
          "med",
          "med"
         ],
         "xaxis": "x21",
         "y": {
          "bdata": "mVb+Db7G7j/JKncvj8bqP4s5f0j8IOY/iIA+75ha5z/VQrcBGRbrPw6UJYRYV+0/BFCZVpuT5T9lk1KJGHroP5WlGhmLZuU/w95UPN/z7j9IUUbgOA7qP3VvnhrKYew//49L0Oq66j9dXWxf4q3mPxp0W4VBV+U/V+B1RxCY6D+X64bQtf3oP6i8JVL9h+0/bp8gdHpF7T/wbh60QjTsP9aQ6ADpJOY/JgImh4cU5D8=",
          "dtype": "f8"
         },
         "yaxis": "y21"
        },
        {
         "boxpoints": "all",
         "fillcolor": "#B4464F",
         "jitter": 0.5,
         "line": {
          "width": 1.5
         },
         "marker": {
          "color": "#5E000E",
          "size": 3
         },
         "pointpos": 0,
         "type": "box",
         "whiskerwidth": 0.4,
         "x": [
          "adv",
          "adv",
          "adv",
          "adv",
          "adv",
          "adv",
          "adv",
          "adv",
          "adv",
          "adv",
          "adv",
          "adv",
          "adv",
          "adv",
          "adv",
          "adv",
          "adv",
          "adv",
          "adv",
          "adv",
          "adv",
          "adv"
         ],
         "xaxis": "x21",
         "y": {
          "bdata": "FyW49t0r7j/6RejrIiroP48wFMm6vOo//JY7XkGN6D84dHMkqbLqP6nuMVspSeg/mna/d4xs6T+XOqIkH/nkP4rZ1ylycug/D8u/xpBk6T+OGfyLDc7rP6v67c9reus/1vAq9Iww7T/A46EQfc7nP/tcACnQiOo/CxNkCQ3S7T+voxTuQRrsP1nZzI5FlOs/aOP9wm+27T887K6B5/3tP7lxSd3nm+k/5dUY+Hp85D8=",
          "dtype": "f8"
         },
         "yaxis": "y21"
        },
        {
         "boxpoints": "all",
         "fillcolor": "steelblue",
         "jitter": 0.5,
         "line": {
          "width": 1.5
         },
         "marker": {
          "color": "#00517F",
          "size": 3
         },
         "pointpos": 0,
         "type": "box",
         "whiskerwidth": 0.4,
         "x": [
          "CTRL",
          "CTRL",
          "CTRL",
          "CTRL",
          "CTRL",
          "CTRL",
          "CTRL",
          "CTRL",
          "CTRL",
          "CTRL",
          "CTRL",
          "CTRL",
          "CTRL",
          "CTRL",
          "CTRL",
          "CTRL",
          "CTRL",
          "CTRL",
          "CTRL",
          "CTRL"
         ],
         "xaxis": "x24",
         "y": {
          "bdata": "RbsR03OV7T8Q3dNWW+ntP/n4Lcm99e4/X9me3YAY7j8mV3E2ZfHsP6rGek3cIe4/WNBtE0+R7j/sM+C+qRTuP/5BWSFpw+w/Oj0egqJz7D+/93uZX3bvPw4GZeqqV+4/j7WQRJvh7T8/hC/ElcfsPx9Wsdcroe0/zsBi09RM7T9JC3erXAftP527o24OUu4/8R7n6Ol+7T8W959Yx7vtPw==",
          "dtype": "f8"
         },
         "yaxis": "y24"
        },
        {
         "boxpoints": "all",
         "fillcolor": "#F0B0B0",
         "jitter": 0.5,
         "line": {
          "width": 1.5
         },
         "marker": {
          "color": "lightcoral",
          "size": 3
         },
         "pointpos": 0,
         "type": "box",
         "whiskerwidth": 0.4,
         "x": [
          "low",
          "low",
          "low",
          "low",
          "low",
          "low",
          "low",
          "low",
          "low",
          "low",
          "low",
          "low",
          "low",
          "low",
          "low",
          "low",
          "low",
          "low",
          "low",
          "low",
          "low",
          "low"
         ],
         "xaxis": "x24",
         "y": {
          "bdata": "kun0yTN17j/HEbWMA33tP8rasds/Du4/aWbc+z9d7T9zI1rraYDsP9z3SjNNu+8/WTpIparD7T+D1e5DZqTuP5LpueXRKO0/njpfsCbl7D+Ha3/GBjztP90Hwwi1Ge4/dl0tF8ve7j+aAUvtgnPtP6JpArilme0/BRbpbHFG7T8Y55PlsOTtP+FhxVuOWO0/tWRZ/T3A7j+b+CMb8hjtP52tdx7qsO0/10eHUyff7T8=",
          "dtype": "f8"
         },
         "yaxis": "y24"
        },
        {
         "boxpoints": "all",
         "fillcolor": "lightcoral",
         "jitter": 0.5,
         "line": {
          "width": 1.5
         },
         "marker": {
          "color": "#B4464F",
          "size": 3
         },
         "pointpos": 0,
         "type": "box",
         "whiskerwidth": 0.4,
         "x": [
          "med",
          "med",
          "med",
          "med",
          "med",
          "med",
          "med",
          "med",
          "med",
          "med",
          "med",
          "med",
          "med",
          "med",
          "med",
          "med",
          "med",
          "med",
          "med"
         ],
         "xaxis": "x24",
         "y": {
          "bdata": "LRLFTzPT7T+PUdIZb27tP45HrCOMY+0/fQu29Ned7T8GO8Gn2q/tP/lTNBXKm+4/FFoHL2GT7j9ahjlUK4ztP4U/5lNIBe0/avb7QpEE7T8pjQK6gqPuP07lU+yQhu0/bBSVpExN7j/TKZlX7HDtPxnKNHPZgO0/WAWwcEIX7j+G87mzUgvuP6yRAgvpY+8/5CJUhZtO7j8=",
          "dtype": "f8"
         },
         "yaxis": "y24"
        },
        {
         "boxpoints": "all",
         "fillcolor": "#B4464F",
         "jitter": 0.5,
         "line": {
          "width": 1.5
         },
         "marker": {
          "color": "#5E000E",
          "size": 3
         },
         "pointpos": 0,
         "type": "box",
         "whiskerwidth": 0.4,
         "x": [
          "adv",
          "adv",
          "adv",
          "adv",
          "adv",
          "adv",
          "adv",
          "adv",
          "adv",
          "adv",
          "adv",
          "adv",
          "adv",
          "adv",
          "adv",
          "adv",
          "adv",
          "adv",
          "adv"
         ],
         "xaxis": "x24",
         "y": {
          "bdata": "MpHJfQQX7z81cO9TktjtPwAEIUPlE+4/K9EwrygC7z8B69fa3gvvP+v5D8eILe4/OM6wYvLV7T8HEG0TQL/uP+mgSgFN2O0/US1G1opc7T+wLcanBrbsP62IKZLUge0/H7TRGTxS7z+OyVOxvBDuP3lDG/j1EfA/+sFXnLdU7j/AOuXBOTTvP1d6Xz8oje8/jNbzZUsd8D8=",
          "dtype": "f8"
         },
         "yaxis": "y24"
        }
       ],
       "layout": {
        "height": 1400,
        "images": [
         {
          "layer": "below",
          "sizex": 1.4,
          "sizey": 1.39,
          "source": "Figure4_template.png",
          "x": -0.22,
          "xanchor": "left",
          "y": 0.97,
          "yanchor": "top"
         }
        ],
        "margin": {
         "b": 200,
         "l": 200,
         "r": 200,
         "t": 200
        },
        "showlegend": false,
        "template": {
         "data": {
          "bar": [
           {
            "error_x": {
             "color": "#2a3f5f"
            },
            "error_y": {
             "color": "#2a3f5f"
            },
            "marker": {
             "line": {
              "color": "#E5ECF6",
              "width": 0.5
             },
             "pattern": {
              "fillmode": "overlay",
              "size": 10,
              "solidity": 0.2
             }
            },
            "type": "bar"
           }
          ],
          "barpolar": [
           {
            "marker": {
             "line": {
              "color": "#E5ECF6",
              "width": 0.5
             },
             "pattern": {
              "fillmode": "overlay",
              "size": 10,
              "solidity": 0.2
             }
            },
            "type": "barpolar"
           }
          ],
          "carpet": [
           {
            "aaxis": {
             "endlinecolor": "#2a3f5f",
             "gridcolor": "white",
             "linecolor": "white",
             "minorgridcolor": "white",
             "startlinecolor": "#2a3f5f"
            },
            "baxis": {
             "endlinecolor": "#2a3f5f",
             "gridcolor": "white",
             "linecolor": "white",
             "minorgridcolor": "white",
             "startlinecolor": "#2a3f5f"
            },
            "type": "carpet"
           }
          ],
          "choropleth": [
           {
            "colorbar": {
             "outlinewidth": 0,
             "ticks": ""
            },
            "type": "choropleth"
           }
          ],
          "contour": [
           {
            "colorbar": {
             "outlinewidth": 0,
             "ticks": ""
            },
            "colorscale": [
             [
              0,
              "#0d0887"
             ],
             [
              0.1111111111111111,
              "#46039f"
             ],
             [
              0.2222222222222222,
              "#7201a8"
             ],
             [
              0.3333333333333333,
              "#9c179e"
             ],
             [
              0.4444444444444444,
              "#bd3786"
             ],
             [
              0.5555555555555556,
              "#d8576b"
             ],
             [
              0.6666666666666666,
              "#ed7953"
             ],
             [
              0.7777777777777778,
              "#fb9f3a"
             ],
             [
              0.8888888888888888,
              "#fdca26"
             ],
             [
              1,
              "#f0f921"
             ]
            ],
            "type": "contour"
           }
          ],
          "contourcarpet": [
           {
            "colorbar": {
             "outlinewidth": 0,
             "ticks": ""
            },
            "type": "contourcarpet"
           }
          ],
          "heatmap": [
           {
            "colorbar": {
             "outlinewidth": 0,
             "ticks": ""
            },
            "colorscale": [
             [
              0,
              "#0d0887"
             ],
             [
              0.1111111111111111,
              "#46039f"
             ],
             [
              0.2222222222222222,
              "#7201a8"
             ],
             [
              0.3333333333333333,
              "#9c179e"
             ],
             [
              0.4444444444444444,
              "#bd3786"
             ],
             [
              0.5555555555555556,
              "#d8576b"
             ],
             [
              0.6666666666666666,
              "#ed7953"
             ],
             [
              0.7777777777777778,
              "#fb9f3a"
             ],
             [
              0.8888888888888888,
              "#fdca26"
             ],
             [
              1,
              "#f0f921"
             ]
            ],
            "type": "heatmap"
           }
          ],
          "histogram": [
           {
            "marker": {
             "pattern": {
              "fillmode": "overlay",
              "size": 10,
              "solidity": 0.2
             }
            },
            "type": "histogram"
           }
          ],
          "histogram2d": [
           {
            "colorbar": {
             "outlinewidth": 0,
             "ticks": ""
            },
            "colorscale": [
             [
              0,
              "#0d0887"
             ],
             [
              0.1111111111111111,
              "#46039f"
             ],
             [
              0.2222222222222222,
              "#7201a8"
             ],
             [
              0.3333333333333333,
              "#9c179e"
             ],
             [
              0.4444444444444444,
              "#bd3786"
             ],
             [
              0.5555555555555556,
              "#d8576b"
             ],
             [
              0.6666666666666666,
              "#ed7953"
             ],
             [
              0.7777777777777778,
              "#fb9f3a"
             ],
             [
              0.8888888888888888,
              "#fdca26"
             ],
             [
              1,
              "#f0f921"
             ]
            ],
            "type": "histogram2d"
           }
          ],
          "histogram2dcontour": [
           {
            "colorbar": {
             "outlinewidth": 0,
             "ticks": ""
            },
            "colorscale": [
             [
              0,
              "#0d0887"
             ],
             [
              0.1111111111111111,
              "#46039f"
             ],
             [
              0.2222222222222222,
              "#7201a8"
             ],
             [
              0.3333333333333333,
              "#9c179e"
             ],
             [
              0.4444444444444444,
              "#bd3786"
             ],
             [
              0.5555555555555556,
              "#d8576b"
             ],
             [
              0.6666666666666666,
              "#ed7953"
             ],
             [
              0.7777777777777778,
              "#fb9f3a"
             ],
             [
              0.8888888888888888,
              "#fdca26"
             ],
             [
              1,
              "#f0f921"
             ]
            ],
            "type": "histogram2dcontour"
           }
          ],
          "mesh3d": [
           {
            "colorbar": {
             "outlinewidth": 0,
             "ticks": ""
            },
            "type": "mesh3d"
           }
          ],
          "parcoords": [
           {
            "line": {
             "colorbar": {
              "outlinewidth": 0,
              "ticks": ""
             }
            },
            "type": "parcoords"
           }
          ],
          "pie": [
           {
            "automargin": true,
            "type": "pie"
           }
          ],
          "scatter": [
           {
            "fillpattern": {
             "fillmode": "overlay",
             "size": 10,
             "solidity": 0.2
            },
            "type": "scatter"
           }
          ],
          "scatter3d": [
           {
            "line": {
             "colorbar": {
              "outlinewidth": 0,
              "ticks": ""
             }
            },
            "marker": {
             "colorbar": {
              "outlinewidth": 0,
              "ticks": ""
             }
            },
            "type": "scatter3d"
           }
          ],
          "scattercarpet": [
           {
            "marker": {
             "colorbar": {
              "outlinewidth": 0,
              "ticks": ""
             }
            },
            "type": "scattercarpet"
           }
          ],
          "scattergeo": [
           {
            "marker": {
             "colorbar": {
              "outlinewidth": 0,
              "ticks": ""
             }
            },
            "type": "scattergeo"
           }
          ],
          "scattergl": [
           {
            "marker": {
             "colorbar": {
              "outlinewidth": 0,
              "ticks": ""
             }
            },
            "type": "scattergl"
           }
          ],
          "scattermap": [
           {
            "marker": {
             "colorbar": {
              "outlinewidth": 0,
              "ticks": ""
             }
            },
            "type": "scattermap"
           }
          ],
          "scattermapbox": [
           {
            "marker": {
             "colorbar": {
              "outlinewidth": 0,
              "ticks": ""
             }
            },
            "type": "scattermapbox"
           }
          ],
          "scatterpolar": [
           {
            "marker": {
             "colorbar": {
              "outlinewidth": 0,
              "ticks": ""
             }
            },
            "type": "scatterpolar"
           }
          ],
          "scatterpolargl": [
           {
            "marker": {
             "colorbar": {
              "outlinewidth": 0,
              "ticks": ""
             }
            },
            "type": "scatterpolargl"
           }
          ],
          "scatterternary": [
           {
            "marker": {
             "colorbar": {
              "outlinewidth": 0,
              "ticks": ""
             }
            },
            "type": "scatterternary"
           }
          ],
          "surface": [
           {
            "colorbar": {
             "outlinewidth": 0,
             "ticks": ""
            },
            "colorscale": [
             [
              0,
              "#0d0887"
             ],
             [
              0.1111111111111111,
              "#46039f"
             ],
             [
              0.2222222222222222,
              "#7201a8"
             ],
             [
              0.3333333333333333,
              "#9c179e"
             ],
             [
              0.4444444444444444,
              "#bd3786"
             ],
             [
              0.5555555555555556,
              "#d8576b"
             ],
             [
              0.6666666666666666,
              "#ed7953"
             ],
             [
              0.7777777777777778,
              "#fb9f3a"
             ],
             [
              0.8888888888888888,
              "#fdca26"
             ],
             [
              1,
              "#f0f921"
             ]
            ],
            "type": "surface"
           }
          ],
          "table": [
           {
            "cells": {
             "fill": {
              "color": "#EBF0F8"
             },
             "line": {
              "color": "white"
             }
            },
            "header": {
             "fill": {
              "color": "#C8D4E3"
             },
             "line": {
              "color": "white"
             }
            },
            "type": "table"
           }
          ]
         },
         "layout": {
          "annotationdefaults": {
           "arrowcolor": "#2a3f5f",
           "arrowhead": 0,
           "arrowwidth": 1
          },
          "autotypenumbers": "strict",
          "coloraxis": {
           "colorbar": {
            "outlinewidth": 0,
            "ticks": ""
           }
          },
          "colorscale": {
           "diverging": [
            [
             0,
             "#8e0152"
            ],
            [
             0.1,
             "#c51b7d"
            ],
            [
             0.2,
             "#de77ae"
            ],
            [
             0.3,
             "#f1b6da"
            ],
            [
             0.4,
             "#fde0ef"
            ],
            [
             0.5,
             "#f7f7f7"
            ],
            [
             0.6,
             "#e6f5d0"
            ],
            [
             0.7,
             "#b8e186"
            ],
            [
             0.8,
             "#7fbc41"
            ],
            [
             0.9,
             "#4d9221"
            ],
            [
             1,
             "#276419"
            ]
           ],
           "sequential": [
            [
             0,
             "#0d0887"
            ],
            [
             0.1111111111111111,
             "#46039f"
            ],
            [
             0.2222222222222222,
             "#7201a8"
            ],
            [
             0.3333333333333333,
             "#9c179e"
            ],
            [
             0.4444444444444444,
             "#bd3786"
            ],
            [
             0.5555555555555556,
             "#d8576b"
            ],
            [
             0.6666666666666666,
             "#ed7953"
            ],
            [
             0.7777777777777778,
             "#fb9f3a"
            ],
            [
             0.8888888888888888,
             "#fdca26"
            ],
            [
             1,
             "#f0f921"
            ]
           ],
           "sequentialminus": [
            [
             0,
             "#0d0887"
            ],
            [
             0.1111111111111111,
             "#46039f"
            ],
            [
             0.2222222222222222,
             "#7201a8"
            ],
            [
             0.3333333333333333,
             "#9c179e"
            ],
            [
             0.4444444444444444,
             "#bd3786"
            ],
            [
             0.5555555555555556,
             "#d8576b"
            ],
            [
             0.6666666666666666,
             "#ed7953"
            ],
            [
             0.7777777777777778,
             "#fb9f3a"
            ],
            [
             0.8888888888888888,
             "#fdca26"
            ],
            [
             1,
             "#f0f921"
            ]
           ]
          },
          "colorway": [
           "#636efa",
           "#EF553B",
           "#00cc96",
           "#ab63fa",
           "#FFA15A",
           "#19d3f3",
           "#FF6692",
           "#B6E880",
           "#FF97FF",
           "#FECB52"
          ],
          "font": {
           "color": "#2a3f5f"
          },
          "geo": {
           "bgcolor": "white",
           "lakecolor": "white",
           "landcolor": "#E5ECF6",
           "showlakes": true,
           "showland": true,
           "subunitcolor": "white"
          },
          "hoverlabel": {
           "align": "left"
          },
          "hovermode": "closest",
          "mapbox": {
           "style": "light"
          },
          "paper_bgcolor": "white",
          "plot_bgcolor": "#E5ECF6",
          "polar": {
           "angularaxis": {
            "gridcolor": "white",
            "linecolor": "white",
            "ticks": ""
           },
           "bgcolor": "#E5ECF6",
           "radialaxis": {
            "gridcolor": "white",
            "linecolor": "white",
            "ticks": ""
           }
          },
          "scene": {
           "xaxis": {
            "backgroundcolor": "#E5ECF6",
            "gridcolor": "white",
            "gridwidth": 2,
            "linecolor": "white",
            "showbackground": true,
            "ticks": "",
            "zerolinecolor": "white"
           },
           "yaxis": {
            "backgroundcolor": "#E5ECF6",
            "gridcolor": "white",
            "gridwidth": 2,
            "linecolor": "white",
            "showbackground": true,
            "ticks": "",
            "zerolinecolor": "white"
           },
           "zaxis": {
            "backgroundcolor": "#E5ECF6",
            "gridcolor": "white",
            "gridwidth": 2,
            "linecolor": "white",
            "showbackground": true,
            "ticks": "",
            "zerolinecolor": "white"
           }
          },
          "shapedefaults": {
           "line": {
            "color": "#2a3f5f"
           }
          },
          "ternary": {
           "aaxis": {
            "gridcolor": "white",
            "linecolor": "white",
            "ticks": ""
           },
           "baxis": {
            "gridcolor": "white",
            "linecolor": "white",
            "ticks": ""
           },
           "bgcolor": "#E5ECF6",
           "caxis": {
            "gridcolor": "white",
            "linecolor": "white",
            "ticks": ""
           }
          },
          "title": {
           "x": 0.05
          },
          "xaxis": {
           "automargin": true,
           "gridcolor": "white",
           "linecolor": "white",
           "ticks": "",
           "title": {
            "standoff": 15
           },
           "zerolinecolor": "white",
           "zerolinewidth": 2
          },
          "yaxis": {
           "automargin": true,
           "gridcolor": "white",
           "linecolor": "white",
           "ticks": "",
           "title": {
            "standoff": 15
           },
           "zerolinecolor": "white",
           "zerolinewidth": 2
          }
         }
        },
        "width": 1300,
        "xaxis": {
         "anchor": "y",
         "domain": [
          0,
          0.2125
         ]
        },
        "xaxis10": {
         "anchor": "y10",
         "domain": [
          0.2625,
          0.475
         ]
        },
        "xaxis11": {
         "anchor": "y11",
         "domain": [
          0.525,
          0.7375
         ]
        },
        "xaxis12": {
         "anchor": "y12",
         "domain": [
          0.7875,
          1
         ]
        },
        "xaxis13": {
         "anchor": "y13",
         "domain": [
          0,
          0.2125
         ]
        },
        "xaxis14": {
         "anchor": "y14",
         "domain": [
          0.2625,
          0.475
         ]
        },
        "xaxis15": {
         "anchor": "y15",
         "domain": [
          0.525,
          0.7375
         ]
        },
        "xaxis16": {
         "anchor": "y16",
         "domain": [
          0.7875,
          1
         ]
        },
        "xaxis17": {
         "anchor": "y17",
         "domain": [
          0,
          0.2125
         ]
        },
        "xaxis18": {
         "anchor": "y18",
         "domain": [
          0.2625,
          0.475
         ]
        },
        "xaxis19": {
         "anchor": "y19",
         "domain": [
          0.525,
          0.7375
         ]
        },
        "xaxis2": {
         "anchor": "y2",
         "domain": [
          0.2625,
          0.475
         ]
        },
        "xaxis20": {
         "anchor": "y20",
         "domain": [
          0.7875,
          1
         ]
        },
        "xaxis21": {
         "anchor": "y21",
         "domain": [
          0,
          0.2125
         ]
        },
        "xaxis22": {
         "anchor": "y22",
         "domain": [
          0.2625,
          0.475
         ]
        },
        "xaxis23": {
         "anchor": "y23",
         "domain": [
          0.525,
          0.7375
         ]
        },
        "xaxis24": {
         "anchor": "y24",
         "domain": [
          0.7875,
          1
         ]
        },
        "xaxis3": {
         "anchor": "y3",
         "domain": [
          0.525,
          0.7375
         ]
        },
        "xaxis4": {
         "anchor": "y4",
         "domain": [
          0.7875,
          1
         ]
        },
        "xaxis5": {
         "anchor": "y5",
         "domain": [
          0,
          0.2125
         ]
        },
        "xaxis6": {
         "anchor": "y6",
         "domain": [
          0.2625,
          0.475
         ]
        },
        "xaxis7": {
         "anchor": "y7",
         "domain": [
          0.525,
          0.7375
         ]
        },
        "xaxis8": {
         "anchor": "y8",
         "domain": [
          0.7875,
          1
         ]
        },
        "xaxis9": {
         "anchor": "y9",
         "domain": [
          0,
          0.2125
         ]
        },
        "yaxis": {
         "anchor": "x",
         "domain": [
          0.875,
          1
         ]
        },
        "yaxis10": {
         "anchor": "x10",
         "domain": [
          0.525,
          0.65
         ]
        },
        "yaxis11": {
         "anchor": "x11",
         "domain": [
          0.525,
          0.65
         ]
        },
        "yaxis12": {
         "anchor": "x12",
         "domain": [
          0.525,
          0.65
         ]
        },
        "yaxis13": {
         "anchor": "x13",
         "domain": [
          0.35,
          0.475
         ]
        },
        "yaxis14": {
         "anchor": "x14",
         "domain": [
          0.35,
          0.475
         ]
        },
        "yaxis15": {
         "anchor": "x15",
         "domain": [
          0.35,
          0.475
         ]
        },
        "yaxis16": {
         "anchor": "x16",
         "domain": [
          0.35,
          0.475
         ]
        },
        "yaxis17": {
         "anchor": "x17",
         "domain": [
          0.175,
          0.3
         ]
        },
        "yaxis18": {
         "anchor": "x18",
         "domain": [
          0.175,
          0.3
         ]
        },
        "yaxis19": {
         "anchor": "x19",
         "domain": [
          0.175,
          0.3
         ]
        },
        "yaxis2": {
         "anchor": "x2",
         "domain": [
          0.875,
          1
         ]
        },
        "yaxis20": {
         "anchor": "x20",
         "domain": [
          0.175,
          0.3
         ]
        },
        "yaxis21": {
         "anchor": "x21",
         "domain": [
          0,
          0.125
         ]
        },
        "yaxis22": {
         "anchor": "x22",
         "domain": [
          0,
          0.125
         ]
        },
        "yaxis23": {
         "anchor": "x23",
         "domain": [
          0,
          0.125
         ]
        },
        "yaxis24": {
         "anchor": "x24",
         "domain": [
          0,
          0.125
         ]
        },
        "yaxis3": {
         "anchor": "x3",
         "domain": [
          0.875,
          1
         ]
        },
        "yaxis4": {
         "anchor": "x4",
         "domain": [
          0.875,
          1
         ]
        },
        "yaxis5": {
         "anchor": "x5",
         "domain": [
          0.7,
          0.825
         ]
        },
        "yaxis6": {
         "anchor": "x6",
         "domain": [
          0.7,
          0.825
         ]
        },
        "yaxis7": {
         "anchor": "x7",
         "domain": [
          0.7,
          0.825
         ]
        },
        "yaxis8": {
         "anchor": "x8",
         "domain": [
          0.7,
          0.825
         ]
        },
        "yaxis9": {
         "anchor": "x9",
         "domain": [
          0.525,
          0.65
         ]
        }
       }
      }
     },
     "metadata": {},
     "output_type": "display_data"
    }
   ],
   "source": [
    "#| label: fig4cell\n",
    "\n",
    "import plotly.express as px\n",
    "from plotly.offline import plot\n",
    "from IPython.core.display import HTML\n",
    "import plotly.graph_objects as go\n",
    "from plotly.subplots import make_subplots\n",
    "import pandas as pd\n",
    "\n",
    "# Initialize the figure with subplots\n",
    "fig = make_subplots(\n",
    "    rows=6, cols=4,  # Adjust number of rows and columns as needed\n",
    ")\n",
    "\n",
    "# Color palettes\n",
    "palette_boxplots = ['steelblue', '#F0B0B0', 'lightcoral', '#B4464F']\n",
    "palette_points = ['#00517F', 'lightcoral', '#B4464F', '#5E000E']\n",
    "\n",
    "# Add traces with color palette in each subplot\n",
    "\n",
    "# Initialize dictionnaries to store dataframes for white matter, gray matter and WM/GM ratio\n",
    "\n",
    "df_WM = {}\n",
    "df_GM = {}\n",
    "df_WMGM = {}\n",
    "\n",
    "# Dataframes for metrics in white matter : \n",
    "metrics_in_WM = ['FA', 'MD', 'AD', 'RD', 'ODI', 'FISO', 'FICVF', 'MTR']\n",
    "for metric in metrics_in_WM:\n",
    "    df = pd.read_csv(f'../data/parkinsons-spinalcord-mri-metrics/data/{metric}.csv')\n",
    "    df_WM[metric] = df[(df['Label'] == 'white matter') & (df['VertLevel'] == '2:05')]\n",
    "\n",
    "# Dataframes for metrics in gray matter : \n",
    "metrics_in_GM = ['ODI', 'FISO', 'FICVF']\n",
    "for metric in metrics_in_GM:\n",
    "    df = pd.read_csv(f'../data/parkinsons-spinalcord-mri-metrics/data/{metric}.csv')\n",
    "    df_GM[metric] = df[(df['Label'] == 'gray matter') & (df['VertLevel'] == '2:05')]\n",
    "\n",
    "# Dataframes for metrics in gray matter : \n",
    "df = pd.read_csv(f'../data/parkinsons-spinalcord-mri-metrics/data/T2star.csv')\n",
    "df_WM['T2star'] = df[(df['Label'] == 'white matter') & (df['VertLevel'] == '2:05')]\n",
    "df_GM['T2star'] = df[(df['Label'] == 'gray matter') & (df['VertLevel'] == '2:05')]\n",
    "df_WMGM['T2star'] = df_WM['T2star'].copy()\n",
    "df_WMGM['T2star']['WA'] = df_WM['T2star']['WA']/df_GM['T2star']['WA'].values\n",
    "\n",
    "print(df_WMGM['T2star'])\n",
    "\n",
    "def add_boxplot_for_subplot(data, row, col):\n",
    "    groups = ['CTRL', 'low', 'med', 'adv']\n",
    "    \n",
    "    for i, group in enumerate(groups):\n",
    "        box_color = palette_boxplots[i % len(palette_boxplots)]  # Ensure we don't run out of colors\n",
    "        points_color = palette_points[i % len(palette_points)]  # Cycle through jitter colors\n",
    "        \n",
    "        fig.add_trace(go.Box(\n",
    "            # Filter data for each group\n",
    "            x=data['UPDRS_class_bis'][data['UPDRS_class_bis'] == group], \n",
    "            y=data['WA'][data['UPDRS_class_bis'] == group],  \n",
    "\n",
    "            # Show all points\n",
    "            boxpoints='all',\n",
    "            jitter=0.5,  # Jitter the points for better visibility\n",
    "            whiskerwidth=0.4,  \n",
    "            fillcolor=box_color,  # Color of the box\n",
    "            marker_size=3,  # Marker size for points\n",
    "            marker_color=points_color, # Color of the points\n",
    "            line_width=1.5,  # Border width of the box\n",
    "            pointpos=0, # Center the points with the box\n",
    "        ), row=row, col=col)\n",
    "\n",
    "# Add boxplots for each trace (WM and GM data)\n",
    "\n",
    "# White matter plots\n",
    "add_boxplot_for_subplot(df_WM['FA'], 2, 3)\n",
    "add_boxplot_for_subplot(df_WM['MD'], 3, 3)\n",
    "add_boxplot_for_subplot(df_WM['AD'], 4, 3)\n",
    "add_boxplot_for_subplot(df_WM['RD'], 5, 3)\n",
    "add_boxplot_for_subplot(df_WM['ODI'], 2, 4)\n",
    "add_boxplot_for_subplot(df_WM['FISO'], 3, 4)\n",
    "add_boxplot_for_subplot(df_WM['FICVF'], 4, 4)\n",
    "add_boxplot_for_subplot(df_WM['MTR'], 5, 4)\n",
    "\n",
    "# Gray matter plots\n",
    "add_boxplot_for_subplot(df_GM['ODI'], 4, 1)\n",
    "add_boxplot_for_subplot(df_GM['FISO'], 5, 1)\n",
    "add_boxplot_for_subplot(df_GM['FICVF'], 6, 1)\n",
    "\n",
    "# WM/GM plots\n",
    "add_boxplot_for_subplot(df_WMGM['T2star'], 6, 4)\n",
    "\n",
    "# Update layout\n",
    "fig.update_layout(\n",
    "    margin=dict(\n",
    "        l=200,  # left margin\n",
    "        r=200,  # right margin\n",
    "        t=200,  # top margin\n",
    "        b=200,  # bottom margin\n",
    "    ),\n",
    "    width=1300, \n",
    "    height=1400,\n",
    "    showlegend=False, \n",
    ")\n",
    "\n",
    "### ADD STATIC BACKGROUND IMAGE ###\n",
    "fig.update_layout(\n",
    "    images=[dict(\n",
    "        source='Figure4_template.png',  \n",
    "        x=-0.22,\n",
    "        y=0.97,\n",
    "        xanchor=\"left\",\n",
    "        yanchor=\"top\",\n",
    "        sizex=1.4,\n",
    "        sizey=1.39, \n",
    "        layer=\"below\",  \n",
    "    )],\n",
    ")\n",
    "\n",
    "fig.show()"
   ]
  }
 ],
 "metadata": {
  "kernelspec": {
   "display_name": "Python 3",
   "language": "python",
   "name": "python3"
  },
  "language_info": {
   "codemirror_mode": {
    "name": "ipython",
    "version": 3
   },
   "file_extension": ".py",
   "mimetype": "text/x-python",
   "name": "python",
   "nbconvert_exporter": "python",
   "pygments_lexer": "ipython3",
   "version": "3.12.2"
  }
 },
 "nbformat": 4,
 "nbformat_minor": 5
}
