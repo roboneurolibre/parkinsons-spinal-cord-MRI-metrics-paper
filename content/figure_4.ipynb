{
 "cells": [
  {
   "cell_type": "code",
   "execution_count": 145,
   "id": "fb688a53-193c-4374-bd9e-8f67ac59e589",
   "metadata": {
    "tags": []
   },
   "outputs": [
    {
     "name": "stdout",
     "output_type": "stream",
     "text": [
      "OLS results for WM MTR in C2-C5:                             OLS Regression Results                            \n",
      "==============================================================================\n",
      "Dep. Variable:                     WA   R-squared:                       0.213\n",
      "Model:                            OLS   Adj. R-squared:                  0.181\n",
      "Method:                 Least Squares   F-statistic:                     6.692\n",
      "Date:                Thu, 10 Apr 2025   Prob (F-statistic):           8.27e-05\n",
      "Time:                        13:06:05   Log-Likelihood:                 173.77\n",
      "No. Observations:                 104   AIC:                            -337.5\n",
      "Df Residuals:                      99   BIC:                            -324.3\n",
      "Df Model:                           4                                         \n",
      "Covariance Type:            nonrobust                                         \n",
      "=============================================================================================\n",
      "                                coef    std err          t      P>|t|      [0.025      0.975]\n",
      "---------------------------------------------------------------------------------------------\n",
      "Intercept                     0.6571      0.030     21.948      0.000       0.598       0.716\n",
      "C(UPDRS_class_bis)[T.adv]    -0.0307      0.013     -2.378      0.019      -0.056      -0.005\n",
      "C(UPDRS_class_bis)[T.low]    -0.0051      0.012     -0.414      0.680      -0.030       0.019\n",
      "C(UPDRS_class_bis)[T.med]     0.0148      0.013      1.178      0.241      -0.010       0.040\n",
      "Age                          -0.0016      0.000     -3.481      0.001      -0.003      -0.001\n",
      "==============================================================================\n",
      "Omnibus:                        7.224   Durbin-Watson:                   1.894\n",
      "Prob(Omnibus):                  0.027   Jarque-Bera (JB):                7.695\n",
      "Skew:                          -0.437   Prob(JB):                       0.0213\n",
      "Kurtosis:                       4.005   Cond. No.                         422.\n",
      "==============================================================================\n",
      "\n",
      "Notes:\n",
      "[1] Standard Errors assume that the covariance matrix of the errors is correctly specified.\n",
      "ANOVA results :                       sum_sq    df          F    PR(>F)\n",
      "C(UPDRS_class_bis)  0.022944   3.0   3.515199  0.017973\n",
      "Age                 0.026363   1.0  12.117124  0.000745\n",
      "Residual            0.215395  99.0        NaN       NaN\n",
      "OLS results for WM MTR in C2-C5:                             OLS Regression Results                            \n",
      "==============================================================================\n",
      "Dep. Variable:                     WA   R-squared:                       0.065\n",
      "Model:                            OLS   Adj. R-squared:                  0.027\n",
      "Method:                 Least Squares   F-statistic:                     1.709\n",
      "Date:                Thu, 10 Apr 2025   Prob (F-statistic):              0.154\n",
      "Time:                        13:06:05   Log-Likelihood:                 807.60\n",
      "No. Observations:                 104   AIC:                            -1605.\n",
      "Df Residuals:                      99   BIC:                            -1592.\n",
      "Df Model:                           4                                         \n",
      "Covariance Type:            nonrobust                                         \n",
      "=============================================================================================\n",
      "                                coef    std err          t      P>|t|      [0.025      0.975]\n",
      "---------------------------------------------------------------------------------------------\n",
      "Intercept                     0.0008   6.75e-05     11.688      0.000       0.001       0.001\n",
      "C(UPDRS_class_bis)[T.adv]  -2.62e-05   2.92e-05     -0.899      0.371    -8.4e-05    3.16e-05\n",
      "C(UPDRS_class_bis)[T.low] -2.273e-05   2.78e-05     -0.817      0.416   -7.79e-05    3.24e-05\n",
      "C(UPDRS_class_bis)[T.med] -6.838e-05   2.83e-05     -2.421      0.017      -0.000   -1.23e-05\n",
      "Age                        1.197e-06   1.05e-06      1.138      0.258   -8.89e-07    3.28e-06\n",
      "==============================================================================\n",
      "Omnibus:                        7.572   Durbin-Watson:                   2.211\n",
      "Prob(Omnibus):                  0.023   Jarque-Bera (JB):                4.403\n",
      "Skew:                          -0.318   Prob(JB):                        0.111\n",
      "Kurtosis:                       2.217   Cond. No.                         422.\n",
      "==============================================================================\n",
      "\n",
      "Notes:\n",
      "[1] Standard Errors assume that the covariance matrix of the errors is correctly specified.\n",
      "ANOVA results :                           sum_sq    df         F    PR(>F)\n",
      "C(UPDRS_class_bis)  6.492417e-08   3.0  1.955596  0.125617\n",
      "Age                 1.434191e-08   1.0  1.295988  0.257695\n",
      "Residual            1.095573e-06  99.0       NaN       NaN\n",
      "OLS results for WM MTR in C2-C5:                             OLS Regression Results                            \n",
      "==============================================================================\n",
      "Dep. Variable:                     WA   R-squared:                       0.049\n",
      "Model:                            OLS   Adj. R-squared:                  0.010\n",
      "Method:                 Least Squares   F-statistic:                     1.265\n",
      "Date:                Thu, 10 Apr 2025   Prob (F-statistic):              0.289\n",
      "Time:                        13:06:05   Log-Likelihood:                 736.03\n",
      "No. Observations:                 104   AIC:                            -1462.\n",
      "Df Residuals:                      99   BIC:                            -1449.\n",
      "Df Model:                           4                                         \n",
      "Covariance Type:            nonrobust                                         \n",
      "=============================================================================================\n",
      "                                coef    std err          t      P>|t|      [0.025      0.975]\n",
      "---------------------------------------------------------------------------------------------\n",
      "Intercept                     0.0015      0.000     11.261      0.000       0.001       0.002\n",
      "C(UPDRS_class_bis)[T.adv] -9.978e-05    5.8e-05     -1.720      0.089      -0.000    1.53e-05\n",
      "C(UPDRS_class_bis)[T.low] -5.241e-05   5.53e-05     -0.947      0.346      -0.000    5.74e-05\n",
      "C(UPDRS_class_bis)[T.med]    -0.0001   5.62e-05     -1.863      0.065      -0.000    6.82e-06\n",
      "Age                       -5.158e-07   2.09e-06     -0.247      0.806   -4.67e-06    3.64e-06\n",
      "==============================================================================\n",
      "Omnibus:                        9.045   Durbin-Watson:                   2.112\n",
      "Prob(Omnibus):                  0.011   Jarque-Bera (JB):                4.149\n",
      "Skew:                          -0.234   Prob(JB):                        0.126\n",
      "Kurtosis:                       2.141   Cond. No.                         422.\n",
      "==============================================================================\n",
      "\n",
      "Notes:\n",
      "[1] Standard Errors assume that the covariance matrix of the errors is correctly specified.\n",
      "ANOVA results :                           sum_sq    df         F    PR(>F)\n",
      "C(UPDRS_class_bis)  2.064749e-07   3.0  1.570532  0.201325\n",
      "Age                 2.663461e-09   1.0  0.060778  0.805781\n",
      "Residual            4.338449e-06  99.0       NaN       NaN\n",
      "OLS results for WM MTR in C2-C5:                             OLS Regression Results                            \n",
      "==============================================================================\n",
      "Dep. Variable:                     WA   R-squared:                       0.174\n",
      "Model:                            OLS   Adj. R-squared:                  0.141\n",
      "Method:                 Least Squares   F-statistic:                     5.210\n",
      "Date:                Thu, 10 Apr 2025   Prob (F-statistic):           0.000751\n",
      "Time:                        13:06:05   Log-Likelihood:                 853.46\n",
      "No. Observations:                 104   AIC:                            -1697.\n",
      "Df Residuals:                      99   BIC:                            -1684.\n",
      "Df Model:                           4                                         \n",
      "Covariance Type:            nonrobust                                         \n",
      "=============================================================================================\n",
      "                                coef    std err          t      P>|t|      [0.025      0.975]\n",
      "---------------------------------------------------------------------------------------------\n",
      "Intercept                     0.0004   4.34e-05      9.833      0.000       0.000       0.001\n",
      "C(UPDRS_class_bis)[T.adv]  1.059e-05   1.88e-05      0.565      0.573   -2.66e-05    4.78e-05\n",
      "C(UPDRS_class_bis)[T.low] -7.897e-06   1.79e-05     -0.441      0.660   -4.34e-05    2.76e-05\n",
      "C(UPDRS_class_bis)[T.med] -5.021e-05   1.82e-05     -2.762      0.007   -8.63e-05   -1.41e-05\n",
      "Age                        2.053e-06   6.77e-07      3.035      0.003    7.11e-07     3.4e-06\n",
      "==============================================================================\n",
      "Omnibus:                        1.201   Durbin-Watson:                   2.207\n",
      "Prob(Omnibus):                  0.549   Jarque-Bera (JB):                1.061\n",
      "Skew:                           0.015   Prob(JB):                        0.588\n",
      "Kurtosis:                       2.506   Cond. No.                         422.\n",
      "==============================================================================\n",
      "\n",
      "Notes:\n",
      "[1] Standard Errors assume that the covariance matrix of the errors is correctly specified.\n",
      "ANOVA results :                           sum_sq    df         F    PR(>F)\n",
      "C(UPDRS_class_bis)  4.834113e-08   3.0  3.517307  0.017926\n",
      "Age                 4.220613e-08   1.0  9.212769  0.003071\n",
      "Residual            4.535452e-07  99.0       NaN       NaN\n",
      "OLS results for WM MTR in C2-C5:                             OLS Regression Results                            \n",
      "==============================================================================\n",
      "Dep. Variable:                     WA   R-squared:                       0.063\n",
      "Model:                            OLS   Adj. R-squared:                  0.025\n",
      "Method:                 Least Squares   F-statistic:                     1.656\n",
      "Date:                Thu, 10 Apr 2025   Prob (F-statistic):              0.166\n",
      "Time:                        13:06:05   Log-Likelihood:                 173.66\n",
      "No. Observations:                 104   AIC:                            -337.3\n",
      "Df Residuals:                      99   BIC:                            -324.1\n",
      "Df Model:                           4                                         \n",
      "Covariance Type:            nonrobust                                         \n",
      "=============================================================================================\n",
      "                                coef    std err          t      P>|t|      [0.025      0.975]\n",
      "---------------------------------------------------------------------------------------------\n",
      "Intercept                     0.1169      0.030      3.899      0.000       0.057       0.176\n",
      "C(UPDRS_class_bis)[T.adv]     0.0277      0.013      2.139      0.035       0.002       0.053\n",
      "C(UPDRS_class_bis)[T.low]     0.0109      0.012      0.885      0.379      -0.014       0.035\n",
      "C(UPDRS_class_bis)[T.med]     0.0155      0.013      1.239      0.218      -0.009       0.040\n",
      "Age                           0.0004      0.000      0.900      0.370      -0.001       0.001\n",
      "==============================================================================\n",
      "Omnibus:                        4.836   Durbin-Watson:                   2.131\n",
      "Prob(Omnibus):                  0.089   Jarque-Bera (JB):                4.662\n",
      "Skew:                           0.465   Prob(JB):                       0.0972\n",
      "Kurtosis:                       2.542   Cond. No.                         422.\n",
      "==============================================================================\n",
      "\n",
      "Notes:\n",
      "[1] Standard Errors assume that the covariance matrix of the errors is correctly specified.\n",
      "ANOVA results :                       sum_sq    df         F    PR(>F)\n",
      "C(UPDRS_class_bis)  0.010495   3.0  1.604432  0.193201\n",
      "Age                 0.001766   1.0  0.809902  0.370333\n",
      "Residual            0.215867  99.0       NaN       NaN\n",
      "OLS results for WM MTR in C2-C5:                             OLS Regression Results                            \n",
      "==============================================================================\n",
      "Dep. Variable:                     WA   R-squared:                       0.163\n",
      "Model:                            OLS   Adj. R-squared:                  0.129\n",
      "Method:                 Least Squares   F-statistic:                     4.819\n",
      "Date:                Thu, 10 Apr 2025   Prob (F-statistic):            0.00136\n",
      "Time:                        13:06:05   Log-Likelihood:                 139.72\n",
      "No. Observations:                 104   AIC:                            -269.4\n",
      "Df Residuals:                      99   BIC:                            -256.2\n",
      "Df Model:                           4                                         \n",
      "Covariance Type:            nonrobust                                         \n",
      "=============================================================================================\n",
      "                                coef    std err          t      P>|t|      [0.025      0.975]\n",
      "---------------------------------------------------------------------------------------------\n",
      "Intercept                     0.2316      0.042      5.576      0.000       0.149       0.314\n",
      "C(UPDRS_class_bis)[T.adv]     0.0061      0.018      0.341      0.734      -0.029       0.042\n",
      "C(UPDRS_class_bis)[T.low]    -0.0270      0.017     -1.580      0.117      -0.061       0.007\n",
      "C(UPDRS_class_bis)[T.med]    -0.0390      0.017     -2.246      0.027      -0.074      -0.005\n",
      "Age                           0.0020      0.001      3.072      0.003       0.001       0.003\n",
      "==============================================================================\n",
      "Omnibus:                        3.446   Durbin-Watson:                   2.179\n",
      "Prob(Omnibus):                  0.179   Jarque-Bera (JB):                1.996\n",
      "Skew:                           0.005   Prob(JB):                        0.369\n",
      "Kurtosis:                       2.321   Cond. No.                         422.\n",
      "==============================================================================\n",
      "\n",
      "Notes:\n",
      "[1] Standard Errors assume that the covariance matrix of the errors is correctly specified.\n",
      "ANOVA results :                       sum_sq    df         F    PR(>F)\n",
      "C(UPDRS_class_bis)  0.033348   3.0  2.654324  0.052702\n",
      "Age                 0.039511   1.0  9.434739  0.002749\n",
      "Residual            0.414598  99.0       NaN       NaN\n",
      "OLS results for WM MTR in C2-C5:                             OLS Regression Results                            \n",
      "==============================================================================\n",
      "Dep. Variable:                     WA   R-squared:                       0.075\n",
      "Model:                            OLS   Adj. R-squared:                  0.038\n",
      "Method:                 Least Squares   F-statistic:                     2.010\n",
      "Date:                Thu, 10 Apr 2025   Prob (F-statistic):             0.0989\n",
      "Time:                        13:06:05   Log-Likelihood:                 111.82\n",
      "No. Observations:                 104   AIC:                            -213.6\n",
      "Df Residuals:                      99   BIC:                            -200.4\n",
      "Df Model:                           4                                         \n",
      "Covariance Type:            nonrobust                                         \n",
      "=============================================================================================\n",
      "                                coef    std err          t      P>|t|      [0.025      0.975]\n",
      "---------------------------------------------------------------------------------------------\n",
      "Intercept                     0.6826      0.054     12.568      0.000       0.575       0.790\n",
      "C(UPDRS_class_bis)[T.adv]     0.0336      0.023      1.432      0.155      -0.013       0.080\n",
      "C(UPDRS_class_bis)[T.low]    -0.0144      0.022     -0.643      0.522      -0.059       0.030\n",
      "C(UPDRS_class_bis)[T.med]     0.0292      0.023      1.287      0.201      -0.016       0.074\n",
      "Age                           0.0011      0.001      1.249      0.215      -0.001       0.003\n",
      "==============================================================================\n",
      "Omnibus:                        2.800   Durbin-Watson:                   2.081\n",
      "Prob(Omnibus):                  0.247   Jarque-Bera (JB):                1.921\n",
      "Skew:                          -0.126   Prob(JB):                        0.383\n",
      "Kurtosis:                       2.383   Cond. No.                         422.\n",
      "==============================================================================\n",
      "\n",
      "Notes:\n",
      "[1] Standard Errors assume that the covariance matrix of the errors is correctly specified.\n",
      "ANOVA results :                       sum_sq    df         F    PR(>F)\n",
      "C(UPDRS_class_bis)  0.035770   3.0  1.664934  0.179474\n",
      "Age                 0.011167   1.0  1.559363  0.214703\n",
      "Residual            0.708986  99.0       NaN       NaN\n",
      "OLS results for WM MTR in C2-C5:                             OLS Regression Results                            \n",
      "==============================================================================\n",
      "Dep. Variable:                     WA   R-squared:                       0.106\n",
      "Model:                            OLS   Adj. R-squared:                  0.066\n",
      "Method:                 Least Squares   F-statistic:                     2.666\n",
      "Date:                Thu, 10 Apr 2025   Prob (F-statistic):             0.0374\n",
      "Time:                        13:06:05   Log-Likelihood:                -189.25\n",
      "No. Observations:                  95   AIC:                             388.5\n",
      "Df Residuals:                      90   BIC:                             401.3\n",
      "Df Model:                           4                                         \n",
      "Covariance Type:            nonrobust                                         \n",
      "=============================================================================================\n",
      "                                coef    std err          t      P>|t|      [0.025      0.975]\n",
      "---------------------------------------------------------------------------------------------\n",
      "Intercept                    48.1992      1.203     40.071      0.000      45.810      50.589\n",
      "C(UPDRS_class_bis)[T.adv]    -0.7646      0.529     -1.446      0.152      -1.815       0.286\n",
      "C(UPDRS_class_bis)[T.low]    -0.5841      0.500     -1.167      0.246      -1.578       0.410\n",
      "C(UPDRS_class_bis)[T.med]     0.1606      0.519      0.309      0.758      -0.871       1.192\n",
      "Age                          -0.0444      0.019     -2.355      0.021      -0.082      -0.007\n",
      "==============================================================================\n",
      "Omnibus:                       11.716   Durbin-Watson:                   1.398\n",
      "Prob(Omnibus):                  0.003   Jarque-Bera (JB):               18.507\n",
      "Skew:                          -0.510   Prob(JB):                     9.58e-05\n",
      "Kurtosis:                       4.907   Cond. No.                         415.\n",
      "==============================================================================\n",
      "\n",
      "Notes:\n",
      "[1] Standard Errors assume that the covariance matrix of the errors is correctly specified.\n",
      "ANOVA results :                         sum_sq    df         F    PR(>F)\n",
      "C(UPDRS_class_bis)   12.703515   3.0  1.274849  0.287847\n",
      "Age                  18.425246   1.0  5.547143  0.020684\n",
      "Residual            298.941641  90.0       NaN       NaN\n",
      "OLS results for WM MTR in C2-C5:                             OLS Regression Results                            \n",
      "==============================================================================\n",
      "Dep. Variable:                     WA   R-squared:                       0.017\n",
      "Model:                            OLS   Adj. R-squared:                 -0.022\n",
      "Method:                 Least Squares   F-statistic:                    0.4360\n",
      "Date:                Thu, 10 Apr 2025   Prob (F-statistic):              0.782\n",
      "Time:                        13:06:05   Log-Likelihood:                 176.47\n",
      "No. Observations:                 104   AIC:                            -342.9\n",
      "Df Residuals:                      99   BIC:                            -329.7\n",
      "Df Model:                           4                                         \n",
      "Covariance Type:            nonrobust                                         \n",
      "=============================================================================================\n",
      "                                coef    std err          t      P>|t|      [0.025      0.975]\n",
      "---------------------------------------------------------------------------------------------\n",
      "Intercept                     0.2120      0.029      7.268      0.000       0.154       0.270\n",
      "C(UPDRS_class_bis)[T.adv]     0.0136      0.013      1.077      0.284      -0.011       0.039\n",
      "C(UPDRS_class_bis)[T.low]     0.0085      0.012      0.711      0.479      -0.015       0.032\n",
      "C(UPDRS_class_bis)[T.med]     0.0091      0.012      0.747      0.457      -0.015       0.033\n",
      "Age                           0.0002      0.000      0.419      0.676      -0.001       0.001\n",
      "==============================================================================\n",
      "Omnibus:                        3.706   Durbin-Watson:                   2.032\n",
      "Prob(Omnibus):                  0.157   Jarque-Bera (JB):                3.511\n",
      "Skew:                           0.449   Prob(JB):                        0.173\n",
      "Kurtosis:                       2.954   Cond. No.                         422.\n",
      "==============================================================================\n",
      "\n",
      "Notes:\n",
      "[1] Standard Errors assume that the covariance matrix of the errors is correctly specified.\n",
      "ANOVA results :                       sum_sq    df         F    PR(>F)\n",
      "C(UPDRS_class_bis)  0.002831   3.0  0.456807  0.713085\n",
      "Age                 0.000363   1.0  0.175496  0.676180\n",
      "Residual            0.204516  99.0       NaN       NaN\n",
      "OLS results for WM MTR in C2-C5:                             OLS Regression Results                            \n",
      "==============================================================================\n",
      "Dep. Variable:                     WA   R-squared:                       0.179\n",
      "Model:                            OLS   Adj. R-squared:                  0.146\n",
      "Method:                 Least Squares   F-statistic:                     5.403\n",
      "Date:                Thu, 10 Apr 2025   Prob (F-statistic):           0.000562\n",
      "Time:                        13:06:05   Log-Likelihood:                 121.58\n",
      "No. Observations:                 104   AIC:                            -233.2\n",
      "Df Residuals:                      99   BIC:                            -219.9\n",
      "Df Model:                           4                                         \n",
      "Covariance Type:            nonrobust                                         \n",
      "=============================================================================================\n",
      "                                coef    std err          t      P>|t|      [0.025      0.975]\n",
      "---------------------------------------------------------------------------------------------\n",
      "Intercept                     0.1837      0.049      3.716      0.000       0.086       0.282\n",
      "C(UPDRS_class_bis)[T.adv]     0.0146      0.021      0.682      0.497      -0.028       0.057\n",
      "C(UPDRS_class_bis)[T.low]    -0.0292      0.020     -1.432      0.155      -0.070       0.011\n",
      "C(UPDRS_class_bis)[T.med]    -0.0424      0.021     -2.049      0.043      -0.083      -0.001\n",
      "Age                           0.0026      0.001      3.337      0.001       0.001       0.004\n",
      "==============================================================================\n",
      "Omnibus:                        4.119   Durbin-Watson:                   2.078\n",
      "Prob(Omnibus):                  0.127   Jarque-Bera (JB):                2.361\n",
      "Skew:                           0.114   Prob(JB):                        0.307\n",
      "Kurtosis:                       2.298   Cond. No.                         422.\n",
      "==============================================================================\n",
      "\n",
      "Notes:\n",
      "[1] Standard Errors assume that the covariance matrix of the errors is correctly specified.\n",
      "ANOVA results :                       sum_sq    df          F    PR(>F)\n",
      "C(UPDRS_class_bis)  0.046933   3.0   2.635322  0.053968\n",
      "Age                 0.066112   1.0  11.136786  0.001193\n",
      "Residual            0.587701  99.0        NaN       NaN\n",
      "OLS results for WM MTR in C2-C5:                             OLS Regression Results                            \n",
      "==============================================================================\n",
      "Dep. Variable:                     WA   R-squared:                       0.120\n",
      "Model:                            OLS   Adj. R-squared:                  0.084\n",
      "Method:                 Least Squares   F-statistic:                     3.361\n",
      "Date:                Thu, 10 Apr 2025   Prob (F-statistic):             0.0127\n",
      "Time:                        13:06:05   Log-Likelihood:                 94.356\n",
      "No. Observations:                 104   AIC:                            -178.7\n",
      "Df Residuals:                      99   BIC:                            -165.5\n",
      "Df Model:                           4                                         \n",
      "Covariance Type:            nonrobust                                         \n",
      "=============================================================================================\n",
      "                                coef    std err          t      P>|t|      [0.025      0.975]\n",
      "---------------------------------------------------------------------------------------------\n",
      "Intercept                     0.6357      0.064      9.895      0.000       0.508       0.763\n",
      "C(UPDRS_class_bis)[T.adv]     0.0517      0.028      1.866      0.065      -0.003       0.107\n",
      "C(UPDRS_class_bis)[T.low]    -0.0170      0.026     -0.644      0.521      -0.070       0.035\n",
      "C(UPDRS_class_bis)[T.med]     0.0249      0.027      0.926      0.357      -0.028       0.078\n",
      "Age                           0.0021      0.001      2.147      0.034       0.000       0.004\n",
      "==============================================================================\n",
      "Omnibus:                        2.047   Durbin-Watson:                   2.022\n",
      "Prob(Omnibus):                  0.359   Jarque-Bera (JB):                1.905\n",
      "Skew:                          -0.236   Prob(JB):                        0.386\n",
      "Kurtosis:                       2.535   Cond. No.                         422.\n",
      "==============================================================================\n",
      "\n",
      "Notes:\n",
      "[1] Standard Errors assume that the covariance matrix of the errors is correctly specified.\n",
      "ANOVA results :                       sum_sq    df         F    PR(>F)\n",
      "C(UPDRS_class_bis)  0.058654   3.0  1.951188  0.126302\n",
      "Age                 0.046201   1.0  4.610791  0.034213\n",
      "Residual            0.992009  99.0       NaN       NaN\n",
      "OLS results for WM MTR in C2-C5:                             OLS Regression Results                            \n",
      "==============================================================================\n",
      "Dep. Variable:                     WA   R-squared:                       0.350\n",
      "Model:                            OLS   Adj. R-squared:                  0.315\n",
      "Method:                 Least Squares   F-statistic:                     9.957\n",
      "Date:                Thu, 10 Apr 2025   Prob (F-statistic):           1.68e-06\n",
      "Time:                        13:06:05   Log-Likelihood:                 193.97\n",
      "No. Observations:                  79   AIC:                            -377.9\n",
      "Df Residuals:                      74   BIC:                            -366.1\n",
      "Df Model:                           4                                         \n",
      "Covariance Type:            nonrobust                                         \n",
      "=============================================================================================\n",
      "                                coef    std err          t      P>|t|      [0.025      0.975]\n",
      "---------------------------------------------------------------------------------------------\n",
      "Intercept                     0.8521      0.017     50.709      0.000       0.819       0.886\n",
      "C(UPDRS_class_bis)[T.adv]     0.0187      0.007      2.684      0.009       0.005       0.033\n",
      "C(UPDRS_class_bis)[T.low]     0.0028      0.007      0.410      0.683      -0.011       0.016\n",
      "C(UPDRS_class_bis)[T.med]     0.0027      0.007      0.387      0.700      -0.011       0.016\n",
      "Age                           0.0012      0.000      4.866      0.000       0.001       0.002\n",
      "==============================================================================\n",
      "Omnibus:                        2.973   Durbin-Watson:                   2.101\n",
      "Prob(Omnibus):                  0.226   Jarque-Bera (JB):                2.840\n",
      "Skew:                           0.401   Prob(JB):                        0.242\n",
      "Kurtosis:                       2.531   Cond. No.                         457.\n",
      "==============================================================================\n",
      "\n",
      "Notes:\n",
      "[1] Standard Errors assume that the covariance matrix of the errors is correctly specified.\n",
      "ANOVA results :                       sum_sq    df          F    PR(>F)\n",
      "C(UPDRS_class_bis)  0.004044   3.0   2.926561  0.039272\n",
      "Age                 0.010905   1.0  23.677366  0.000006\n",
      "Residual            0.034083  74.0        NaN       NaN\n"
     ]
    },
    {
     "data": {
      "application/vnd.plotly.v1+json": {
       "config": {
        "plotlyServerURL": "https://plot.ly"
       },
       "data": [
        {
         "boxpoints": "all",
         "fillcolor": "steelblue",
         "jitter": 0.7,
         "line": {
          "color": "black",
          "width": 1
         },
         "marker": {
          "color": "#00517F",
          "opacity": 0.8,
          "size": 2.5
         },
         "pointpos": 0,
         "type": "box",
         "whiskerwidth": 0.8,
         "x": [
          "CTRL",
          "CTRL",
          "CTRL",
          "CTRL",
          "CTRL",
          "CTRL",
          "CTRL",
          "CTRL",
          "CTRL",
          "CTRL",
          "CTRL",
          "CTRL",
          "CTRL",
          "CTRL",
          "CTRL",
          "CTRL",
          "CTRL",
          "CTRL",
          "CTRL",
          "CTRL",
          "CTRL",
          "CTRL",
          "CTRL",
          "CTRL",
          "CTRL",
          "CTRL",
          "CTRL",
          "CTRL",
          "CTRL",
          "CTRL",
          "CTRL",
          "CTRL",
          "CTRL",
          "CTRL",
          "CTRL",
          "CTRL",
          "CTRL",
          "CTRL"
         ],
         "xaxis": "x7",
         "y": {
          "bdata": "jKl1lOOr3D9/j9Fs5FvdP0cd8tbG5uE/iR7awlEE4j+ROZkvZDLhP+2QGaqN+uE/PUKiEM6l4D9ma4cDRAjhPy3trpXL5OE/41Yg/or64j9NQ4IZu/PiPyGpbPUo7uQ/F8NEn2lb4D+H3jMpPcfhPyXVsSnbMOA/pKWXvRFi4T80tp3XVG3jP2yDgm4JcuA/hhUq3Evq3z9DWgVfCKHjP13TndZWlOI/et6pWrSL4j/1tdg0iXbiP+wc+0CPROE/EwjEtgiW2j8V/eO1+bzjPxCQkss9nOY/8b/1XgWT4j/Opm8O4QzhP23rkGM3mOI/FUriiXmm4D81mPN9UiziP7uizrs1ieE/heScjLWV4z9AkoqtPQ/hP+da0lbH/+E/A0F7U2NC4z8xTsDSoLjhPw==",
          "dtype": "f8"
         },
         "yaxis": "y7"
        },
        {
         "boxpoints": "all",
         "fillcolor": "#F0B0B0",
         "jitter": 0.7,
         "line": {
          "color": "black",
          "width": 1
         },
         "marker": {
          "color": "#B4464F",
          "opacity": 0.8,
          "size": 2.5
         },
         "pointpos": 0,
         "type": "box",
         "whiskerwidth": 0.8,
         "x": [
          "low",
          "low",
          "low",
          "low",
          "low",
          "low",
          "low",
          "low",
          "low",
          "low",
          "low",
          "low",
          "low",
          "low",
          "low",
          "low",
          "low",
          "low",
          "low",
          "low",
          "low",
          "low",
          "low"
         ],
         "xaxis": "x7",
         "y": {
          "bdata": "KLMHe48q4j8+ntDKQTniPxJijBrcnuE/5qX4fr5b5D8vMJP3XZDdP7XjwIrXZeI/wLU+pX114T+74A7/qdvhP6CG85mB9OA/KACea5rC4z/7yzWfT9HgP/2KkBVXgOA/i1Lfhe814z9IIeJJfz3hP+3vRsg7Rd0/wZK6gymh4T8fVG0tT8TfP2G1LykJPOE/O5H4xiR04z/hQotdvL7hP/T/K6RcV+I/xaMVXtCi4T+dFvtMb+/iPw==",
          "dtype": "f8"
         },
         "yaxis": "y7"
        },
        {
         "boxpoints": "all",
         "fillcolor": "lightcoral",
         "jitter": 0.7,
         "line": {
          "color": "black",
          "width": 1
         },
         "marker": {
          "color": "#B4464F",
          "opacity": 0.8,
          "size": 2.5
         },
         "pointpos": 0,
         "type": "box",
         "whiskerwidth": 0.8,
         "x": [
          "med",
          "med",
          "med",
          "med",
          "med",
          "med",
          "med",
          "med",
          "med",
          "med",
          "med",
          "med",
          "med",
          "med",
          "med",
          "med",
          "med",
          "med",
          "med",
          "med",
          "med",
          "med"
         ],
         "xaxis": "x7",
         "y": {
          "bdata": "aMg+6cAp4z/ZC6JBTLriP7j2CKxRnOE/SV5juLaX4j/kYLo5KrHgP41xdzbhN+I/KU+QQNLz4j+t853P6G3gP/GoSr6GPuM/1grasf804T9GY4UM+H3iP2ROb/32cOE/VR7LJc/B4D9/dJuEk/PjP7tM7xA2VOM/A1P2K9fq4T/z/eZbpR/jP2YagiCWtuA/BwWgrysW4j9TdP7PXEXhP8CT8GYIleE/GJXwXpdc5D8=",
          "dtype": "f8"
         },
         "yaxis": "y7"
        },
        {
         "boxpoints": "all",
         "fillcolor": "#B4464F",
         "jitter": 0.7,
         "line": {
          "color": "black",
          "width": 1
         },
         "marker": {
          "color": "#5E000E",
          "opacity": 0.8,
          "size": 2.5
         },
         "pointpos": 0,
         "type": "box",
         "whiskerwidth": 0.8,
         "x": [
          "adv",
          "adv",
          "adv",
          "adv",
          "adv",
          "adv",
          "adv",
          "adv",
          "adv",
          "adv",
          "adv",
          "adv",
          "adv",
          "adv",
          "adv",
          "adv",
          "adv",
          "adv",
          "adv",
          "adv",
          "adv"
         ],
         "xaxis": "x7",
         "y": {
          "bdata": "3Wtpt1tn2j+rKdOsj67ePw99yHJKhOE/5NyBlZ4k4T/nJq6Ga/XgP6ZaX7Je7eA/cXYDtpeF4D8moiWwtU7gPz1k65WJHeQ/sB30u5yx1z+Fwtc/ntnhPxu2/ZBWI+E/PYhO45/I4T/gx0VzbIbiP7dFuhsbfOI/Bg34WqLj3j9w1u+ogojfP6gS+4qJe98/35LzMHrv3j/jEadWCb3hPxxnfxIy/94/",
          "dtype": "f8"
         },
         "yaxis": "y7"
        },
        {
         "boxpoints": "all",
         "fillcolor": "steelblue",
         "jitter": 0.7,
         "line": {
          "color": "black",
          "width": 1
         },
         "marker": {
          "color": "#00517F",
          "opacity": 0.8,
          "size": 2.5
         },
         "pointpos": 0,
         "type": "box",
         "whiskerwidth": 0.8,
         "x": [
          "CTRL",
          "CTRL",
          "CTRL",
          "CTRL",
          "CTRL",
          "CTRL",
          "CTRL",
          "CTRL",
          "CTRL",
          "CTRL",
          "CTRL",
          "CTRL",
          "CTRL",
          "CTRL",
          "CTRL",
          "CTRL",
          "CTRL",
          "CTRL",
          "CTRL",
          "CTRL",
          "CTRL",
          "CTRL",
          "CTRL",
          "CTRL",
          "CTRL",
          "CTRL",
          "CTRL",
          "CTRL",
          "CTRL",
          "CTRL",
          "CTRL",
          "CTRL",
          "CTRL",
          "CTRL",
          "CTRL",
          "CTRL",
          "CTRL",
          "CTRL"
         ],
         "xaxis": "x11",
         "y": {
          "bdata": "wyO8AKXoSz9m+MGMOINQP7WEk2wpq08/4u7w+nOhRz9nr96rzTROPybM6e/78Ek/mL6BEGOuST+J0SLEXQlJP0AdZpp2Uks/o1tHBs1vRz9+nuP8fWFKP/QDSk8A4U0/5mF4VwO1RD9nQPXDk9NKP5GdT85kwEg/c0v3r7amTD9bA68k5kpOP0qbmJioiks/QRLV3zv/UD/Bou1bVxNOP+c05eyYGE0/Cder4YUhUD8yoERv5MZMP6goBmSJsEw/53IWBeDwST/coUAjAThQPzrtXiv3u00/0mKYLwn5Sz/mEwr1GtlKP0g083f+004//Z8A4JHeSz/up6j13BRPP6zIe+T1sUk/WTJQ5AxvTT/YugRCE6pJP6wB2O2kn08/3guZGaCuSj/zfZlxGKFPPw==",
          "dtype": "f8"
         },
         "yaxis": "y11"
        },
        {
         "boxpoints": "all",
         "fillcolor": "#F0B0B0",
         "jitter": 0.7,
         "line": {
          "color": "black",
          "width": 1
         },
         "marker": {
          "color": "#B4464F",
          "opacity": 0.8,
          "size": 2.5
         },
         "pointpos": 0,
         "type": "box",
         "whiskerwidth": 0.8,
         "x": [
          "low",
          "low",
          "low",
          "low",
          "low",
          "low",
          "low",
          "low",
          "low",
          "low",
          "low",
          "low",
          "low",
          "low",
          "low",
          "low",
          "low",
          "low",
          "low",
          "low",
          "low",
          "low",
          "low"
         ],
         "xaxis": "x11",
         "y": {
          "bdata": "OP8UZljHTD/NRXlv1w5QP+8HdtsJH08/chtHi7e+TT+hoO7lOYBQP8wPT7sHBEQ/xNQuV1MaUD/Ap/VblAlKP7bOOSQnpko/JIVe8WeHTj/yTBSTyiNOPwhVp1lZCEY/TJqS7t+jSz9hN0tNq7ZFP4Du5+4cxUc/pzgb5lxuRj8uOBYjMZJEP9F7bXpzX04/5SmwojQLTD+hxgbQxHtLP6CvK/Yv+k4/ahBOWqTISz+2QD7FyphNPw==",
          "dtype": "f8"
         },
         "yaxis": "y11"
        },
        {
         "boxpoints": "all",
         "fillcolor": "lightcoral",
         "jitter": 0.7,
         "line": {
          "color": "black",
          "width": 1
         },
         "marker": {
          "color": "#B4464F",
          "opacity": 0.8,
          "size": 2.5
         },
         "pointpos": 0,
         "type": "box",
         "whiskerwidth": 0.8,
         "x": [
          "med",
          "med",
          "med",
          "med",
          "med",
          "med",
          "med",
          "med",
          "med",
          "med",
          "med",
          "med",
          "med",
          "med",
          "med",
          "med",
          "med",
          "med",
          "med",
          "med",
          "med",
          "med"
         ],
         "xaxis": "x11",
         "y": {
          "bdata": "rsmwEHEBRT8yK6SUwWVGP2vHsU7FKFA/RSSgSEtzSD9FE/C3sk5JP0tjagGQyUg/FqqqtuwnSz9PeoGH2TNKP+6P2VQ7lUw/wq4HQpvkQz9nIcI+iARGP8vaNCN0sUg/beFT4jUNTD/DoeexjixOPzExjnhPcU4/TAkPOuvKTD9PkDsZ2ghNPx/WXdGUOkQ/J4d6uu1URj++CCKk0ZFKPxv9GfKQqE4/E8bzcgi3TT8=",
          "dtype": "f8"
         },
         "yaxis": "y11"
        },
        {
         "boxpoints": "all",
         "fillcolor": "#B4464F",
         "jitter": 0.7,
         "line": {
          "color": "black",
          "width": 1
         },
         "marker": {
          "color": "#5E000E",
          "opacity": 0.8,
          "size": 2.5
         },
         "pointpos": 0,
         "type": "box",
         "whiskerwidth": 0.8,
         "x": [
          "adv",
          "adv",
          "adv",
          "adv",
          "adv",
          "adv",
          "adv",
          "adv",
          "adv",
          "adv",
          "adv",
          "adv",
          "adv",
          "adv",
          "adv",
          "adv",
          "adv",
          "adv",
          "adv",
          "adv",
          "adv"
         ],
         "xaxis": "x11",
         "y": {
          "bdata": "u3pXNe/VSj/d8k94IutNP2oueTS89kg/TABwfz1FTz8vhfihgUFKP37uc5gJaE0/Le0bMvreSj+1HIC+QTxRP4CNR1DM30w/O+0Fc68kTT+SPjaUnShQP87IuJOc1EY/QJ1LoY7vRD/uWsZ2jGVJPzP+H1WEA1A/uehXf/P+ST+DFVvMxZtJPwlAnLoEPUo/jEMwIBHZSz8a7ylh78NGP2H4nzSImk4/",
          "dtype": "f8"
         },
         "yaxis": "y11"
        },
        {
         "boxpoints": "all",
         "fillcolor": "steelblue",
         "jitter": 0.7,
         "line": {
          "color": "black",
          "width": 1
         },
         "marker": {
          "color": "#00517F",
          "opacity": 0.8,
          "size": 2.5
         },
         "pointpos": 0,
         "type": "box",
         "whiskerwidth": 0.8,
         "x": [
          "CTRL",
          "CTRL",
          "CTRL",
          "CTRL",
          "CTRL",
          "CTRL",
          "CTRL",
          "CTRL",
          "CTRL",
          "CTRL",
          "CTRL",
          "CTRL",
          "CTRL",
          "CTRL",
          "CTRL",
          "CTRL",
          "CTRL",
          "CTRL",
          "CTRL",
          "CTRL",
          "CTRL",
          "CTRL",
          "CTRL",
          "CTRL",
          "CTRL",
          "CTRL",
          "CTRL",
          "CTRL",
          "CTRL",
          "CTRL",
          "CTRL",
          "CTRL",
          "CTRL",
          "CTRL",
          "CTRL",
          "CTRL",
          "CTRL",
          "CTRL"
         ],
         "xaxis": "x15",
         "y": {
          "bdata": "iPq9SsdnVT9D3ObXIN1ZPyT6QOhcLls/4H1BSm1bVD9fptwzAXVZP4htDLMwQVY/josF5mopVT8yqEgbzeVUP9Xy9ix3glc/TeinmIDoVD/M4Xn6H5hXP1qwXIg4Slw/2siWYbOOUD+PMIYeo89WPz1Eutf97lM/a2IF6IxiWD+rE28bSEJbPxdf8SokxlY/4VdC/YJrWz9QMiAYk0BbPyBmIrFM21k/HxnqMUNDXD+blLdg/y5ZP82ORbTMC1g/LW2eDlcTUz/P4nZ8PHNdPxciRz27sV0/ChZmJdZ3WD9WRBgCKmNWP1ok9bdnCls/oalBEqLuVj+wAFAMY+daPw7NhkbBnVU/LBNiVHB9Wj9wrCH3yHRVP9O8G797PVs/IZmU1m29Vz/B2t6PV/daPw==",
          "dtype": "f8"
         },
         "yaxis": "y15"
        },
        {
         "boxpoints": "all",
         "fillcolor": "#F0B0B0",
         "jitter": 0.7,
         "line": {
          "color": "black",
          "width": 1
         },
         "marker": {
          "color": "#B4464F",
          "opacity": 0.8,
          "size": 2.5
         },
         "pointpos": 0,
         "type": "box",
         "whiskerwidth": 0.8,
         "x": [
          "low",
          "low",
          "low",
          "low",
          "low",
          "low",
          "low",
          "low",
          "low",
          "low",
          "low",
          "low",
          "low",
          "low",
          "low",
          "low",
          "low",
          "low",
          "low",
          "low",
          "low",
          "low",
          "low"
         ],
         "xaxis": "x15",
         "y": {
          "bdata": "uesZgBX5WD/FSK0yftpbPwU56/2NEFo/HwndILicWz+tnlkzro9ZP39gLqyS/VA/xiwgWWVLWz8BK3My8itWPzpFfGTJ1VU/B8B6Bzi3Wz/PtPe7DfBYP7JXDuMkg1I/gEmFDD+TWD9rBn510WdSPxCWtlpVZlI/KQ4mGce1Uj/vHBEmoQFQPxiVYrR/f1k/iPtEdaUrWT+sYUoaX1hXP8zY5LHl41o/Gn6s6imVVz/T3X+oV3FaPw==",
          "dtype": "f8"
         },
         "yaxis": "y15"
        },
        {
         "boxpoints": "all",
         "fillcolor": "lightcoral",
         "jitter": 0.7,
         "line": {
          "color": "black",
          "width": 1
         },
         "marker": {
          "color": "#B4464F",
          "opacity": 0.8,
          "size": 2.5
         },
         "pointpos": 0,
         "type": "box",
         "whiskerwidth": 0.8,
         "x": [
          "med",
          "med",
          "med",
          "med",
          "med",
          "med",
          "med",
          "med",
          "med",
          "med",
          "med",
          "med",
          "med",
          "med",
          "med",
          "med",
          "med",
          "med",
          "med",
          "med",
          "med",
          "med"
         ],
         "xaxis": "x15",
         "y": {
          "bdata": "NV+4gozRUT9Cqy4ILlRTP4Sq2GXmbFs/Dvm9BqpqVT+YzfMSKe5UP0pblI2STVU/xW/a8f72Vz/NsxiQS4lVP15CPTF2uFk/tVkYye5nUD+a/qgqjchSP8b1J6UrzlQ/Bqtj9URgVz8kJBRT0IpbP6RQTmgdS1s//72Du42vWD8HKUBgWt5ZPxf7ClMNW1A/ejI8TLQRUz/kmDRfiElWP4clcZhgH1o/fv1cqXGzWz8=",
          "dtype": "f8"
         },
         "yaxis": "y15"
        },
        {
         "boxpoints": "all",
         "fillcolor": "#B4464F",
         "jitter": 0.7,
         "line": {
          "color": "black",
          "width": 1
         },
         "marker": {
          "color": "#5E000E",
          "opacity": 0.8,
          "size": 2.5
         },
         "pointpos": 0,
         "type": "box",
         "whiskerwidth": 0.8,
         "x": [
          "adv",
          "adv",
          "adv",
          "adv",
          "adv",
          "adv",
          "adv",
          "adv",
          "adv",
          "adv",
          "adv",
          "adv",
          "adv",
          "adv",
          "adv",
          "adv",
          "adv",
          "adv",
          "adv",
          "adv",
          "adv"
         ],
         "xaxis": "x15",
         "y": {
          "bdata": "YxL2ObNnUz8tL9Agy6NXPwsWRxgYD1U/Lw16cQ0sWj8t1j2g1q5VP3r4Se35JVg/iyl8qeQLVj/S5kfiNjFcP5uO2qZzo1o/DNV5xlHIVD8IQQWPiIxbPyDz5Suf6lI/Fjt6+SYYUT+82Nwa1ilWPyu4MdN86Vs/19nIKcWEVD/wql3M/I5UPwZDe8e55VQ/gn4MQQEgVj8VJenmV31SP2HwA2wUTVg/",
          "dtype": "f8"
         },
         "yaxis": "y15"
        },
        {
         "boxpoints": "all",
         "fillcolor": "steelblue",
         "jitter": 0.7,
         "line": {
          "color": "black",
          "width": 1
         },
         "marker": {
          "color": "#00517F",
          "opacity": 0.8,
          "size": 2.5
         },
         "pointpos": 0,
         "type": "box",
         "whiskerwidth": 0.8,
         "x": [
          "CTRL",
          "CTRL",
          "CTRL",
          "CTRL",
          "CTRL",
          "CTRL",
          "CTRL",
          "CTRL",
          "CTRL",
          "CTRL",
          "CTRL",
          "CTRL",
          "CTRL",
          "CTRL",
          "CTRL",
          "CTRL",
          "CTRL",
          "CTRL",
          "CTRL",
          "CTRL",
          "CTRL",
          "CTRL",
          "CTRL",
          "CTRL",
          "CTRL",
          "CTRL",
          "CTRL",
          "CTRL",
          "CTRL",
          "CTRL",
          "CTRL",
          "CTRL",
          "CTRL",
          "CTRL",
          "CTRL",
          "CTRL",
          "CTRL",
          "CTRL"
         ],
         "xaxis": "x19",
         "y": {
          "bdata": "n/k8STF1RD/0iSD0iqxHP+xMnDphUkQ/8crSp4UtPj86ohA7MtpDPy6G8SFIqEA/01PcnyhcQT8gD62wQahAP473gs07eUE/T0KG4WV+PD/dmvXbN/Q/P5nSUxRKh0A/+xZ6HaEBPT+Obkqau21BP5/mnXCaMUE/wo7tH4WXQj9ccZcbES5CP90Gtd/aiUI/ZJ0dtTGSRz/TQcTxb9xBPztpNbKYyUE//GsZc04hRD+r3m0gVftBPy+uw2EB/UI/sP3jC/rVQz9GwSsAyDRDP3sGzeFs0D0/r78dj7Z9QT9/XLVHfOJBP5DrFumUM0M/3ASg0DnfQj+4uQ136bdDP/TfMpAv7UA/3Pb2FCSpQT/Va+XrUwpBP69FqKX7MUQ/p3sPKoBIQD8sYocaTXpEPw==",
          "dtype": "f8"
         },
         "yaxis": "y19"
        },
        {
         "boxpoints": "all",
         "fillcolor": "#F0B0B0",
         "jitter": 0.7,
         "line": {
          "color": "black",
          "width": 1
         },
         "marker": {
          "color": "#B4464F",
          "opacity": 0.8,
          "size": 2.5
         },
         "pointpos": 0,
         "type": "box",
         "whiskerwidth": 0.8,
         "x": [
          "low",
          "low",
          "low",
          "low",
          "low",
          "low",
          "low",
          "low",
          "low",
          "low",
          "low",
          "low",
          "low",
          "low",
          "low",
          "low",
          "low",
          "low",
          "low",
          "low",
          "low",
          "low",
          "low"
         ],
         "xaxis": "x19",
         "y": {
          "bdata": "G5MFGe8xQj8gyt0IB1JEP+LSRcsAnkQ/iuEsHVoBQT+zhJFr/vBHP2LxzrPvEDo/hFFsrJQDRT+fUH1XbOJAP1Wy+T5wI0I/MsZz9eQTQj8efYczo0VEP7RP2UbCEj0/8Z1W2ZDiQD9MmeX8XlQ8PzMOhh5XQUE/pwrHpYrfPT+tbiAdUbM9PyRjIpauD0Q/zoTiayjlQD/ECd8KR+FBPyLweyxhk0M/CFmpr80XQj+7xHxs1/NBPw==",
          "dtype": "f8"
         },
         "yaxis": "y19"
        },
        {
         "boxpoints": "all",
         "fillcolor": "lightcoral",
         "jitter": 0.7,
         "line": {
          "color": "black",
          "width": 1
         },
         "marker": {
          "color": "#B4464F",
          "opacity": 0.8,
          "size": 2.5
         },
         "pointpos": 0,
         "type": "box",
         "whiskerwidth": 0.8,
         "x": [
          "med",
          "med",
          "med",
          "med",
          "med",
          "med",
          "med",
          "med",
          "med",
          "med",
          "med",
          "med",
          "med",
          "med",
          "med",
          "med",
          "med",
          "med",
          "med",
          "med",
          "med",
          "med"
         ],
         "xaxis": "x19",
         "y": {
          "bdata": "nCHgBjhhOz8Nrs2H5og8P76rPIZpDUU/tvcl8o+EPj9QT/QA4wdBP0n2VMOIwT8/2dBEDePEQD+uAOvgfMRBP4YVCc5iJ0E/015j6O/dOj/86TJBfHw8P2pSp48CPEA/Hica3ouzQj+ATse3BbhBP6M6prnYXkI/do5zLtSAQj/tcLiy665BPy+MA86j+Ts/gTD3lmDbPD+3tR0EMZFBP58X1b933UM/IWrxFRzfQD8=",
          "dtype": "f8"
         },
         "yaxis": "y19"
        },
        {
         "boxpoints": "all",
         "fillcolor": "#B4464F",
         "jitter": 0.7,
         "line": {
          "color": "black",
          "width": 1
         },
         "marker": {
          "color": "#5E000E",
          "opacity": 0.8,
          "size": 2.5
         },
         "pointpos": 0,
         "type": "box",
         "whiskerwidth": 0.8,
         "x": [
          "adv",
          "adv",
          "adv",
          "adv",
          "adv",
          "adv",
          "adv",
          "adv",
          "adv",
          "adv",
          "adv",
          "adv",
          "adv",
          "adv",
          "adv",
          "adv",
          "adv",
          "adv",
          "adv",
          "adv",
          "adv"
         ],
         "xaxis": "x19",
         "y": {
          "bdata": "tiUNljPZRD8evaeT6DxFP48yrRAAY0A/Q/Otzc67RD8csJflbLNBPz5wolES9kM/tvvMjpFCQj9R7Pl+kINHPyIHsL49rEA/yJFNQLPuRj8wOX5AUe1EPy7xH4mZqD4/md6vFmCePD9M4tcI99w/P3S/71ESIUQ/OoZ576V5Qj/Xswv5rNpBP4Zejj3MdUI/UqUcgpmlQz8hBuovHFE/PzEE7OK3mkU/",
          "dtype": "f8"
         },
         "yaxis": "y19"
        },
        {
         "boxpoints": "all",
         "fillcolor": "steelblue",
         "jitter": 0.7,
         "line": {
          "color": "black",
          "width": 1
         },
         "marker": {
          "color": "#00517F",
          "opacity": 0.8,
          "size": 2.5
         },
         "pointpos": 0,
         "type": "box",
         "whiskerwidth": 0.8,
         "x": [
          "CTRL",
          "CTRL",
          "CTRL",
          "CTRL",
          "CTRL",
          "CTRL",
          "CTRL",
          "CTRL",
          "CTRL",
          "CTRL",
          "CTRL",
          "CTRL",
          "CTRL",
          "CTRL",
          "CTRL",
          "CTRL",
          "CTRL",
          "CTRL",
          "CTRL",
          "CTRL",
          "CTRL",
          "CTRL",
          "CTRL",
          "CTRL",
          "CTRL",
          "CTRL",
          "CTRL",
          "CTRL",
          "CTRL",
          "CTRL",
          "CTRL",
          "CTRL",
          "CTRL",
          "CTRL",
          "CTRL",
          "CTRL",
          "CTRL",
          "CTRL"
         ],
         "xaxis": "x8",
         "y": {
          "bdata": "STx9XbY4yz+XjoCkZMa9P1/b07yAar0/8DlSqx8Dxz/FDyHwuM/BP5dzDVn7AMU/o+LF4x4ixz/iIUXKOg/HP9cchcOJ6sM/JLcm3ZaIxj+j8LV0wMbCP9GjrFZb7rQ/5+UnCjEt0D84xyMyWGPEP64Vi+TNj8o/pijZ4gGCuT+f7e9xSJi4P+M18QZ/XMc/tP4aOaAfwz9y7ZxKLEe2P+MhPVnyd7w/2Mn/NTfeuj8jI2/Sl1LAPx7b4Zgt5cI/b8KrT7Pszj8SFGWNf8G0Pwjrx3KHV60/Us+Z7FMZwD+fIyKXYPrEP0XftEvh4rs/dUEDBWx0xD/KlwY0xyi+P7pIkgFPg8Y/IcR8Ftc6uD9Gam8qMZPHPx+LOmEsTb0/JXWG0qymvj928uxpvDG9Pw==",
          "dtype": "f8"
         },
         "yaxis": "y8"
        },
        {
         "boxpoints": "all",
         "fillcolor": "#F0B0B0",
         "jitter": 0.7,
         "line": {
          "color": "black",
          "width": 1
         },
         "marker": {
          "color": "#B4464F",
          "opacity": 0.8,
          "size": 2.5
         },
         "pointpos": 0,
         "type": "box",
         "whiskerwidth": 0.8,
         "x": [
          "low",
          "low",
          "low",
          "low",
          "low",
          "low",
          "low",
          "low",
          "low",
          "low",
          "low",
          "low",
          "low",
          "low",
          "low",
          "low",
          "low",
          "low",
          "low",
          "low",
          "low",
          "low",
          "low"
         ],
         "xaxis": "x8",
         "y": {
          "bdata": "YbStt+Twvj/AQgySQ+a8P1fQIWH5YsA/VRtk3h95tz9bEQxStqnEP3BDCJ8YX8w/7sJiFtJIuj/MHVEvZdHEP56pUfQy3cg/lvPjNOYjtD8JGFglY0XBP0tqT2YP9s0/DeQJH3L8vz/+oxFhM6jLP+vbuZi1QM4//j1D+wJByT8oHu8MVXzQP7zhknH5AL0/rEyOwd7SvT8Yk/mlUObDP1ZIh/TMrLw/clbAFFDuwD8EwqKw+L6/Pw==",
          "dtype": "f8"
         },
         "yaxis": "y8"
        },
        {
         "boxpoints": "all",
         "fillcolor": "lightcoral",
         "jitter": 0.7,
         "line": {
          "color": "black",
          "width": 1
         },
         "marker": {
          "color": "#B4464F",
          "opacity": 0.8,
          "size": 2.5
         },
         "pointpos": 0,
         "type": "box",
         "whiskerwidth": 0.8,
         "x": [
          "med",
          "med",
          "med",
          "med",
          "med",
          "med",
          "med",
          "med",
          "med",
          "med",
          "med",
          "med",
          "med",
          "med",
          "med",
          "med",
          "med",
          "med",
          "med",
          "med",
          "med",
          "med"
         ],
         "xaxis": "x8",
         "y": {
          "bdata": "37JrxJGcyD8u33R3D+PFPzjkVYypqr4/ZTWasoy6wz/FO4Mw/tDGP4oxJZxaWcU/2JmEAwi8wD/NkkzD+gPIP+FacZrTH74/MHqmS4qFzj9j7Zls1vXIP0D46L6wPcg/N8K+d31hxT9JkyoIIOC1P5nSMgZh5Lg/fOoe+mpewT/EWOh79KO9PxG1U8QAIdE/yBWQVrKsyT979XUJHIPGP/QZ7USLZMA/eCkN5sP0tj8=",
          "dtype": "f8"
         },
         "yaxis": "y8"
        },
        {
         "boxpoints": "all",
         "fillcolor": "#B4464F",
         "jitter": 0.7,
         "line": {
          "color": "black",
          "width": 1
         },
         "marker": {
          "color": "#5E000E",
          "opacity": 0.8,
          "size": 2.5
         },
         "pointpos": 0,
         "type": "box",
         "whiskerwidth": 0.8,
         "x": [
          "adv",
          "adv",
          "adv",
          "adv",
          "adv",
          "adv",
          "adv",
          "adv",
          "adv",
          "adv",
          "adv",
          "adv",
          "adv",
          "adv",
          "adv",
          "adv",
          "adv",
          "adv",
          "adv",
          "adv",
          "adv"
         ],
         "xaxis": "x8",
         "y": {
          "bdata": "9EUakwBgzT/40N0sYC3GPzopLO7II8Y/TFvn1byHvz83koCoZlzGP/Kwz+qE2sQ/UDGepm6lxD/qPySpcHe9P0Lt4vb+mLo/SgDEfstzzD8WvgDzdwy9PxIfR4+5FMo/dLUxUPuo0D/GFsQ4ZnbEP/wWAFdwx7o/0lnGg7anyz8UpDiYZNzJP4LcSFAxS8Y/YHyUuxYHxz/+16LNvTzKP/A2xZzNDsY/",
          "dtype": "f8"
         },
         "yaxis": "y8"
        },
        {
         "boxpoints": "all",
         "fillcolor": "steelblue",
         "jitter": 0.7,
         "line": {
          "color": "black",
          "width": 1
         },
         "marker": {
          "color": "#00517F",
          "opacity": 0.8,
          "size": 2.5
         },
         "pointpos": 0,
         "type": "box",
         "whiskerwidth": 0.8,
         "x": [
          "CTRL",
          "CTRL",
          "CTRL",
          "CTRL",
          "CTRL",
          "CTRL",
          "CTRL",
          "CTRL",
          "CTRL",
          "CTRL",
          "CTRL",
          "CTRL",
          "CTRL",
          "CTRL",
          "CTRL",
          "CTRL",
          "CTRL",
          "CTRL",
          "CTRL",
          "CTRL",
          "CTRL",
          "CTRL",
          "CTRL",
          "CTRL",
          "CTRL",
          "CTRL",
          "CTRL",
          "CTRL",
          "CTRL",
          "CTRL",
          "CTRL",
          "CTRL",
          "CTRL",
          "CTRL",
          "CTRL",
          "CTRL",
          "CTRL",
          "CTRL"
         ],
         "xaxis": "x12",
         "y": {
          "bdata": "4BwYur5B3D8vaxE6sCjcP+7Sle7/mto/4g3vja9q1D9bzKlGqm3YP/KZY65JbdY/Z1Yc8sIi2D/LwsqtuBTRP4AiI1vusNc/wL/lCh9szD+Arj6deZnTPzA47aP/N9Y/VjtnZMA00z+bzabNf6LVP+V+ZpRX3NY/T0K2Gnwb1j804GuJDuHYP/usDIy3M9s/DU0RlGZp4D/2unpSfLXRP1V8KkQTytA/qOyby3KR3T+mcGqLXrLSPzQcipPfSNY/9hCFfdj+1z/U37XF4X7aP4PBZbAKXdQ/hcjxXELS0j/szUfQmorSP68+ht1jKNg/lMrAc4KF2j+jh5ob5fbbP3gPmNPaHtY/p5y66Oeq0z+poEcx5YjSP6HwMvN/T9o/1P+fruGuzD/d53IvoqDcPw==",
          "dtype": "f8"
         },
         "yaxis": "y12"
        },
        {
         "boxpoints": "all",
         "fillcolor": "#F0B0B0",
         "jitter": 0.7,
         "line": {
          "color": "black",
          "width": 1
         },
         "marker": {
          "color": "#B4464F",
          "opacity": 0.8,
          "size": 2.5
         },
         "pointpos": 0,
         "type": "box",
         "whiskerwidth": 0.8,
         "x": [
          "low",
          "low",
          "low",
          "low",
          "low",
          "low",
          "low",
          "low",
          "low",
          "low",
          "low",
          "low",
          "low",
          "low",
          "low",
          "low",
          "low",
          "low",
          "low",
          "low",
          "low",
          "low",
          "low"
         ],
         "xaxis": "x12",
         "y": {
          "bdata": "fthMatrY0T+4+AnXC1TfP2nvK42auto/Ynh9ylcg1z9RlvQM7mLeP9Lhrza3Y8s/f4HP+IYO1j/xPt0snRDYP7G/M3TIetk/Rf6MF3qg1D8e3UqnXH7TP+9iNAcVMNA/p4I2q9Fa0j9Qp6lWQFDQPyFSc7x539E/2bM9M+7xzz9QFzt3QVjPP4uXpLu2us8/j7o4Uv++1D/zHdFEpV/SP+CUluoyN9k/xqJ3l3zN0D8qerydOLHbPw==",
          "dtype": "f8"
         },
         "yaxis": "y12"
        },
        {
         "boxpoints": "all",
         "fillcolor": "lightcoral",
         "jitter": 0.7,
         "line": {
          "color": "black",
          "width": 1
         },
         "marker": {
          "color": "#B4464F",
          "opacity": 0.8,
          "size": 2.5
         },
         "pointpos": 0,
         "type": "box",
         "whiskerwidth": 0.8,
         "x": [
          "med",
          "med",
          "med",
          "med",
          "med",
          "med",
          "med",
          "med",
          "med",
          "med",
          "med",
          "med",
          "med",
          "med",
          "med",
          "med",
          "med",
          "med",
          "med",
          "med",
          "med",
          "med"
         ],
         "xaxis": "x12",
         "y": {
          "bdata": "WeJh13/o0D+N3NXWSCXQP15obLd2Rdw/H784auXbzD9he9Xm2a7WPxNNIQlbSdc/jvj3FF5U0T+eLsrtEN/VP27KXrScK9I/yrTs/9IYzz831Myzwk/QP05Z4/Jzcdc/AVnR5DdM2T8ILyLTn5LWP5/vMrnUBdY//UwOthC41z9G3zXM9r/XP7hecFnHqc8/5wVCLEda0T/pU2YBFbnXPxiNFzMLstY/sB5pA7/M0j8=",
          "dtype": "f8"
         },
         "yaxis": "y12"
        },
        {
         "boxpoints": "all",
         "fillcolor": "#B4464F",
         "jitter": 0.7,
         "line": {
          "color": "black",
          "width": 1
         },
         "marker": {
          "color": "#5E000E",
          "opacity": 0.8,
          "size": 2.5
         },
         "pointpos": 0,
         "type": "box",
         "whiskerwidth": 0.8,
         "x": [
          "adv",
          "adv",
          "adv",
          "adv",
          "adv",
          "adv",
          "adv",
          "adv",
          "adv",
          "adv",
          "adv",
          "adv",
          "adv",
          "adv",
          "adv",
          "adv",
          "adv",
          "adv",
          "adv",
          "adv",
          "adv"
         ],
         "xaxis": "x12",
         "y": {
          "bdata": "PlH4vWTb2D/3/rWl1ufaP2wAIjxb+dM/AyWdMksD2T8S4C7aZx7XP3HeWIBRytg/uAgIvWlA1z/BH/9+ke3cP+LMmEqLj9c/+fHUeQ3n3D9NJqEGaWzRP5aAI3eUZ88/CbXKPz+b1T9oQsi2YnjbP7VEJ36eHNY/iu0tZv2G2T//CPO5OzTUPx/MESVmJdo/SBttc2jT0j/Yhy/yNr/bP0qY21BAmds/",
          "dtype": "f8"
         },
         "yaxis": "y12"
        },
        {
         "boxpoints": "all",
         "fillcolor": "steelblue",
         "jitter": 0.7,
         "line": {
          "color": "black",
          "width": 1
         },
         "marker": {
          "color": "#00517F",
          "opacity": 0.8,
          "size": 2.5
         },
         "pointpos": 0,
         "type": "box",
         "whiskerwidth": 0.8,
         "x": [
          "CTRL",
          "CTRL",
          "CTRL",
          "CTRL",
          "CTRL",
          "CTRL",
          "CTRL",
          "CTRL",
          "CTRL",
          "CTRL",
          "CTRL",
          "CTRL",
          "CTRL",
          "CTRL",
          "CTRL",
          "CTRL",
          "CTRL",
          "CTRL",
          "CTRL",
          "CTRL",
          "CTRL",
          "CTRL",
          "CTRL",
          "CTRL",
          "CTRL",
          "CTRL",
          "CTRL",
          "CTRL",
          "CTRL",
          "CTRL",
          "CTRL",
          "CTRL",
          "CTRL",
          "CTRL",
          "CTRL",
          "CTRL",
          "CTRL",
          "CTRL"
         ],
         "xaxis": "x16",
         "y": {
          "bdata": "7Ihzb6ab6z8nBaZr1yjmP6Yn/LdqheY/lHEILOuE6z+5W6ugFoHmPzFj+PJ8kuo/O3X5lyNi6z+zJ6LbIovnP/zST/aes+k/+g5ijdFP5j84ML4KHhboP5SVJKR1AeY/3Y665wqQ7T8id+gm9/zoP6TJqcMoHew/LKHPCLU95T/1tbJt5trnP1EV5kz54es/MHrMEi1R6T8+yIfghSvjP0nUJ5P8U+I/4XDkVkhm6D8l7qTKnxvlPysYEZxlTOc/vDeTKuK46j/MwGZYQzTmPwxldlBo7eU/Oost8FQh5T8Fqc1ljjjmP0E1VkkBFeY/Ordz22rI6j9O1Uzd5tTpPx+Fz/yIpOo/YfKhbBM85T8kKPWaW5foPwgdPxe3WOY/b0gL5pts5D9FdPOAvozoPw==",
          "dtype": "f8"
         },
         "yaxis": "y16"
        },
        {
         "boxpoints": "all",
         "fillcolor": "#F0B0B0",
         "jitter": 0.7,
         "line": {
          "color": "black",
          "width": 1
         },
         "marker": {
          "color": "#B4464F",
          "opacity": 0.8,
          "size": 2.5
         },
         "pointpos": 0,
         "type": "box",
         "whiskerwidth": 0.8,
         "x": [
          "low",
          "low",
          "low",
          "low",
          "low",
          "low",
          "low",
          "low",
          "low",
          "low",
          "low",
          "low",
          "low",
          "low",
          "low",
          "low",
          "low",
          "low",
          "low",
          "low",
          "low",
          "low",
          "low"
         ],
         "xaxis": "x16",
         "y": {
          "bdata": "m6CXm7kx5D/OoxXxMwTqP4ufkcspuOc/fybmTB/p5j//kenQ6ZnoP3lkEWLlAuw/+0Nt+jfI4j8F+YPIvJrrP84HUskDqOs/B3Bhek6s5D/pUhw6T0LjPx4/JuJFwOg/yJIJXWE45j++Pe6s9DLrP0i2CePmBec/Sx/brqe46j/RC5DLLKDqP20THM5kfuA/mUP8CmzK5j9ulG6rVg/nPzCklQstjOY/JFCXof7O4z+LwAxRe63oPw==",
          "dtype": "f8"
         },
         "yaxis": "y16"
        },
        {
         "boxpoints": "all",
         "fillcolor": "lightcoral",
         "jitter": 0.7,
         "line": {
          "color": "black",
          "width": 1
         },
         "marker": {
          "color": "#B4464F",
          "opacity": 0.8,
          "size": 2.5
         },
         "pointpos": 0,
         "type": "box",
         "whiskerwidth": 0.8,
         "x": [
          "med",
          "med",
          "med",
          "med",
          "med",
          "med",
          "med",
          "med",
          "med",
          "med",
          "med",
          "med",
          "med",
          "med",
          "med",
          "med",
          "med",
          "med",
          "med",
          "med",
          "med",
          "med"
         ],
         "xaxis": "x16",
         "y": {
          "bdata": "vIwCR3mL7D/TW0gvhgzqP+A3wPf3POc/oUTKnTnO5j+UgaigR5HqPw7p4C41gew/Vt/x1MDi5T8DGSqUv8roP32de99d9uQ/aCUIsvlj7T+S9s9rnSzrP5+pZdgZoOw/v+pHEbkT6j99OX5r0WnmP4EU7vXr1+Q/REcNzikG6D8Vj9yxEDHoPywdrgCfgus/lCj6yiPi6z8aitP6b1bqP15yRg69N+U/lK8x0+m14z8=",
          "dtype": "f8"
         },
         "yaxis": "y16"
        },
        {
         "boxpoints": "all",
         "fillcolor": "#B4464F",
         "jitter": 0.7,
         "line": {
          "color": "black",
          "width": 1
         },
         "marker": {
          "color": "#5E000E",
          "opacity": 0.8,
          "size": 2.5
         },
         "pointpos": 0,
         "type": "box",
         "whiskerwidth": 0.8,
         "x": [
          "adv",
          "adv",
          "adv",
          "adv",
          "adv",
          "adv",
          "adv",
          "adv",
          "adv",
          "adv",
          "adv",
          "adv",
          "adv",
          "adv",
          "adv",
          "adv",
          "adv",
          "adv",
          "adv",
          "adv",
          "adv"
         ],
         "xaxis": "x16",
         "y": {
          "bdata": "GQH5OPFa6j9nKqMVCFDoPwbFGiQAnOk/MPYhGbmx5j+7Egck75nqP5icpSfWoOg/hLd0vU4J6T/ybi/gmnjmP3hKfvmhCOg/K8vL8lkE6D9hfgSEKoPoPzXkd1H2oeo/e9FovL6A6j8HXCLaOEnqP/tzoVfbO+c/0tpGmZNb6j/j80HRZ2DsP9u6NnxUUeY/OJ2hDuRm6j/0fuM43pfrP54Bby0FN+k/",
          "dtype": "f8"
         },
         "yaxis": "y16"
        },
        {
         "boxpoints": "all",
         "fillcolor": "steelblue",
         "jitter": 0.7,
         "line": {
          "color": "black",
          "width": 1
         },
         "marker": {
          "color": "#00517F",
          "opacity": 0.8,
          "size": 2.5
         },
         "pointpos": 0,
         "type": "box",
         "whiskerwidth": 0.8,
         "x": [
          "CTRL",
          "CTRL",
          "CTRL",
          "CTRL",
          "CTRL",
          "CTRL",
          "CTRL",
          "CTRL",
          "CTRL",
          "CTRL",
          "CTRL",
          "CTRL",
          "CTRL",
          "CTRL",
          "CTRL",
          "CTRL",
          "CTRL",
          "CTRL",
          "CTRL",
          "CTRL",
          "CTRL",
          "CTRL",
          "CTRL",
          "CTRL",
          "CTRL",
          "CTRL",
          "CTRL",
          "CTRL",
          "CTRL",
          "CTRL",
          "CTRL",
          "CTRL",
          "CTRL",
          "CTRL",
          "CTRL",
          "CTRL"
         ],
         "xaxis": "x20",
         "y": {
          "bdata": "aONvGFi2R0B1QoV2EE1IQB94Y962OUdAb6O/nzMTR0BfOtZaUutGQJ8DifVfqkdAYThT+J78SEDBVPFOV1RHQCA+dji2HUVAfZmkCUa/RkDrwYtbWOZGQPoFYKjobUhA6niKJBOnR0Dqwe6FExRIQCxEydxjHUdAexfOuYTcR0BoFz7o+lhHQHkttoPwCUZAaS6BpQS8RUDL2BLq0CBGQFpb4/mtxkVAM+G4CONfRkBk75yYux1GQI4SR2Ak00ZAS2pwdHiaRUDPKwGl349GQFKGgRmZbUdA+7QGxiz7RUCdhLEJ2URGQG8Kr034YkZAsdYWvyUXRUAHCCgFxM9FQGJF0/pXj0ZATQq5c11ARkDsozJJ1dJFQOKixd+XBUVA",
          "dtype": "f8"
         },
         "yaxis": "y20"
        },
        {
         "boxpoints": "all",
         "fillcolor": "#F0B0B0",
         "jitter": 0.7,
         "line": {
          "color": "black",
          "width": 1
         },
         "marker": {
          "color": "#B4464F",
          "opacity": 0.8,
          "size": 2.5
         },
         "pointpos": 0,
         "type": "box",
         "whiskerwidth": 0.8,
         "x": [
          "low",
          "low",
          "low",
          "low",
          "low",
          "low",
          "low",
          "low",
          "low",
          "low",
          "low",
          "low",
          "low",
          "low",
          "low",
          "low",
          "low",
          "low",
          "low",
          "low",
          "low"
         ],
         "xaxis": "x20",
         "y": {
          "bdata": "m0/j/4rsRkA38LRGTpxGQBsNIkri6kVA4/3ZC1wBR0CqH8RjeXpHQC7Nxq12AEZAD56mIlepRkDOyN5aP0RGQGENHypwLUZAgu8N8GoCR0DBZDYKQZVGQAG1g9dP50ZAAoL3Xaq+RkCbPOH8uI1HQGxhs6/+r0VAj3Qf4/7wRkBcU8X5QOdFQOr8wsgebkZAW/1kziukREDwwpRQE6xGQCApv5hvLUVA",
          "dtype": "f8"
         },
         "yaxis": "y20"
        },
        {
         "boxpoints": "all",
         "fillcolor": "lightcoral",
         "jitter": 0.7,
         "line": {
          "color": "black",
          "width": 1
         },
         "marker": {
          "color": "#B4464F",
          "opacity": 0.8,
          "size": 2.5
         },
         "pointpos": 0,
         "type": "box",
         "whiskerwidth": 0.8,
         "x": [
          "med",
          "med",
          "med",
          "med",
          "med",
          "med",
          "med",
          "med",
          "med",
          "med",
          "med",
          "med",
          "med",
          "med",
          "med",
          "med",
          "med",
          "med",
          "med"
         ],
         "xaxis": "x20",
         "y": {
          "bdata": "K7S9J6BmR0DSiPyn2cFGQPflL6HAhkZAKpreMJcrRkA8GuKz0JJHQACliKmAeEZA5x87d1QdSEBSjnaaVKtHQBiqSY3c7UZAfd6eMd0jR0DFraMmUQpHQOlMdyqir0ZAiC3ab6+sRkBiaBJIy4ZGQMXEiyros0ZApFUt6ajWRUD1scxsoWRFQIHmlPzfJkZA/vnP/cl4RkA=",
          "dtype": "f8"
         },
         "yaxis": "y20"
        },
        {
         "boxpoints": "all",
         "fillcolor": "#B4464F",
         "jitter": 0.7,
         "line": {
          "color": "black",
          "width": 1
         },
         "marker": {
          "color": "#5E000E",
          "opacity": 0.8,
          "size": 2.5
         },
         "pointpos": 0,
         "type": "box",
         "whiskerwidth": 0.8,
         "x": [
          "adv",
          "adv",
          "adv",
          "adv",
          "adv",
          "adv",
          "adv",
          "adv",
          "adv",
          "adv",
          "adv",
          "adv",
          "adv",
          "adv",
          "adv",
          "adv",
          "adv",
          "adv",
          "adv"
         ],
         "xaxis": "x20",
         "y": {
          "bdata": "lcVxnjmfRkDZvS4mKp1GQNA1YTX1EEdAkdtpSjZ0R0Do49Lf6J5HQIM4rPz0oUVAQLJOz5qhRkC1gJbP7qlGQDFgyVUsMkdAck5w2iFgR0CpNQfn1xtGQPdZp8KGbUZAzMvEIdkLRECrvqn+9/FFQKgCKCUIjUJAs7/DH4u5RkCpc/ubBp1GQMNcORg9xEVAID2oOMwIRUA=",
          "dtype": "f8"
         },
         "yaxis": "y20"
        },
        {
         "boxpoints": "all",
         "fillcolor": "steelblue",
         "jitter": 0.7,
         "line": {
          "color": "black",
          "width": 1
         },
         "marker": {
          "color": "#00517F",
          "opacity": 0.8,
          "size": 2.5
         },
         "pointpos": 0,
         "type": "box",
         "whiskerwidth": 0.8,
         "x": [
          "CTRL",
          "CTRL",
          "CTRL",
          "CTRL",
          "CTRL",
          "CTRL",
          "CTRL",
          "CTRL",
          "CTRL",
          "CTRL",
          "CTRL",
          "CTRL",
          "CTRL",
          "CTRL",
          "CTRL",
          "CTRL",
          "CTRL",
          "CTRL",
          "CTRL",
          "CTRL",
          "CTRL",
          "CTRL",
          "CTRL",
          "CTRL",
          "CTRL",
          "CTRL",
          "CTRL",
          "CTRL",
          "CTRL",
          "CTRL",
          "CTRL",
          "CTRL",
          "CTRL",
          "CTRL",
          "CTRL",
          "CTRL",
          "CTRL",
          "CTRL"
         ],
         "xaxis": "x13",
         "y": {
          "bdata": "JTSOAIqr0D/kFNusE/rKP0g/7BWuuMU//OtPwWU+0D+hTTkf0RbMP1MkZMJd7dA/NkG94Yqg0T+Hah8ysrLQP8r6PxpdxM4/L32oZ1Nr0D/Wg98MUj7LPz2/g/rx8sg/YG7HOYk/1D/9mdxQeqTNP564cq/5nM0/rdlvkovWxT8/vDoJnb7JPz7PnzaqU9E/lP65w4GryD/cB9yXjFPIP+1FiZ32As4/C3z0b18TyT/eTnbBTffOP6R3q2C0hMk/i0r85+8Z1D/4n+j5VAfGP+7KKV+iSsM/mSnlaYT0yj96ZA6qVuTOP6fy26+55co/yGQdAAQ7zT9fzGssLvzLP9o7rR++c80/QfmplBjwxz/bxEp+JCLSP4GgUA0DL8U/cr3Q0P0kyz9CM5k7RO3HPw==",
          "dtype": "f8"
         },
         "yaxis": "y13"
        },
        {
         "boxpoints": "all",
         "fillcolor": "#F0B0B0",
         "jitter": 0.7,
         "line": {
          "color": "black",
          "width": 1
         },
         "marker": {
          "color": "#B4464F",
          "opacity": 0.8,
          "size": 2.5
         },
         "pointpos": 0,
         "type": "box",
         "whiskerwidth": 0.8,
         "x": [
          "low",
          "low",
          "low",
          "low",
          "low",
          "low",
          "low",
          "low",
          "low",
          "low",
          "low",
          "low",
          "low",
          "low",
          "low",
          "low",
          "low",
          "low",
          "low",
          "low",
          "low",
          "low",
          "low"
         ],
         "xaxis": "x13",
         "y": {
          "bdata": "DZh2IKHcxj8rE+aMFMnHP0JPYMDmKss/k7VijAOAxD+cCSoDN63MP++e0ZDQmtI/3E8c+enjxj/Itq7GScnOP4yQ7Ne+/M8/a6HqqzktxT/AudgXfcPKP5DaNh/m0dQ/+btyG99nyj+lQ0wua8fRP5t/XjI6stU/i4MHqp/n0T8Jm5wC4rPWPz6etHUS/8w/3WrYGgrSxj8+k5UQwM7OPyhO4U0mCso/1OeO8W3pzD+1RG5TKgvIPw==",
          "dtype": "f8"
         },
         "yaxis": "y13"
        },
        {
         "boxpoints": "all",
         "fillcolor": "lightcoral",
         "jitter": 0.7,
         "line": {
          "color": "black",
          "width": 1
         },
         "marker": {
          "color": "#B4464F",
          "opacity": 0.8,
          "size": 2.5
         },
         "pointpos": 0,
         "type": "box",
         "whiskerwidth": 0.8,
         "x": [
          "med",
          "med",
          "med",
          "med",
          "med",
          "med",
          "med",
          "med",
          "med",
          "med",
          "med",
          "med",
          "med",
          "med",
          "med",
          "med",
          "med",
          "med",
          "med",
          "med",
          "med",
          "med"
         ],
         "xaxis": "x13",
         "y": {
          "bdata": "/p7Ubibszz+UOEn4gG7NPzT9Vg7U+co/u/z2kTUMzT943+xnlb/NPxP79yWKrM4/VPRfntDWxz8g6uj/74TQPwHXbusJc8g/9HEU8NBv1D9cE4SLEh3RP16InXUChNE/4ROhx97BzT/MFbofq+zFP0cs0XW7AMY/nfd2gGRQzj+HK9dDSt/LP4z3l2iGUNU/NiGWlXKT0D8/4DC6hI/OP/weKsr7ccc/x6rMimQsyj8=",
          "dtype": "f8"
         },
         "yaxis": "y13"
        },
        {
         "boxpoints": "all",
         "fillcolor": "#B4464F",
         "jitter": 0.7,
         "line": {
          "color": "black",
          "width": 1
         },
         "marker": {
          "color": "#5E000E",
          "opacity": 0.8,
          "size": 2.5
         },
         "pointpos": 0,
         "type": "box",
         "whiskerwidth": 0.8,
         "x": [
          "adv",
          "adv",
          "adv",
          "adv",
          "adv",
          "adv",
          "adv",
          "adv",
          "adv",
          "adv",
          "adv",
          "adv",
          "adv",
          "adv",
          "adv",
          "adv",
          "adv",
          "adv",
          "adv",
          "adv",
          "adv"
         ],
         "xaxis": "x13",
         "y": {
          "bdata": "Tn6LTpaa0z9Nrl85DdTPPyyGVwSSf84/iF9taY6cyT9Hf9LKaQHRP3hP+k/yO8s/iRtDQoz+yz+gikF+O2vBPyQfK2BRPcc/UhfaTbHJ0D+jggcpH5LGPz75k68GM9M/1+kAu6yf0z/Sh2ZSzs3OP/bSVh0gdcc/vmL+64vN0T9YBVhOvK/QP9NxWME/is8/UGbzoO860T/KUAvhdZbPP0a6BH92Qs0/",
          "dtype": "f8"
         },
         "yaxis": "y13"
        },
        {
         "boxpoints": "all",
         "fillcolor": "steelblue",
         "jitter": 0.7,
         "line": {
          "color": "black",
          "width": 1
         },
         "marker": {
          "color": "#00517F",
          "opacity": 0.8,
          "size": 2.5
         },
         "pointpos": 0,
         "type": "box",
         "whiskerwidth": 0.8,
         "x": [
          "CTRL",
          "CTRL",
          "CTRL",
          "CTRL",
          "CTRL",
          "CTRL",
          "CTRL",
          "CTRL",
          "CTRL",
          "CTRL",
          "CTRL",
          "CTRL",
          "CTRL",
          "CTRL",
          "CTRL",
          "CTRL",
          "CTRL",
          "CTRL",
          "CTRL",
          "CTRL",
          "CTRL",
          "CTRL",
          "CTRL",
          "CTRL",
          "CTRL",
          "CTRL",
          "CTRL",
          "CTRL",
          "CTRL",
          "CTRL",
          "CTRL",
          "CTRL",
          "CTRL",
          "CTRL",
          "CTRL",
          "CTRL",
          "CTRL",
          "CTRL"
         ],
         "xaxis": "x17",
         "y": {
          "bdata": "rM7wugys3T9WpWwSNbHfP2LkjRX6Fdw/Z5gcb9me0T8qIG4AljLWP9fyKGe4edY/CnOSGMrq1z8HUyD1z3rJP2394LtOvNM/OPye83tkyz+3taE81VzSP+klkUAtjdg/rQbVxArQzj8ncHZhJznUP1Io5Ze839I/J4GTju7X1T9aRlIhCgXZP9kaHraFq9s/Q30rD1t14D/H/tDRTKXMPykqdo/H58s/yhkiWGkT3z/4Q1JcbFLSPzO6OgLjOdY/40aPtFsY1j/NIamFkunaP8a5zDdCydI/MegDUCz6zz8PHOa3J+nSPwHmxJig+NU/jGCIQQXs2z841FLtkTXcPwz6Bc1EV9Q//o0Q+qYE0T9tAOXYQrzSPxTlW+rja9s/8FqBoisxzT+JyVMKRbDdPw==",
          "dtype": "f8"
         },
         "yaxis": "y17"
        },
        {
         "boxpoints": "all",
         "fillcolor": "#F0B0B0",
         "jitter": 0.7,
         "line": {
          "color": "black",
          "width": 1
         },
         "marker": {
          "color": "#B4464F",
          "opacity": 0.8,
          "size": 2.5
         },
         "pointpos": 0,
         "type": "box",
         "whiskerwidth": 0.8,
         "x": [
          "low",
          "low",
          "low",
          "low",
          "low",
          "low",
          "low",
          "low",
          "low",
          "low",
          "low",
          "low",
          "low",
          "low",
          "low",
          "low",
          "low",
          "low",
          "low",
          "low",
          "low",
          "low",
          "low"
         ],
         "xaxis": "x17",
         "y": {
          "bdata": "TjhobSIMzT+6Zr3bZvHfP73nbHP2nds/goOQCJrq1T+RBq1DEkbgPxwh2PgZhcw/a8XHv4Ay1T8lrqV4Q7fYP5RC0gfIgNg/BRxtFfcR1D+r6by+vcjQP6g4x+bOP9E/kc1n1tg50D+J2OYa9BLPP25+wUNYOtA/FULUax2Wyz9PZU4gt6LQP/6P612+IMg/vySBRf8d0T+kc2ynJ7jSP1gra3+NItg/HCg83YOUzD++BQ9csLfaPw==",
          "dtype": "f8"
         },
         "yaxis": "y17"
        },
        {
         "boxpoints": "all",
         "fillcolor": "lightcoral",
         "jitter": 0.7,
         "line": {
          "color": "black",
          "width": 1
         },
         "marker": {
          "color": "#B4464F",
          "opacity": 0.8,
          "size": 2.5
         },
         "pointpos": 0,
         "type": "box",
         "whiskerwidth": 0.8,
         "x": [
          "med",
          "med",
          "med",
          "med",
          "med",
          "med",
          "med",
          "med",
          "med",
          "med",
          "med",
          "med",
          "med",
          "med",
          "med",
          "med",
          "med",
          "med",
          "med",
          "med",
          "med",
          "med"
         ],
         "xaxis": "x17",
         "y": {
          "bdata": "NQdrEKQa0j+jvZlPWI3KP1baQo3LI9o/+YtVWrGFyj+idh188Z3UP1nKbG87Hdc/krudt5ALzz8uV4vEDsfTPwMH8dcduNI/rvb8pU+v0D+nHfnh8qjJPyUOZDNDZ9U/Jrt7ezVy1z8rhl912lbWP0dNVm2AN9U/3RqZxn1L1z/iqq020XfXP96ryHvktco/tBdVr/BI0z/cvW+LGGfYP14yfK4wCdY/dFMwTm9L0j8=",
          "dtype": "f8"
         },
         "yaxis": "y17"
        },
        {
         "boxpoints": "all",
         "fillcolor": "#B4464F",
         "jitter": 0.7,
         "line": {
          "color": "black",
          "width": 1
         },
         "marker": {
          "color": "#5E000E",
          "opacity": 0.8,
          "size": 2.5
         },
         "pointpos": 0,
         "type": "box",
         "whiskerwidth": 0.8,
         "x": [
          "adv",
          "adv",
          "adv",
          "adv",
          "adv",
          "adv",
          "adv",
          "adv",
          "adv",
          "adv",
          "adv",
          "adv",
          "adv",
          "adv",
          "adv",
          "adv",
          "adv",
          "adv",
          "adv",
          "adv",
          "adv"
         ],
         "xaxis": "x17",
         "y": {
          "bdata": "FftFtfod2z9UZGjNcyrbP6I5SA4sVdE/w3apcWym2z/itWS4rjbXPwoULVC9O9Y/741/cTnW1D+BilzQeMvYP3y9d6sZv9c/RSDlx2Ky3z8cNR8KeG/dP6+sBPDuP9M/L6dLmbCKzD+cfE3rQzLXP5e81OQ29ds/QktwTS4k0j95d6uBwg3aP+1dtq+ZQtU/5O5kUYfe2z80M23evEHSP8CdXSEgHdw/",
          "dtype": "f8"
         },
         "yaxis": "y17"
        },
        {
         "boxpoints": "all",
         "fillcolor": "steelblue",
         "jitter": 0.7,
         "line": {
          "color": "black",
          "width": 1
         },
         "marker": {
          "color": "#00517F",
          "opacity": 0.8,
          "size": 2.5
         },
         "pointpos": 0,
         "type": "box",
         "whiskerwidth": 0.8,
         "x": [
          "CTRL",
          "CTRL",
          "CTRL",
          "CTRL",
          "CTRL",
          "CTRL",
          "CTRL",
          "CTRL",
          "CTRL",
          "CTRL",
          "CTRL",
          "CTRL",
          "CTRL",
          "CTRL",
          "CTRL",
          "CTRL",
          "CTRL",
          "CTRL",
          "CTRL",
          "CTRL",
          "CTRL",
          "CTRL",
          "CTRL",
          "CTRL",
          "CTRL",
          "CTRL",
          "CTRL",
          "CTRL",
          "CTRL",
          "CTRL",
          "CTRL",
          "CTRL",
          "CTRL",
          "CTRL",
          "CTRL",
          "CTRL",
          "CTRL",
          "CTRL"
         ],
         "xaxis": "x21",
         "y": {
          "bdata": "re6B68RU7j83s9ofzz7oP4AxlV20oOc/KlJzT93A7D+PR5miluXmP1am0i4qAuw/VwOhsBwF7D/4KkNmeF3nP2cMUnRNtug/4BYfqwPM5z+cGiYiFUnoP2hV5g7kfuY/aQJ1ZXiF7j+upVJ8FO/oP//Qhb7f++w/t/08V6V+5j80aYhnXyLoP9kFmgdkquw/FzsF7K9m6j+sha1ndcPiP3fJ7riXiuE/faemfaP46T8MWh1AjE7lPy8g7slHq+g/Yun6QB3P6z8M5onJFlfmP33dM1wu/OQ/fJdIJRmi5T8st9BvQeHnP6RmODM0TeU/Y1mqt3gr7T9DOMkDT1nqP1cRcDPVxus/pBB/T9eT5D/Q/dIrMKfoP1yPDoRuE+c/8M8wqHvc5D/XRY3mIQPqPw==",
          "dtype": "f8"
         },
         "yaxis": "y21"
        },
        {
         "boxpoints": "all",
         "fillcolor": "#F0B0B0",
         "jitter": 0.7,
         "line": {
          "color": "black",
          "width": 1
         },
         "marker": {
          "color": "#B4464F",
          "opacity": 0.8,
          "size": 2.5
         },
         "pointpos": 0,
         "type": "box",
         "whiskerwidth": 0.8,
         "x": [
          "low",
          "low",
          "low",
          "low",
          "low",
          "low",
          "low",
          "low",
          "low",
          "low",
          "low",
          "low",
          "low",
          "low",
          "low",
          "low",
          "low",
          "low",
          "low",
          "low",
          "low",
          "low",
          "low"
         ],
         "xaxis": "x21",
         "y": {
          "bdata": "Pd12Kqvs4z/JdZ9YsQzqP4nzY9jQGek/xAhY4Gid5j91cRZUJpXqP6idaduThOw/TELdmII74j81YYl0MKzsP80P8UkGFOw/J4BY8lVb5j9DhAu7IDniPyJKrnTUR+s/BjFRNkVt5T+l6Bb0vXrsPyDHJXpYKeo/ugTd58Om6j+EO+ULOcrsPw7y/mjNCd8/quSHPfmT5j8hnHfleOrmP7Dm5GvtkuY/hC17tGY75D8rgOqewwzpPw==",
          "dtype": "f8"
         },
         "yaxis": "y21"
        },
        {
         "boxpoints": "all",
         "fillcolor": "lightcoral",
         "jitter": 0.7,
         "line": {
          "color": "black",
          "width": 1
         },
         "marker": {
          "color": "#B4464F",
          "opacity": 0.8,
          "size": 2.5
         },
         "pointpos": 0,
         "type": "box",
         "whiskerwidth": 0.8,
         "x": [
          "med",
          "med",
          "med",
          "med",
          "med",
          "med",
          "med",
          "med",
          "med",
          "med",
          "med",
          "med",
          "med",
          "med",
          "med",
          "med",
          "med",
          "med",
          "med",
          "med",
          "med",
          "med"
         ],
         "xaxis": "x21",
         "y": {
          "bdata": "mVb+Db7G7j/JKncvj8bqP4s5f0j8IOY/iIA+75ha5z/VQrcBGRbrPw6UJYRYV+0/BFCZVpuT5T9lk1KJGHroP5WlGhmLZuU/w95UPN/z7j9IUUbgOA7qP3VvnhrKYew//49L0Oq66j9dXWxf4q3mPxp0W4VBV+U/V+B1RxCY6D+X64bQtf3oP6i8JVL9h+0/bp8gdHpF7T/wbh60QjTsP9aQ6ADpJOY/JgImh4cU5D8=",
          "dtype": "f8"
         },
         "yaxis": "y21"
        },
        {
         "boxpoints": "all",
         "fillcolor": "#B4464F",
         "jitter": 0.7,
         "line": {
          "color": "black",
          "width": 1
         },
         "marker": {
          "color": "#5E000E",
          "opacity": 0.8,
          "size": 2.5
         },
         "pointpos": 0,
         "type": "box",
         "whiskerwidth": 0.8,
         "x": [
          "adv",
          "adv",
          "adv",
          "adv",
          "adv",
          "adv",
          "adv",
          "adv",
          "adv",
          "adv",
          "adv",
          "adv",
          "adv",
          "adv",
          "adv",
          "adv",
          "adv",
          "adv",
          "adv",
          "adv",
          "adv"
         ],
         "xaxis": "x21",
         "y": {
          "bdata": "FyW49t0r7j/6RejrIiroP48wFMm6vOo//JY7XkGN6D84dHMkqbLqP6nuMVspSeg/mna/d4xs6T+XOqIkH/nkP4rZ1ylycug/pyoPAIx/7D8Py7/GkGTpP44Z/IsNzus/q/rtz2t66z/W8Cr0jDDtP8DjoRB9zuc/+1wAKdCI6j8LE2QJDdLtP6+jFO5BGuw/aOP9wm+27T887K6B5/3tP7lxSd3nm+k/",
          "dtype": "f8"
         },
         "yaxis": "y21"
        },
        {
         "boxpoints": "all",
         "fillcolor": "steelblue",
         "jitter": 0.7,
         "line": {
          "color": "black",
          "width": 1
         },
         "marker": {
          "color": "#00517F",
          "opacity": 0.8,
          "size": 2.5
         },
         "pointpos": 0,
         "type": "box",
         "whiskerwidth": 0.8,
         "x": [
          "CTRL",
          "CTRL",
          "CTRL",
          "CTRL",
          "CTRL",
          "CTRL",
          "CTRL",
          "CTRL",
          "CTRL",
          "CTRL",
          "CTRL",
          "CTRL",
          "CTRL",
          "CTRL",
          "CTRL",
          "CTRL",
          "CTRL",
          "CTRL",
          "CTRL",
          "CTRL",
          "CTRL",
          "CTRL",
          "CTRL",
          "CTRL",
          "CTRL",
          "CTRL",
          "CTRL",
          "CTRL",
          "CTRL",
          "CTRL",
          "CTRL",
          "CTRL",
          "CTRL",
          "CTRL",
          "CTRL",
          "CTRL"
         ],
         "xaxis": "x24",
         "y": {
          "bdata": "AAAAAAAA+H8AAAAAAAD4fwAAAAAAAPh/AAAAAAAA+H8AAAAAAAD4fwAAAAAAAPh/AAAAAAAA+H8AAAAAAAD4fwAAAAAAAPh/AAAAAAAA+H8AAAAAAAD4fwAAAAAAAPh/AAAAAAAA+H8AAAAAAAD4fwAAAAAAAPh/AAAAAAAA+H9FuxHTc5XtPxDd01Zb6e0/+fgtyb317j9f2Z7dgBjuPyZXcTZl8ew/qsZ6Tdwh7j9Y0G0TT5HuP+wz4L6pFO4//kFZIWnD7D86PR6ConPsP7/3e5lfdu8/DgZl6qpX7j+PtZBEm+HtPz+EL8SVx+w/H1ax1yuh7T/OwGLT1EztP0kLd6tcB+0/nbujbg5S7j/xHufo6X7tPxb3n1jHu+0/",
          "dtype": "f8"
         },
         "yaxis": "y24"
        },
        {
         "boxpoints": "all",
         "fillcolor": "#F0B0B0",
         "jitter": 0.7,
         "line": {
          "color": "black",
          "width": 1
         },
         "marker": {
          "color": "#B4464F",
          "opacity": 0.8,
          "size": 2.5
         },
         "pointpos": 0,
         "type": "box",
         "whiskerwidth": 0.8,
         "x": [
          "low",
          "low",
          "low",
          "low",
          "low",
          "low",
          "low",
          "low",
          "low",
          "low",
          "low",
          "low",
          "low",
          "low",
          "low",
          "low",
          "low",
          "low",
          "low",
          "low",
          "low"
         ],
         "xaxis": "x24",
         "y": {
          "bdata": "kun0yTN17j/HEbWMA33tP8rasds/Du4/aWbc+z9d7T9zI1rraYDsP9z3SjNNu+8/WTpIparD7T+D1e5DZqTuP5LpueXRKO0/njpfsCbl7D+Ha3/GBjztP90Hwwi1Ge4/dl0tF8ve7j+aAUvtgnPtP6JpArilme0/BRbpbHFG7T8Y55PlsOTtP+FhxVuOWO0/tWRZ/T3A7j+b+CMb8hjtP52tdx7qsO0/",
          "dtype": "f8"
         },
         "yaxis": "y24"
        },
        {
         "boxpoints": "all",
         "fillcolor": "lightcoral",
         "jitter": 0.7,
         "line": {
          "color": "black",
          "width": 1
         },
         "marker": {
          "color": "#B4464F",
          "opacity": 0.8,
          "size": 2.5
         },
         "pointpos": 0,
         "type": "box",
         "whiskerwidth": 0.8,
         "x": [
          "med",
          "med",
          "med",
          "med",
          "med",
          "med",
          "med",
          "med",
          "med",
          "med",
          "med",
          "med",
          "med",
          "med",
          "med",
          "med",
          "med",
          "med",
          "med"
         ],
         "xaxis": "x24",
         "y": {
          "bdata": "LRLFTzPT7T+PUdIZb27tP45HrCOMY+0/fQu29Ned7T8GO8Gn2q/tP/lTNBXKm+4/FFoHL2GT7j9ahjlUK4ztP4U/5lNIBe0/avb7QpEE7T8pjQK6gqPuP07lU+yQhu0/bBSVpExN7j/TKZlX7HDtPxnKNHPZgO0/WAWwcEIX7j+G87mzUgvuP6yRAgvpY+8/5CJUhZtO7j8=",
          "dtype": "f8"
         },
         "yaxis": "y24"
        },
        {
         "boxpoints": "all",
         "fillcolor": "#B4464F",
         "jitter": 0.7,
         "line": {
          "color": "black",
          "width": 1
         },
         "marker": {
          "color": "#5E000E",
          "opacity": 0.8,
          "size": 2.5
         },
         "pointpos": 0,
         "type": "box",
         "whiskerwidth": 0.8,
         "x": [
          "adv",
          "adv",
          "adv",
          "adv",
          "adv",
          "adv",
          "adv",
          "adv",
          "adv",
          "adv",
          "adv",
          "adv",
          "adv",
          "adv",
          "adv",
          "adv",
          "adv",
          "adv",
          "adv"
         ],
         "xaxis": "x24",
         "y": {
          "bdata": "MpHJfQQX7z81cO9TktjtPwAEIUPlE+4/K9EwrygC7z8B69fa3gvvP+v5D8eILe4/OM6wYvLV7T8HEG0TQL/uP+mgSgFN2O0/US1G1opc7T+wLcanBrbsP62IKZLUge0/H7TRGTxS7z+OyVOxvBDuP3lDG/j1EfA/+sFXnLdU7j/AOuXBOTTvP1d6Xz8oje8/jNbzZUsd8D8=",
          "dtype": "f8"
         },
         "yaxis": "y24"
        }
       ],
       "layout": {
        "annotations": [
         {
          "align": "right",
          "font": {
           "size": 11
          },
          "showarrow": false,
          "text": "p-Group: 0.0180<span style=\"color:red; font-size:14\">*</span><br>p-Age: 0.0007<span style=\"color:black; font-size:14\">*</span>",
          "x": 0.66,
          "xref": "x7 domain",
          "y": 0.99,
          "yref": "y7 domain"
         },
         {
          "align": "right",
          "font": {
           "size": 11
          },
          "showarrow": false,
          "text": "p-Group: 0.0180<span style=\"color:red; font-size:14\">*</span><br>p-Age: 0.0007<span style=\"color:black; font-size:14\">*</span>",
          "x": 0.66,
          "xref": "x7 domain",
          "y": 0.99,
          "yref": "y7 domain"
         },
         {
          "align": "right",
          "font": {
           "size": 11
          },
          "showarrow": false,
          "text": "p-Group: 0.0180<span style=\"color:red; font-size:14\">*</span><br>p-Age: 0.0007<span style=\"color:black; font-size:14\">*</span>",
          "x": 0.66,
          "xref": "x7 domain",
          "y": 0.99,
          "yref": "y7 domain"
         },
         {
          "align": "right",
          "font": {
           "size": 11
          },
          "showarrow": false,
          "text": "p-Group: 0.0180<span style=\"color:red; font-size:14\">*</span><br>p-Age: 0.0007<span style=\"color:black; font-size:14\">*</span>",
          "x": 0.66,
          "xref": "x7 domain",
          "y": 0.99,
          "yref": "y7 domain"
         },
         {
          "align": "right",
          "font": {
           "size": 11
          },
          "showarrow": false,
          "text": "p-Group: 0.1256<br>p-Age: 0.2577",
          "x": 0.66,
          "xref": "x11 domain",
          "y": 0.99,
          "yref": "y11 domain"
         },
         {
          "align": "right",
          "font": {
           "size": 11
          },
          "showarrow": false,
          "text": "p-Group: 0.1256<br>p-Age: 0.2577",
          "x": 0.66,
          "xref": "x11 domain",
          "y": 0.99,
          "yref": "y11 domain"
         },
         {
          "align": "right",
          "font": {
           "size": 11
          },
          "showarrow": false,
          "text": "p-Group: 0.1256<br>p-Age: 0.2577",
          "x": 0.66,
          "xref": "x11 domain",
          "y": 0.99,
          "yref": "y11 domain"
         },
         {
          "align": "right",
          "font": {
           "size": 11
          },
          "showarrow": false,
          "text": "p-Group: 0.1256<br>p-Age: 0.2577",
          "x": 0.66,
          "xref": "x11 domain",
          "y": 0.99,
          "yref": "y11 domain"
         },
         {
          "align": "right",
          "font": {
           "size": 11
          },
          "showarrow": false,
          "text": "p-Group: 0.2013<br>p-Age: 0.8058",
          "x": 0.66,
          "xref": "x15 domain",
          "y": 0.99,
          "yref": "y15 domain"
         },
         {
          "align": "right",
          "font": {
           "size": 11
          },
          "showarrow": false,
          "text": "p-Group: 0.2013<br>p-Age: 0.8058",
          "x": 0.66,
          "xref": "x15 domain",
          "y": 0.99,
          "yref": "y15 domain"
         },
         {
          "align": "right",
          "font": {
           "size": 11
          },
          "showarrow": false,
          "text": "p-Group: 0.2013<br>p-Age: 0.8058",
          "x": 0.66,
          "xref": "x15 domain",
          "y": 0.99,
          "yref": "y15 domain"
         },
         {
          "align": "right",
          "font": {
           "size": 11
          },
          "showarrow": false,
          "text": "p-Group: 0.2013<br>p-Age: 0.8058",
          "x": 0.66,
          "xref": "x15 domain",
          "y": 0.99,
          "yref": "y15 domain"
         },
         {
          "align": "right",
          "font": {
           "size": 11
          },
          "showarrow": false,
          "text": "p-Group: 0.0179<span style=\"color:red; font-size:14\">*</span><br>p-Age: 0.0031<span style=\"color:black; font-size:14\">*</span>",
          "x": 0.66,
          "xref": "x19 domain",
          "y": 0.99,
          "yref": "y19 domain"
         },
         {
          "align": "right",
          "font": {
           "size": 11
          },
          "showarrow": false,
          "text": "p-Group: 0.0179<span style=\"color:red; font-size:14\">*</span><br>p-Age: 0.0031<span style=\"color:black; font-size:14\">*</span>",
          "x": 0.66,
          "xref": "x19 domain",
          "y": 0.99,
          "yref": "y19 domain"
         },
         {
          "align": "right",
          "font": {
           "size": 11
          },
          "showarrow": false,
          "text": "p-Group: 0.0179<span style=\"color:red; font-size:14\">*</span><br>p-Age: 0.0031<span style=\"color:black; font-size:14\">*</span>",
          "x": 0.66,
          "xref": "x19 domain",
          "y": 0.99,
          "yref": "y19 domain"
         },
         {
          "align": "right",
          "font": {
           "size": 11
          },
          "showarrow": false,
          "text": "p-Group: 0.0179<span style=\"color:red; font-size:14\">*</span><br>p-Age: 0.0031<span style=\"color:black; font-size:14\">*</span>",
          "x": 0.66,
          "xref": "x19 domain",
          "y": 0.99,
          "yref": "y19 domain"
         },
         {
          "align": "right",
          "font": {
           "size": 11
          },
          "showarrow": false,
          "text": "p-Group: 0.1932<br>p-Age: 0.3703",
          "x": 0.66,
          "xref": "x8 domain",
          "y": 0.99,
          "yref": "y8 domain"
         },
         {
          "align": "right",
          "font": {
           "size": 11
          },
          "showarrow": false,
          "text": "p-Group: 0.1932<br>p-Age: 0.3703",
          "x": 0.66,
          "xref": "x8 domain",
          "y": 0.99,
          "yref": "y8 domain"
         },
         {
          "align": "right",
          "font": {
           "size": 11
          },
          "showarrow": false,
          "text": "p-Group: 0.1932<br>p-Age: 0.3703",
          "x": 0.66,
          "xref": "x8 domain",
          "y": 0.99,
          "yref": "y8 domain"
         },
         {
          "align": "right",
          "font": {
           "size": 11
          },
          "showarrow": false,
          "text": "p-Group: 0.1932<br>p-Age: 0.3703",
          "x": 0.66,
          "xref": "x8 domain",
          "y": 0.99,
          "yref": "y8 domain"
         },
         {
          "align": "right",
          "font": {
           "size": 11
          },
          "showarrow": false,
          "text": "p-Group: 0.0527<br>p-Age: 0.0027<span style=\"color:black; font-size:14\">*</span>",
          "x": 0.66,
          "xref": "x12 domain",
          "y": 0.99,
          "yref": "y12 domain"
         },
         {
          "align": "right",
          "font": {
           "size": 11
          },
          "showarrow": false,
          "text": "p-Group: 0.0527<br>p-Age: 0.0027<span style=\"color:black; font-size:14\">*</span>",
          "x": 0.66,
          "xref": "x12 domain",
          "y": 0.99,
          "yref": "y12 domain"
         },
         {
          "align": "right",
          "font": {
           "size": 11
          },
          "showarrow": false,
          "text": "p-Group: 0.0527<br>p-Age: 0.0027<span style=\"color:black; font-size:14\">*</span>",
          "x": 0.66,
          "xref": "x12 domain",
          "y": 0.99,
          "yref": "y12 domain"
         },
         {
          "align": "right",
          "font": {
           "size": 11
          },
          "showarrow": false,
          "text": "p-Group: 0.0527<br>p-Age: 0.0027<span style=\"color:black; font-size:14\">*</span>",
          "x": 0.66,
          "xref": "x12 domain",
          "y": 0.99,
          "yref": "y12 domain"
         },
         {
          "align": "right",
          "font": {
           "size": 11
          },
          "showarrow": false,
          "text": "p-Group: 0.1795<br>p-Age: 0.2147",
          "x": 0.66,
          "xref": "x16 domain",
          "y": 0.99,
          "yref": "y16 domain"
         },
         {
          "align": "right",
          "font": {
           "size": 11
          },
          "showarrow": false,
          "text": "p-Group: 0.1795<br>p-Age: 0.2147",
          "x": 0.66,
          "xref": "x16 domain",
          "y": 0.99,
          "yref": "y16 domain"
         },
         {
          "align": "right",
          "font": {
           "size": 11
          },
          "showarrow": false,
          "text": "p-Group: 0.1795<br>p-Age: 0.2147",
          "x": 0.66,
          "xref": "x16 domain",
          "y": 0.99,
          "yref": "y16 domain"
         },
         {
          "align": "right",
          "font": {
           "size": 11
          },
          "showarrow": false,
          "text": "p-Group: 0.1795<br>p-Age: 0.2147",
          "x": 0.66,
          "xref": "x16 domain",
          "y": 0.99,
          "yref": "y16 domain"
         },
         {
          "align": "right",
          "font": {
           "size": 11
          },
          "showarrow": false,
          "text": "p-Group: 0.2878<br>p-Age: 0.0207<span style=\"color:black; font-size:14\">*</span>",
          "x": 0.66,
          "xref": "x20 domain",
          "y": 0.99,
          "yref": "y20 domain"
         },
         {
          "align": "right",
          "font": {
           "size": 11
          },
          "showarrow": false,
          "text": "p-Group: 0.2878<br>p-Age: 0.0207<span style=\"color:black; font-size:14\">*</span>",
          "x": 0.66,
          "xref": "x20 domain",
          "y": 0.99,
          "yref": "y20 domain"
         },
         {
          "align": "right",
          "font": {
           "size": 11
          },
          "showarrow": false,
          "text": "p-Group: 0.2878<br>p-Age: 0.0207<span style=\"color:black; font-size:14\">*</span>",
          "x": 0.66,
          "xref": "x20 domain",
          "y": 0.99,
          "yref": "y20 domain"
         },
         {
          "align": "right",
          "font": {
           "size": 11
          },
          "showarrow": false,
          "text": "p-Group: 0.2878<br>p-Age: 0.0207<span style=\"color:black; font-size:14\">*</span>",
          "x": 0.66,
          "xref": "x20 domain",
          "y": 0.99,
          "yref": "y20 domain"
         },
         {
          "align": "right",
          "font": {
           "size": 11
          },
          "showarrow": false,
          "text": "p-Group: 0.7131<br>p-Age: 0.6762",
          "x": 0.66,
          "xref": "x13 domain",
          "y": 0.99,
          "yref": "y13 domain"
         },
         {
          "align": "right",
          "font": {
           "size": 11
          },
          "showarrow": false,
          "text": "p-Group: 0.7131<br>p-Age: 0.6762",
          "x": 0.66,
          "xref": "x13 domain",
          "y": 0.99,
          "yref": "y13 domain"
         },
         {
          "align": "right",
          "font": {
           "size": 11
          },
          "showarrow": false,
          "text": "p-Group: 0.7131<br>p-Age: 0.6762",
          "x": 0.66,
          "xref": "x13 domain",
          "y": 0.99,
          "yref": "y13 domain"
         },
         {
          "align": "right",
          "font": {
           "size": 11
          },
          "showarrow": false,
          "text": "p-Group: 0.7131<br>p-Age: 0.6762",
          "x": 0.66,
          "xref": "x13 domain",
          "y": 0.99,
          "yref": "y13 domain"
         },
         {
          "align": "right",
          "font": {
           "size": 11
          },
          "showarrow": false,
          "text": "p-Group: 0.0540<br>p-Age: 0.0012<span style=\"color:black; font-size:14\">*</span>",
          "x": 0.66,
          "xref": "x17 domain",
          "y": 0.99,
          "yref": "y17 domain"
         },
         {
          "align": "right",
          "font": {
           "size": 11
          },
          "showarrow": false,
          "text": "p-Group: 0.0540<br>p-Age: 0.0012<span style=\"color:black; font-size:14\">*</span>",
          "x": 0.66,
          "xref": "x17 domain",
          "y": 0.99,
          "yref": "y17 domain"
         },
         {
          "align": "right",
          "font": {
           "size": 11
          },
          "showarrow": false,
          "text": "p-Group: 0.0540<br>p-Age: 0.0012<span style=\"color:black; font-size:14\">*</span>",
          "x": 0.66,
          "xref": "x17 domain",
          "y": 0.99,
          "yref": "y17 domain"
         },
         {
          "align": "right",
          "font": {
           "size": 11
          },
          "showarrow": false,
          "text": "p-Group: 0.0540<br>p-Age: 0.0012<span style=\"color:black; font-size:14\">*</span>",
          "x": 0.66,
          "xref": "x17 domain",
          "y": 0.99,
          "yref": "y17 domain"
         },
         {
          "align": "right",
          "font": {
           "size": 11
          },
          "showarrow": false,
          "text": "p-Group: 0.1263<br>p-Age: 0.0342<span style=\"color:black; font-size:14\">*</span>",
          "x": 0.66,
          "xref": "x21 domain",
          "y": 0.99,
          "yref": "y21 domain"
         },
         {
          "align": "right",
          "font": {
           "size": 11
          },
          "showarrow": false,
          "text": "p-Group: 0.1263<br>p-Age: 0.0342<span style=\"color:black; font-size:14\">*</span>",
          "x": 0.66,
          "xref": "x21 domain",
          "y": 0.99,
          "yref": "y21 domain"
         },
         {
          "align": "right",
          "font": {
           "size": 11
          },
          "showarrow": false,
          "text": "p-Group: 0.1263<br>p-Age: 0.0342<span style=\"color:black; font-size:14\">*</span>",
          "x": 0.66,
          "xref": "x21 domain",
          "y": 0.99,
          "yref": "y21 domain"
         },
         {
          "align": "right",
          "font": {
           "size": 11
          },
          "showarrow": false,
          "text": "p-Group: 0.1263<br>p-Age: 0.0342<span style=\"color:black; font-size:14\">*</span>",
          "x": 0.66,
          "xref": "x21 domain",
          "y": 0.99,
          "yref": "y21 domain"
         },
         {
          "align": "right",
          "font": {
           "size": 11
          },
          "showarrow": false,
          "text": "p-Group: 0.0393<span style=\"color:red; font-size:14\">*</span><br>p-Age: 0.0000<span style=\"color:black; font-size:14\">*</span>",
          "x": 0.66,
          "xref": "x24 domain",
          "y": 0.99,
          "yref": "y24 domain"
         },
         {
          "align": "right",
          "font": {
           "size": 11
          },
          "showarrow": false,
          "text": "p-Group: 0.0393<span style=\"color:red; font-size:14\">*</span><br>p-Age: 0.0000<span style=\"color:black; font-size:14\">*</span>",
          "x": 0.66,
          "xref": "x24 domain",
          "y": 0.99,
          "yref": "y24 domain"
         },
         {
          "align": "right",
          "font": {
           "size": 11
          },
          "showarrow": false,
          "text": "p-Group: 0.0393<span style=\"color:red; font-size:14\">*</span><br>p-Age: 0.0000<span style=\"color:black; font-size:14\">*</span>",
          "x": 0.66,
          "xref": "x24 domain",
          "y": 0.99,
          "yref": "y24 domain"
         },
         {
          "align": "right",
          "font": {
           "size": 11
          },
          "showarrow": false,
          "text": "p-Group: 0.0393<span style=\"color:red; font-size:14\">*</span><br>p-Age: 0.0000<span style=\"color:black; font-size:14\">*</span>",
          "x": 0.66,
          "xref": "x24 domain",
          "y": 0.99,
          "yref": "y24 domain"
         }
        ],
        "height": 1400,
        "images": [
         {
          "layer": "below",
          "sizex": 1.4,
          "sizey": 1.39,
          "source": "Figure4_template.png",
          "x": -0.22,
          "xanchor": "left",
          "y": 0.97,
          "yanchor": "top"
         }
        ],
        "margin": {
         "b": 200,
         "l": 200,
         "r": 200,
         "t": 200
        },
        "showlegend": false,
        "template": {
         "data": {
          "bar": [
           {
            "error_x": {
             "color": "#2a3f5f"
            },
            "error_y": {
             "color": "#2a3f5f"
            },
            "marker": {
             "line": {
              "color": "#E5ECF6",
              "width": 0.5
             },
             "pattern": {
              "fillmode": "overlay",
              "size": 10,
              "solidity": 0.2
             }
            },
            "type": "bar"
           }
          ],
          "barpolar": [
           {
            "marker": {
             "line": {
              "color": "#E5ECF6",
              "width": 0.5
             },
             "pattern": {
              "fillmode": "overlay",
              "size": 10,
              "solidity": 0.2
             }
            },
            "type": "barpolar"
           }
          ],
          "carpet": [
           {
            "aaxis": {
             "endlinecolor": "#2a3f5f",
             "gridcolor": "white",
             "linecolor": "white",
             "minorgridcolor": "white",
             "startlinecolor": "#2a3f5f"
            },
            "baxis": {
             "endlinecolor": "#2a3f5f",
             "gridcolor": "white",
             "linecolor": "white",
             "minorgridcolor": "white",
             "startlinecolor": "#2a3f5f"
            },
            "type": "carpet"
           }
          ],
          "choropleth": [
           {
            "colorbar": {
             "outlinewidth": 0,
             "ticks": ""
            },
            "type": "choropleth"
           }
          ],
          "contour": [
           {
            "colorbar": {
             "outlinewidth": 0,
             "ticks": ""
            },
            "colorscale": [
             [
              0,
              "#0d0887"
             ],
             [
              0.1111111111111111,
              "#46039f"
             ],
             [
              0.2222222222222222,
              "#7201a8"
             ],
             [
              0.3333333333333333,
              "#9c179e"
             ],
             [
              0.4444444444444444,
              "#bd3786"
             ],
             [
              0.5555555555555556,
              "#d8576b"
             ],
             [
              0.6666666666666666,
              "#ed7953"
             ],
             [
              0.7777777777777778,
              "#fb9f3a"
             ],
             [
              0.8888888888888888,
              "#fdca26"
             ],
             [
              1,
              "#f0f921"
             ]
            ],
            "type": "contour"
           }
          ],
          "contourcarpet": [
           {
            "colorbar": {
             "outlinewidth": 0,
             "ticks": ""
            },
            "type": "contourcarpet"
           }
          ],
          "heatmap": [
           {
            "colorbar": {
             "outlinewidth": 0,
             "ticks": ""
            },
            "colorscale": [
             [
              0,
              "#0d0887"
             ],
             [
              0.1111111111111111,
              "#46039f"
             ],
             [
              0.2222222222222222,
              "#7201a8"
             ],
             [
              0.3333333333333333,
              "#9c179e"
             ],
             [
              0.4444444444444444,
              "#bd3786"
             ],
             [
              0.5555555555555556,
              "#d8576b"
             ],
             [
              0.6666666666666666,
              "#ed7953"
             ],
             [
              0.7777777777777778,
              "#fb9f3a"
             ],
             [
              0.8888888888888888,
              "#fdca26"
             ],
             [
              1,
              "#f0f921"
             ]
            ],
            "type": "heatmap"
           }
          ],
          "histogram": [
           {
            "marker": {
             "pattern": {
              "fillmode": "overlay",
              "size": 10,
              "solidity": 0.2
             }
            },
            "type": "histogram"
           }
          ],
          "histogram2d": [
           {
            "colorbar": {
             "outlinewidth": 0,
             "ticks": ""
            },
            "colorscale": [
             [
              0,
              "#0d0887"
             ],
             [
              0.1111111111111111,
              "#46039f"
             ],
             [
              0.2222222222222222,
              "#7201a8"
             ],
             [
              0.3333333333333333,
              "#9c179e"
             ],
             [
              0.4444444444444444,
              "#bd3786"
             ],
             [
              0.5555555555555556,
              "#d8576b"
             ],
             [
              0.6666666666666666,
              "#ed7953"
             ],
             [
              0.7777777777777778,
              "#fb9f3a"
             ],
             [
              0.8888888888888888,
              "#fdca26"
             ],
             [
              1,
              "#f0f921"
             ]
            ],
            "type": "histogram2d"
           }
          ],
          "histogram2dcontour": [
           {
            "colorbar": {
             "outlinewidth": 0,
             "ticks": ""
            },
            "colorscale": [
             [
              0,
              "#0d0887"
             ],
             [
              0.1111111111111111,
              "#46039f"
             ],
             [
              0.2222222222222222,
              "#7201a8"
             ],
             [
              0.3333333333333333,
              "#9c179e"
             ],
             [
              0.4444444444444444,
              "#bd3786"
             ],
             [
              0.5555555555555556,
              "#d8576b"
             ],
             [
              0.6666666666666666,
              "#ed7953"
             ],
             [
              0.7777777777777778,
              "#fb9f3a"
             ],
             [
              0.8888888888888888,
              "#fdca26"
             ],
             [
              1,
              "#f0f921"
             ]
            ],
            "type": "histogram2dcontour"
           }
          ],
          "mesh3d": [
           {
            "colorbar": {
             "outlinewidth": 0,
             "ticks": ""
            },
            "type": "mesh3d"
           }
          ],
          "parcoords": [
           {
            "line": {
             "colorbar": {
              "outlinewidth": 0,
              "ticks": ""
             }
            },
            "type": "parcoords"
           }
          ],
          "pie": [
           {
            "automargin": true,
            "type": "pie"
           }
          ],
          "scatter": [
           {
            "fillpattern": {
             "fillmode": "overlay",
             "size": 10,
             "solidity": 0.2
            },
            "type": "scatter"
           }
          ],
          "scatter3d": [
           {
            "line": {
             "colorbar": {
              "outlinewidth": 0,
              "ticks": ""
             }
            },
            "marker": {
             "colorbar": {
              "outlinewidth": 0,
              "ticks": ""
             }
            },
            "type": "scatter3d"
           }
          ],
          "scattercarpet": [
           {
            "marker": {
             "colorbar": {
              "outlinewidth": 0,
              "ticks": ""
             }
            },
            "type": "scattercarpet"
           }
          ],
          "scattergeo": [
           {
            "marker": {
             "colorbar": {
              "outlinewidth": 0,
              "ticks": ""
             }
            },
            "type": "scattergeo"
           }
          ],
          "scattergl": [
           {
            "marker": {
             "colorbar": {
              "outlinewidth": 0,
              "ticks": ""
             }
            },
            "type": "scattergl"
           }
          ],
          "scattermap": [
           {
            "marker": {
             "colorbar": {
              "outlinewidth": 0,
              "ticks": ""
             }
            },
            "type": "scattermap"
           }
          ],
          "scattermapbox": [
           {
            "marker": {
             "colorbar": {
              "outlinewidth": 0,
              "ticks": ""
             }
            },
            "type": "scattermapbox"
           }
          ],
          "scatterpolar": [
           {
            "marker": {
             "colorbar": {
              "outlinewidth": 0,
              "ticks": ""
             }
            },
            "type": "scatterpolar"
           }
          ],
          "scatterpolargl": [
           {
            "marker": {
             "colorbar": {
              "outlinewidth": 0,
              "ticks": ""
             }
            },
            "type": "scatterpolargl"
           }
          ],
          "scatterternary": [
           {
            "marker": {
             "colorbar": {
              "outlinewidth": 0,
              "ticks": ""
             }
            },
            "type": "scatterternary"
           }
          ],
          "surface": [
           {
            "colorbar": {
             "outlinewidth": 0,
             "ticks": ""
            },
            "colorscale": [
             [
              0,
              "#0d0887"
             ],
             [
              0.1111111111111111,
              "#46039f"
             ],
             [
              0.2222222222222222,
              "#7201a8"
             ],
             [
              0.3333333333333333,
              "#9c179e"
             ],
             [
              0.4444444444444444,
              "#bd3786"
             ],
             [
              0.5555555555555556,
              "#d8576b"
             ],
             [
              0.6666666666666666,
              "#ed7953"
             ],
             [
              0.7777777777777778,
              "#fb9f3a"
             ],
             [
              0.8888888888888888,
              "#fdca26"
             ],
             [
              1,
              "#f0f921"
             ]
            ],
            "type": "surface"
           }
          ],
          "table": [
           {
            "cells": {
             "fill": {
              "color": "#EBF0F8"
             },
             "line": {
              "color": "white"
             }
            },
            "header": {
             "fill": {
              "color": "#C8D4E3"
             },
             "line": {
              "color": "white"
             }
            },
            "type": "table"
           }
          ]
         },
         "layout": {
          "annotationdefaults": {
           "arrowcolor": "#2a3f5f",
           "arrowhead": 0,
           "arrowwidth": 1
          },
          "autotypenumbers": "strict",
          "coloraxis": {
           "colorbar": {
            "outlinewidth": 0,
            "ticks": ""
           }
          },
          "colorscale": {
           "diverging": [
            [
             0,
             "#8e0152"
            ],
            [
             0.1,
             "#c51b7d"
            ],
            [
             0.2,
             "#de77ae"
            ],
            [
             0.3,
             "#f1b6da"
            ],
            [
             0.4,
             "#fde0ef"
            ],
            [
             0.5,
             "#f7f7f7"
            ],
            [
             0.6,
             "#e6f5d0"
            ],
            [
             0.7,
             "#b8e186"
            ],
            [
             0.8,
             "#7fbc41"
            ],
            [
             0.9,
             "#4d9221"
            ],
            [
             1,
             "#276419"
            ]
           ],
           "sequential": [
            [
             0,
             "#0d0887"
            ],
            [
             0.1111111111111111,
             "#46039f"
            ],
            [
             0.2222222222222222,
             "#7201a8"
            ],
            [
             0.3333333333333333,
             "#9c179e"
            ],
            [
             0.4444444444444444,
             "#bd3786"
            ],
            [
             0.5555555555555556,
             "#d8576b"
            ],
            [
             0.6666666666666666,
             "#ed7953"
            ],
            [
             0.7777777777777778,
             "#fb9f3a"
            ],
            [
             0.8888888888888888,
             "#fdca26"
            ],
            [
             1,
             "#f0f921"
            ]
           ],
           "sequentialminus": [
            [
             0,
             "#0d0887"
            ],
            [
             0.1111111111111111,
             "#46039f"
            ],
            [
             0.2222222222222222,
             "#7201a8"
            ],
            [
             0.3333333333333333,
             "#9c179e"
            ],
            [
             0.4444444444444444,
             "#bd3786"
            ],
            [
             0.5555555555555556,
             "#d8576b"
            ],
            [
             0.6666666666666666,
             "#ed7953"
            ],
            [
             0.7777777777777778,
             "#fb9f3a"
            ],
            [
             0.8888888888888888,
             "#fdca26"
            ],
            [
             1,
             "#f0f921"
            ]
           ]
          },
          "colorway": [
           "#636efa",
           "#EF553B",
           "#00cc96",
           "#ab63fa",
           "#FFA15A",
           "#19d3f3",
           "#FF6692",
           "#B6E880",
           "#FF97FF",
           "#FECB52"
          ],
          "font": {
           "color": "#2a3f5f"
          },
          "geo": {
           "bgcolor": "white",
           "lakecolor": "white",
           "landcolor": "#E5ECF6",
           "showlakes": true,
           "showland": true,
           "subunitcolor": "white"
          },
          "hoverlabel": {
           "align": "left"
          },
          "hovermode": "closest",
          "mapbox": {
           "style": "light"
          },
          "paper_bgcolor": "white",
          "plot_bgcolor": "#E5ECF6",
          "polar": {
           "angularaxis": {
            "gridcolor": "white",
            "linecolor": "white",
            "ticks": ""
           },
           "bgcolor": "#E5ECF6",
           "radialaxis": {
            "gridcolor": "white",
            "linecolor": "white",
            "ticks": ""
           }
          },
          "scene": {
           "xaxis": {
            "backgroundcolor": "#E5ECF6",
            "gridcolor": "white",
            "gridwidth": 2,
            "linecolor": "white",
            "showbackground": true,
            "ticks": "",
            "zerolinecolor": "white"
           },
           "yaxis": {
            "backgroundcolor": "#E5ECF6",
            "gridcolor": "white",
            "gridwidth": 2,
            "linecolor": "white",
            "showbackground": true,
            "ticks": "",
            "zerolinecolor": "white"
           },
           "zaxis": {
            "backgroundcolor": "#E5ECF6",
            "gridcolor": "white",
            "gridwidth": 2,
            "linecolor": "white",
            "showbackground": true,
            "ticks": "",
            "zerolinecolor": "white"
           }
          },
          "shapedefaults": {
           "line": {
            "color": "#2a3f5f"
           }
          },
          "ternary": {
           "aaxis": {
            "gridcolor": "white",
            "linecolor": "white",
            "ticks": ""
           },
           "baxis": {
            "gridcolor": "white",
            "linecolor": "white",
            "ticks": ""
           },
           "bgcolor": "#E5ECF6",
           "caxis": {
            "gridcolor": "white",
            "linecolor": "white",
            "ticks": ""
           }
          },
          "title": {
           "x": 0.05
          },
          "xaxis": {
           "automargin": true,
           "gridcolor": "white",
           "linecolor": "white",
           "ticks": "",
           "title": {
            "standoff": 15
           },
           "zerolinecolor": "white",
           "zerolinewidth": 2
          },
          "yaxis": {
           "automargin": true,
           "gridcolor": "white",
           "linecolor": "white",
           "ticks": "",
           "title": {
            "standoff": 15
           },
           "zerolinecolor": "white",
           "zerolinewidth": 2
          }
         }
        },
        "width": 1300,
        "xaxis": {
         "anchor": "y",
         "domain": [
          0,
          0.1825
         ]
        },
        "xaxis10": {
         "anchor": "y10",
         "domain": [
          0.27249999999999996,
          0.45499999999999996
         ]
        },
        "xaxis11": {
         "anchor": "y11",
         "domain": [
          0.5449999999999999,
          0.7274999999999999
         ],
         "tickfont": {
          "size": 14,
          "weight": "bold"
         },
         "ticktext": [
          "HC",
          "Low",
          "Med",
          "Adv"
         ],
         "tickvals": [
          "CTRL",
          "low",
          "med",
          "adv"
         ]
        },
        "xaxis12": {
         "anchor": "y12",
         "domain": [
          0.8175,
          1
         ],
         "tickfont": {
          "size": 14,
          "weight": "bold"
         },
         "ticktext": [
          "HC",
          "Low",
          "Med",
          "Adv"
         ],
         "tickvals": [
          "CTRL",
          "low",
          "med",
          "adv"
         ]
        },
        "xaxis13": {
         "anchor": "y13",
         "domain": [
          0,
          0.1825
         ],
         "tickfont": {
          "size": 14,
          "weight": "bold"
         },
         "ticktext": [
          "HC",
          "Low",
          "Med",
          "Adv"
         ],
         "tickvals": [
          "CTRL",
          "low",
          "med",
          "adv"
         ]
        },
        "xaxis14": {
         "anchor": "y14",
         "domain": [
          0.27249999999999996,
          0.45499999999999996
         ]
        },
        "xaxis15": {
         "anchor": "y15",
         "domain": [
          0.5449999999999999,
          0.7274999999999999
         ],
         "tickfont": {
          "size": 14,
          "weight": "bold"
         },
         "ticktext": [
          "HC",
          "Low",
          "Med",
          "Adv"
         ],
         "tickvals": [
          "CTRL",
          "low",
          "med",
          "adv"
         ]
        },
        "xaxis16": {
         "anchor": "y16",
         "domain": [
          0.8175,
          1
         ],
         "tickfont": {
          "size": 14,
          "weight": "bold"
         },
         "ticktext": [
          "HC",
          "Low",
          "Med",
          "Adv"
         ],
         "tickvals": [
          "CTRL",
          "low",
          "med",
          "adv"
         ]
        },
        "xaxis17": {
         "anchor": "y17",
         "domain": [
          0,
          0.1825
         ],
         "tickfont": {
          "size": 14,
          "weight": "bold"
         },
         "ticktext": [
          "HC",
          "Low",
          "Med",
          "Adv"
         ],
         "tickvals": [
          "CTRL",
          "low",
          "med",
          "adv"
         ]
        },
        "xaxis18": {
         "anchor": "y18",
         "domain": [
          0.27249999999999996,
          0.45499999999999996
         ]
        },
        "xaxis19": {
         "anchor": "y19",
         "domain": [
          0.5449999999999999,
          0.7274999999999999
         ],
         "tickfont": {
          "size": 14,
          "weight": "bold"
         },
         "ticktext": [
          "HC",
          "Low",
          "Med",
          "Adv"
         ],
         "tickvals": [
          "CTRL",
          "low",
          "med",
          "adv"
         ]
        },
        "xaxis2": {
         "anchor": "y2",
         "domain": [
          0.27249999999999996,
          0.45499999999999996
         ]
        },
        "xaxis20": {
         "anchor": "y20",
         "domain": [
          0.8175,
          1
         ],
         "tickfont": {
          "size": 14,
          "weight": "bold"
         },
         "ticktext": [
          "HC",
          "Low",
          "Med",
          "Adv"
         ],
         "tickvals": [
          "CTRL",
          "low",
          "med",
          "adv"
         ]
        },
        "xaxis21": {
         "anchor": "y21",
         "domain": [
          0,
          0.1825
         ],
         "tickfont": {
          "size": 14,
          "weight": "bold"
         },
         "ticktext": [
          "HC",
          "Low",
          "Med",
          "Adv"
         ],
         "tickvals": [
          "CTRL",
          "low",
          "med",
          "adv"
         ]
        },
        "xaxis22": {
         "anchor": "y22",
         "domain": [
          0.27249999999999996,
          0.45499999999999996
         ]
        },
        "xaxis23": {
         "anchor": "y23",
         "domain": [
          0.5449999999999999,
          0.7274999999999999
         ]
        },
        "xaxis24": {
         "anchor": "y24",
         "domain": [
          0.8175,
          1
         ],
         "tickfont": {
          "size": 14,
          "weight": "bold"
         },
         "ticktext": [
          "HC",
          "Low",
          "Med",
          "Adv"
         ],
         "tickvals": [
          "CTRL",
          "low",
          "med",
          "adv"
         ]
        },
        "xaxis3": {
         "anchor": "y3",
         "domain": [
          0.5449999999999999,
          0.7274999999999999
         ]
        },
        "xaxis4": {
         "anchor": "y4",
         "domain": [
          0.8175,
          1
         ]
        },
        "xaxis5": {
         "anchor": "y5",
         "domain": [
          0,
          0.1825
         ]
        },
        "xaxis6": {
         "anchor": "y6",
         "domain": [
          0.27249999999999996,
          0.45499999999999996
         ]
        },
        "xaxis7": {
         "anchor": "y7",
         "domain": [
          0.5449999999999999,
          0.7274999999999999
         ],
         "tickfont": {
          "size": 14,
          "weight": "bold"
         },
         "ticktext": [
          "HC",
          "Low",
          "Med",
          "Adv"
         ],
         "tickvals": [
          "CTRL",
          "low",
          "med",
          "adv"
         ]
        },
        "xaxis8": {
         "anchor": "y8",
         "domain": [
          0.8175,
          1
         ],
         "tickfont": {
          "size": 14,
          "weight": "bold"
         },
         "ticktext": [
          "HC",
          "Low",
          "Med",
          "Adv"
         ],
         "tickvals": [
          "CTRL",
          "low",
          "med",
          "adv"
         ]
        },
        "xaxis9": {
         "anchor": "y9",
         "domain": [
          0,
          0.1825
         ]
        },
        "yaxis": {
         "anchor": "x",
         "domain": [
          0.875,
          1
         ]
        },
        "yaxis10": {
         "anchor": "x10",
         "domain": [
          0.525,
          0.65
         ]
        },
        "yaxis11": {
         "anchor": "x11",
         "domain": [
          0.525,
          0.65
         ],
         "range": [
          0.0002,
          0.0016
         ],
         "title": {
          "font": {
           "color": "black",
           "family": "Arial",
           "size": 20,
           "weight": "bold"
          },
          "text": "MD"
         }
        },
        "yaxis12": {
         "anchor": "x12",
         "domain": [
          0.525,
          0.65
         ],
         "range": [
          0.1,
          0.7
         ],
         "title": {
          "font": {
           "color": "black",
           "family": "Arial",
           "size": 20,
           "weight": "bold"
          },
          "text": "FISO"
         }
        },
        "yaxis13": {
         "anchor": "x13",
         "domain": [
          0.35,
          0.475
         ],
         "range": [
          0,
          0.5
         ],
         "title": {
          "font": {
           "color": "black",
           "family": "Arial",
           "size": 20,
           "weight": "bold"
          },
          "text": "ODI"
         }
        },
        "yaxis14": {
         "anchor": "x14",
         "domain": [
          0.35,
          0.475
         ]
        },
        "yaxis15": {
         "anchor": "x15",
         "domain": [
          0.35,
          0.475
         ],
         "range": [
          0.0002,
          0.0026
         ],
         "title": {
          "font": {
           "color": "black",
           "family": "Arial",
           "size": 20,
           "weight": "bold"
          },
          "text": "AD"
         }
        },
        "yaxis16": {
         "anchor": "x16",
         "domain": [
          0.35,
          0.475
         ],
         "range": [
          0.4,
          1.2
         ],
         "title": {
          "font": {
           "color": "black",
           "family": "Arial",
           "size": 20,
           "weight": "bold"
          },
          "text": "FICVF"
         }
        },
        "yaxis17": {
         "anchor": "x17",
         "domain": [
          0.175,
          0.3
         ],
         "range": [
          0.1,
          0.7
         ],
         "title": {
          "font": {
           "color": "black",
           "family": "Arial",
           "size": 20,
           "weight": "bold"
          },
          "text": "FISO"
         }
        },
        "yaxis18": {
         "anchor": "x18",
         "domain": [
          0.175,
          0.3
         ]
        },
        "yaxis19": {
         "anchor": "x19",
         "domain": [
          0.175,
          0.3
         ],
         "range": [
          0.00025,
          0.001
         ],
         "title": {
          "font": {
           "color": "black",
           "family": "Arial",
           "size": 20,
           "weight": "bold"
          },
          "text": "RD"
         }
        },
        "yaxis2": {
         "anchor": "x2",
         "domain": [
          0.875,
          1
         ]
        },
        "yaxis20": {
         "anchor": "x20",
         "domain": [
          0.175,
          0.3
         ],
         "range": [
          35,
          55
         ],
         "title": {
          "font": {
           "color": "black",
           "family": "Arial",
           "size": 20,
           "weight": "bold"
          },
          "text": "MTR"
         }
        },
        "yaxis21": {
         "anchor": "x21",
         "domain": [
          0,
          0.125
         ],
         "range": [
          0.4,
          1.2
         ],
         "title": {
          "font": {
           "color": "black",
           "family": "Arial",
           "size": 20,
           "weight": "bold"
          },
          "text": "FICVF"
         }
        },
        "yaxis22": {
         "anchor": "x22",
         "domain": [
          0,
          0.125
         ]
        },
        "yaxis23": {
         "anchor": "x23",
         "domain": [
          0,
          0.125
         ]
        },
        "yaxis24": {
         "anchor": "x24",
         "domain": [
          0,
          0.125
         ],
         "range": [
          0.8,
          1.1
         ],
         "title": {
          "font": {
           "color": "black",
           "family": "Arial",
           "size": 20,
           "weight": "bold"
          },
          "text": "T2* ratio"
         }
        },
        "yaxis3": {
         "anchor": "x3",
         "domain": [
          0.875,
          1
         ]
        },
        "yaxis4": {
         "anchor": "x4",
         "domain": [
          0.875,
          1
         ]
        },
        "yaxis5": {
         "anchor": "x5",
         "domain": [
          0.7,
          0.825
         ]
        },
        "yaxis6": {
         "anchor": "x6",
         "domain": [
          0.7,
          0.825
         ]
        },
        "yaxis7": {
         "anchor": "x7",
         "domain": [
          0.7,
          0.825
         ],
         "range": [
          0.3,
          0.8
         ],
         "title": {
          "font": {
           "color": "black",
           "family": "Arial",
           "size": 20,
           "weight": "bold"
          },
          "text": "FA"
         }
        },
        "yaxis8": {
         "anchor": "x8",
         "domain": [
          0.7,
          0.825
         ],
         "range": [
          0,
          0.5
         ],
         "title": {
          "font": {
           "color": "black",
           "family": "Arial",
           "size": 20,
           "weight": "bold"
          },
          "text": "ODI"
         }
        },
        "yaxis9": {
         "anchor": "x9",
         "domain": [
          0.525,
          0.65
         ]
        }
       }
      }
     },
     "metadata": {},
     "output_type": "display_data"
    }
   ],
   "source": [
    "#| label: fig4cell\n",
    "\n",
    "import plotly.express as px\n",
    "from plotly.offline import plot\n",
    "from IPython.core.display import HTML\n",
    "import plotly.graph_objects as go\n",
    "from plotly.subplots import make_subplots\n",
    "import pandas as pd\n",
    "import statsmodels.formula.api as smf\n",
    "from statsmodels.formula.api import ols\n",
    "from statsmodels.stats.anova import anova_lm\n",
    "\n",
    "# Initialize the figure with subplots\n",
    "fig = make_subplots(\n",
    "    rows=6, cols=4,  # Adjust number of rows and columns as needed\n",
    "    vertical_spacing=0.05,  # Adjust vertical spacing (between rows)\n",
    "    horizontal_spacing=0.09,  # Adjust horizontal spacing (between columns)\n",
    ")\n",
    "\n",
    "# Color palettes\n",
    "palette_boxplots = ['steelblue', '#F0B0B0', 'lightcoral', '#B4464F']\n",
    "palette_points = ['#00517F', '#B4464F', '#B4464F', '#5E000E']\n",
    "\n",
    "\n",
    "# Add traces with color palette in each subplot\n",
    "\n",
    "# Initialize dictionnaries to store dataframes for white matter, gray matter and WM/GM ratio\n",
    "\n",
    "df_WM = {}\n",
    "df_GM = {}\n",
    "df_WMGM = {}\n",
    "\n",
    "# Dataframes for metrics in white matter : \n",
    "metrics_in_WM = ['FA', 'MD', 'AD', 'RD', 'ODI', 'FISO', 'FICVF', 'MTR']\n",
    "for metric in metrics_in_WM:\n",
    "    df = pd.read_csv(f'../data/parkinsons-spinalcord-mri-metrics/data/{metric}.csv')\n",
    "    df_WM[metric] = df[(df['Label'] == 'white matter') & (df['VertLevel'] == '2:05')]\n",
    "\n",
    "# Dataframes for metrics in gray matter : \n",
    "metrics_in_GM = ['ODI', 'FISO', 'FICVF']\n",
    "for metric in metrics_in_GM:\n",
    "    df = pd.read_csv(f'../data/parkinsons-spinalcord-mri-metrics/data/{metric}.csv')\n",
    "    df_GM[metric] = df[(df['Label'] == 'gray matter') & (df['VertLevel'] == '2:05')]\n",
    "\n",
    "# Dataframes for metrics in WM/GM ratio: \n",
    "df = pd.read_csv(f'../data/parkinsons-spinalcord-mri-metrics/data/T2star.csv')\n",
    "df_WM['T2star'] = df[(df['Label'] == 'white matter') & (df['VertLevel'] == '2:05')]\n",
    "df_GM['T2star'] = df[(df['Label'] == 'gray matter') & (df['VertLevel'] == '2:05')]\n",
    "df_WMGM['T2star'] = df_WM['T2star'].copy()\n",
    "df_WMGM['T2star']['WA'] = df_WM['T2star']['WA']/df_GM['T2star']['WA'].values\n",
    "\n",
    "def add_boxplot_for_subplot(data, row, col):\n",
    "    groups = ['CTRL', 'low', 'med', 'adv']\n",
    "\n",
    "    # OLS analysis   \n",
    "    ols_model = smf.ols(formula='WA ~ C(UPDRS_class_bis) + Age', data=data) # The \"C()\" here means that UPDRS_class_bis is a categorical variable\n",
    "    ols_results = ols_model.fit()\n",
    "    print(f'OLS results for WM MTR in C2-C5: {ols_results.summary()}')\n",
    "\n",
    "    # Perform ANOVA test\n",
    "    anova_results = anova_lm(ols_results, typ=2)  # Type II ANOVA\n",
    "    print(f'ANOVA results : {anova_results}')\n",
    "\n",
    "    # Adjusted R2\n",
    "    adjR2 = ols_results.rsquared_adj\n",
    "    formatted_adjR2 = f\"{adjR2:.4f}\"\n",
    "\n",
    "    # UPDRSIII_class_bis p-value\n",
    "    pvalue_UPDRS_class_bis = anova_results.loc['C(UPDRS_class_bis)', 'PR(>F)']\n",
    "    formatted_pvalue_UPDRS_class_bis = f\"{pvalue_UPDRS_class_bis:.4f}\"\n",
    "\n",
    "    # Age p-value\n",
    "    pvalue_age = anova_results.loc['Age', 'PR(>F)']\n",
    "    formatted_pvalue_age = f\"{pvalue_age:.4f}\"\n",
    "    \n",
    "    for i, group in enumerate(groups):\n",
    "        box_color = palette_boxplots[i % len(palette_boxplots)]  # Ensure we don't run out of colors\n",
    "        points_color = palette_points[i % len(palette_points)]  # Cycle through jitter colors\n",
    "        \n",
    "        fig.add_trace(go.Box(\n",
    "            # Filter data for each group\n",
    "            x=data['UPDRS_class_bis'][data['UPDRS_class_bis'] == group], \n",
    "            y=data['WA'][data['UPDRS_class_bis'] == group],  \n",
    "\n",
    "            # Show all points\n",
    "            boxpoints='all',\n",
    "            jitter=0.7,  # Jitter the points for better visibility\n",
    "            whiskerwidth=0.8,  # Width of the whiskers\n",
    "            fillcolor=box_color,  # Color of the box\n",
    "            marker_size=2.5,  # Marker size for points\n",
    "            marker_color=points_color, # Color of the points\n",
    "            marker_opacity=0.8,  # Opacity of the points\n",
    "            line_width=1,  # Border width of the box\n",
    "            line_color=\"black\" ,  # Border color of the box\n",
    "            pointpos=0, # Center the points with the box\n",
    "        ), row=row, col=col)\n",
    "\n",
    "        # Determine if the p-value is significant (whether to add an asterisk)\n",
    "        red_asterisk = '<span style=\"color:red; font-size:14\">*</span>' if pvalue_UPDRS_class_bis < 0.05 else \"\"\n",
    "        black_asterisk = '<span style=\"color:black; font-size:14\">*</span>' if pvalue_age < 0.05 else \"\"\n",
    "\n",
    "        # Add annotations for p-values\n",
    "        fig.add_annotation(\n",
    "        x=0.66,  # Position of the annotation in x\n",
    "        y=0.99,  # Position of the annotation in y \n",
    "        text=f\"p-Group: {pvalue_UPDRS_class_bis:.4f}{red_asterisk}<br>p-Age: {pvalue_age:.4f}{black_asterisk}\", \n",
    "        showarrow=False,\n",
    "        font=dict(size=11),\n",
    "        align=\"right\",\n",
    "        row=row,\n",
    "        col=col,\n",
    "        xref=\"x domain\",  # Use the plot's domain (relative x-axis)\n",
    "        yref=\"y domain\"   # Use the plot's domain (relative y-axis)\n",
    "    )\n",
    "\n",
    "\n",
    "# Add boxplots for each trace (WM and GM data)\n",
    "\n",
    "# White matter plots\n",
    "add_boxplot_for_subplot(df_WM['FA'], 2, 3)\n",
    "add_boxplot_for_subplot(df_WM['MD'], 3, 3)\n",
    "add_boxplot_for_subplot(df_WM['AD'], 4, 3)\n",
    "add_boxplot_for_subplot(df_WM['RD'], 5, 3)\n",
    "add_boxplot_for_subplot(df_WM['ODI'], 2, 4)\n",
    "add_boxplot_for_subplot(df_WM['FISO'], 3, 4)\n",
    "add_boxplot_for_subplot(df_WM['FICVF'], 4, 4)\n",
    "add_boxplot_for_subplot(df_WM['MTR'], 5, 4)\n",
    "\n",
    "# Gray matter plots\n",
    "add_boxplot_for_subplot(df_GM['ODI'], 4, 1)\n",
    "add_boxplot_for_subplot(df_GM['FISO'], 5, 1)\n",
    "add_boxplot_for_subplot(df_GM['FICVF'], 6, 1)\n",
    "\n",
    "# WM/GM plots\n",
    "add_boxplot_for_subplot(df_WMGM['T2star'], 6, 4)\n",
    "\n",
    "# Update layout\n",
    "fig.update_layout(\n",
    "    margin=dict(\n",
    "        l=200,  # left margin\n",
    "        r=200,  # right margin\n",
    "        t=200,  # top margin\n",
    "        b=200,  # bottom margin\n",
    "    ),\n",
    "    width=1300, \n",
    "    height=1400,\n",
    "    showlegend=False, \n",
    "    \n",
    "    yaxis7_title=\"FA\",\n",
    "    yaxis7_title_font=dict(size=20, family=\"Arial\", color=\"black\", weight='bold'),\n",
    "    yaxis11_title=\"MD\",\n",
    "    yaxis11_title_font=dict(size=20, family=\"Arial\", color=\"black\", weight='bold'),\n",
    "    yaxis15_title=\"AD\",\n",
    "    yaxis15_title_font=dict(size=20, family=\"Arial\", color=\"black\", weight='bold'),\n",
    "    yaxis19_title=\"RD\",\n",
    "    yaxis19_title_font=dict(size=20, family=\"Arial\", color=\"black\", weight='bold'),\n",
    "    yaxis8_title=\"ODI\",\n",
    "    yaxis8_title_font=dict(size=20, family=\"Arial\", color=\"black\", weight='bold'),\n",
    "    yaxis12_title=\"FISO\",\n",
    "    yaxis12_title_font=dict(size=20, family=\"Arial\", color=\"black\", weight='bold'),\n",
    "    yaxis16_title=\"FICVF\",\n",
    "    yaxis16_title_font=dict(size=20, family=\"Arial\", color=\"black\", weight='bold'),\n",
    "    yaxis20_title='MTR',\n",
    "    yaxis20_title_font=dict(size=20, family=\"Arial\", color=\"black\", weight='bold'),\n",
    "    yaxis13_title=\"ODI\",\n",
    "    yaxis13_title_font=dict(size=20, family=\"Arial\", color=\"black\", weight='bold'),\n",
    "    yaxis17_title=\"FISO\",\n",
    "    yaxis17_title_font=dict(size=20, family=\"Arial\", color=\"black\", weight='bold'),\n",
    "    yaxis21_title='FICVF',\n",
    "    yaxis21_title_font=dict(size=20, family=\"Arial\", color=\"black\", weight='bold'),\n",
    "    yaxis24_title=\"T2* ratio\",\n",
    "    yaxis24_title_font=dict(size=20, family=\"Arial\", color=\"black\", weight='bold'),\n",
    ")\n",
    "\n",
    "### ADD STATIC BACKGROUND IMAGE ###\n",
    "fig.update_layout(\n",
    "    images=[dict(\n",
    "        source='Figure4_template.png',  \n",
    "        x=-0.22,\n",
    "        y=0.97,\n",
    "        xanchor=\"left\",\n",
    "        yanchor=\"top\",\n",
    "        sizex=1.4,\n",
    "        sizey=1.39, \n",
    "        layer=\"below\",  \n",
    "    )],\n",
    ")\n",
    "\n",
    "# Set the y-axis range for each subplot\n",
    "fig.update_yaxes(range=[0.3, 0.8],  row=2, col=3) # FA (WM)\n",
    "fig.update_yaxes(range=[0.0002, 0.0016], row=3, col=3) # MD (WM) \n",
    "fig.update_yaxes(range=[0.0002, 0.0026], row=4, col=3) # AD (WM) \n",
    "fig.update_yaxes(range=[0.00025, 0.001], row=5, col=3) # RD (WM) \n",
    "fig.update_yaxes(range=[0, 0.5], row=2, col=4) # ODI (WM) \n",
    "fig.update_yaxes(range=[0.1, 0.7], row=3, col=4) # FISO (WM)\n",
    "fig.update_yaxes(range=[0.4, 1.2], row=4, col=4) # FICVF (WM)\n",
    "fig.update_yaxes(range=[35, 55], row=5, col=4) # MTR (WM)\n",
    "fig.update_yaxes(range=[0, 0.5], row=4, col=1) # ODI (GM)\n",
    "fig.update_yaxes(range=[0.1, 0.7], row=5, col=1) # FISO (GM)\n",
    "fig.update_yaxes(range=[0.4, 1.2], row=6, col=1) # FICVF (GM)\n",
    "fig.update_yaxes(range=[0.8, 1.1], row=6, col=4) # T2* (WM/GM ratio) \n",
    "\n",
    "# List of subplot positions for x-axis updates\n",
    "xaxis_subplots = [(2, 3), (3, 3), (4, 3), (5, 3), (2, 4), (3, 4), (4, 4), (5, 4), (4, 1), (5, 1), (6, 1), (6, 4)]\n",
    "\n",
    "# Update x-axis labels and font\n",
    "for row, col in xaxis_subplots:\n",
    "    fig.update_xaxes(\n",
    "        ticktext=['HC', 'Low', 'Med', 'Adv'],\n",
    "        tickvals=['CTRL', 'low', 'med', 'adv'],\n",
    "        tickfont=dict(size=14, weight='bold'),\n",
    "        row=row,\n",
    "        col=col\n",
    "    )\n",
    "\n",
    "fig.show()"
   ]
  },
  {
   "cell_type": "code",
   "execution_count": null,
   "id": "2352dac3",
   "metadata": {},
   "outputs": [],
   "source": []
  }
 ],
 "metadata": {
  "kernelspec": {
   "display_name": "Python 3",
   "language": "python",
   "name": "python3"
  },
  "language_info": {
   "codemirror_mode": {
    "name": "ipython",
    "version": 3
   },
   "file_extension": ".py",
   "mimetype": "text/x-python",
   "name": "python",
   "nbconvert_exporter": "python",
   "pygments_lexer": "ipython3",
   "version": "3.12.2"
  }
 },
 "nbformat": 4,
 "nbformat_minor": 5
}
