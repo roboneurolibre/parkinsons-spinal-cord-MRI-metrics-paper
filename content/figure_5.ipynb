{
 "cells": [
  {
   "cell_type": "code",
   "execution_count": null,
   "id": "fb688a53-193c-4374-bd9e-8f67ac59e589",
   "metadata": {
    "tags": []
   },
   "outputs": [],
   "source": [
    "#| label: fig5cell\n",
    "\n",
    "import plotly.express as px\n",
    "from plotly.offline import plot\n",
    "from IPython.core.display import HTML\n",
    "import plotly.graph_objects as go\n",
    "from plotly.subplots import make_subplots\n",
    "import pandas as pd\n",
    "\n",
    "# Initialize the figure with subplots\n",
    "fig = make_subplots(\n",
    "    rows=1, cols=3,  # Adjust number of rows and columns as needed\n",
    ")\n",
    "\n",
    "# Color palettes\n",
    "palette_boxplots = ['steelblue', '#F0B0B0', 'lightcoral', '#B4464F']\n",
    "palette_points = ['#00517F', 'lightcoral', '#B4464F', '#5E000E']\n",
    "\n",
    "df_CSA = pd.read_csv('data/CSA.csv')\n",
    "df_CSA = df_CSA[df_CSA['VertLevel'] == '2:05'] # Sort for only C2-C5 combined data\n",
    "\n",
    "groups = ['CTRL', 'low', 'med', 'adv']\n",
    "\n",
    "for i, group in enumerate(groups):\n",
    "    box_color = palette_boxplots[i % len(palette_boxplots)]  # Ensure we don't run out of colors\n",
    "    points_color = palette_points[i % len(palette_points)]  # Cycle through jitter colors\n",
    "    \n",
    "    fig.add_trace(go.Box(\n",
    "        # Filter data for each group\n",
    "        x=df_CSA['UPDRS_class_bis'][df_CSA['UPDRS_class_bis'] == group], \n",
    "        y=df_CSA['CSA'][df_CSA['UPDRS_class_bis'] == group],  \n",
    "\n",
    "        # Show all points\n",
    "        boxpoints='all',\n",
    "        jitter=0.5,  # Jitter the points for better visibility\n",
    "        whiskerwidth=0.4,  \n",
    "        fillcolor=box_color,  # Color of the box\n",
    "        marker_size=3,  # Marker size for points\n",
    "        marker_color=points_color, # Color of the points\n",
    "        line_width=1.5,  # Border width of the box\n",
    "        pointpos=0, # Center the points with the box\n",
    "        showlegend=False\n",
    "    ), row=1, col=2\n",
    "    )\n",
    "\n",
    "### ADD STATIC BACKGROUND IMAGE ###\n",
    "fig.update_layout(\n",
    "    images=[dict(\n",
    "        source='images/Figure5_template.png',  \n",
    "        x=0.1,\n",
    "        y=-0.2,\n",
    "        xanchor=\"left\",\n",
    "        yanchor=\"bottom\",\n",
    "        sizex=1.5,\n",
    "        sizey=1.5, \n",
    "        layer=\"below\",  \n",
    "    )],\n",
    ")\n",
    "\n",
    "fig.show()"
   ]
  }
 ],
 "metadata": {
  "kernelspec": {
   "display_name": "Python 3 (ipykernel)",
   "language": "python",
   "name": "python3"
  },
  "language_info": {
   "codemirror_mode": {
    "name": "ipython",
    "version": 3
   },
   "file_extension": ".py",
   "mimetype": "text/x-python",
   "name": "python",
   "nbconvert_exporter": "python",
   "pygments_lexer": "ipython3",
   "version": "3.10.4"
  }
 },
 "nbformat": 4,
 "nbformat_minor": 5
}
