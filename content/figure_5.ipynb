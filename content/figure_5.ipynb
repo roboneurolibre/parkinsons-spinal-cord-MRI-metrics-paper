{
 "cells": [
  {
   "cell_type": "code",
   "execution_count": null,
   "id": "fb688a53-193c-4374-bd9e-8f67ac59e589",
   "metadata": {
    "tags": []
   },
   "outputs": [
    {
     "data": {
      "application/vnd.plotly.v1+json": {
       "config": {
        "plotlyServerURL": "https://plot.ly"
       },
       "data": [
        {
         "boxpoints": "all",
         "fillcolor": "steelblue",
         "jitter": 0.5,
         "line": {
          "width": 2
         },
         "marker": {
          "color": "#00517F",
          "size": 5
         },
         "pointpos": 0,
         "showlegend": false,
         "type": "box",
         "whiskerwidth": 0.5,
         "x": [
          "CTRL",
          "CTRL",
          "CTRL",
          "CTRL",
          "CTRL",
          "CTRL",
          "CTRL",
          "CTRL",
          "CTRL",
          "CTRL",
          "CTRL",
          "CTRL",
          "CTRL",
          "CTRL",
          "CTRL",
          "CTRL",
          "CTRL",
          "CTRL",
          "CTRL",
          "CTRL",
          "CTRL",
          "CTRL",
          "CTRL",
          "CTRL",
          "CTRL",
          "CTRL",
          "CTRL",
          "CTRL",
          "CTRL",
          "CTRL",
          "CTRL",
          "CTRL",
          "CTRL",
          "CTRL",
          "CTRL",
          "CTRL",
          "CTRL",
          "CTRL"
         ],
         "xaxis": "x2",
         "y": {
          "bdata": "2R/uC+TDUkA1Vf85r/RSQP08/OtLKFRAXbpyi7NRUkCO86v3o1ZTQA0Ja6WIAVNA2aGzL80tUUCS22HZbY5RQDZvQVtzHVBAGQyFOrI4UECHxvIyM+JRQGkwkfsrvlJAUm4uQNMxU0DCxpLF/yNSQJuRYvyLJ1JA7YCpbocUU0CXiDsH5OBSQPnlo/eTqlBABbZzL2pPU0D/Dj0Qtr9SQBIg+Tm0SVFAl7hE5CrgT0DxITTEKb1SQPbdpbsI+FJAllhbqc4bUkC6USKRjwBRQKRQFr5+iVFAIsCvsnKMUUDS5903gidRQId2JTSPOlNAGWRgV/KUUkCfneMO4b1TQKISMusgNlRAv+2uWKj8UUDH4i8UzRVSQIZlvzBRMlJA5BobkRqFVEAYMuxqkRFRQA==",
          "dtype": "f8"
         },
         "yaxis": "y2"
        },
        {
         "boxpoints": "all",
         "fillcolor": "#F0B0B0",
         "jitter": 0.5,
         "line": {
          "width": 2
         },
         "marker": {
          "color": "lightcoral",
          "size": 5
         },
         "pointpos": 0,
         "showlegend": false,
         "type": "box",
         "whiskerwidth": 0.5,
         "x": [
          "low",
          "low",
          "low",
          "low",
          "low",
          "low",
          "low",
          "low",
          "low",
          "low",
          "low",
          "low",
          "low",
          "low",
          "low",
          "low",
          "low",
          "low",
          "low",
          "low",
          "low",
          "low",
          "low",
          "low"
         ],
         "xaxis": "x2",
         "y": {
          "bdata": "f31bTWrlUkAe+zgeXNhTQEj8aSezz1RARqUiX5POUECycVAE6QhSQChD+pIy1VFAiJeO1qSzUkDy7oY8GwJSQH1+tfbAB1JAywfrnLJyVEDjiu7NbTNQQPgtIbzJI1JAnfTf/95jUkCPt4V8ipdVQFDvVlRMYFRAO/x3dTUJU0DcCVmK4rVTQFopiKrt7FJAZEZP/F7ST0B4WgIZjwBUQH8XESBes1RABlAI9DRtUUC4pifJhj1SQC//OprXZlNA",
          "dtype": "f8"
         },
         "yaxis": "y2"
        },
        {
         "boxpoints": "all",
         "fillcolor": "lightcoral",
         "jitter": 0.5,
         "line": {
          "width": 2
         },
         "marker": {
          "color": "#B4464F",
          "size": 5
         },
         "pointpos": 0,
         "showlegend": false,
         "type": "box",
         "whiskerwidth": 0.5,
         "x": [
          "med",
          "med",
          "med",
          "med",
          "med",
          "med",
          "med",
          "med",
          "med",
          "med",
          "med",
          "med",
          "med",
          "med",
          "med",
          "med",
          "med",
          "med",
          "med",
          "med",
          "med",
          "med"
         ],
         "xaxis": "x2",
         "y": {
          "bdata": "aymkJSRvUED8wq+BgtVQQKFH78jWf1RABxfh3BViUEDuT9KRFnVSQJ9FCPJgBlNAuDWO/ZFiVUB+bBZY1adRQKxtzOOXEVNARqhj319cUUDCWLZBM6BUQO3wOo9Ip1VAPiujcIEzVEBozwJAVztPQBgN13LAXVJAZyx5wGX+U0AryylkW4FSQIarZkppLlBAJjTNZI0TVEAJRm8C3TdVQPOjTDC90lFARcl5OcuaU0A=",
          "dtype": "f8"
         },
         "yaxis": "y2"
        },
        {
         "boxpoints": "all",
         "fillcolor": "#B4464F",
         "jitter": 0.5,
         "line": {
          "width": 2
         },
         "marker": {
          "color": "#5E000E",
          "size": 5
         },
         "pointpos": 0,
         "showlegend": false,
         "type": "box",
         "whiskerwidth": 0.5,
         "x": [
          "adv",
          "adv",
          "adv",
          "adv",
          "adv",
          "adv",
          "adv",
          "adv",
          "adv",
          "adv",
          "adv",
          "adv",
          "adv",
          "adv",
          "adv",
          "adv",
          "adv",
          "adv",
          "adv",
          "adv",
          "adv",
          "adv",
          "adv",
          "adv"
         ],
         "xaxis": "x2",
         "y": {
          "bdata": "bH9fCmz9VEDSeDsl1LtRQBYNvtUf2VBAnH/DXaCwUEDPymp4AjxTQO3vrqvw1VVAuHyg7FhmUUDPrQjlmnNQQM78rCpizlJAhs/vXiIqVEAP03ydbSZRQC8lHpKSXlJAlymckw1GUkCi1hPhz4RSQAf8jp8VDlJAmE81/q1UUUANGwLTK7JUQAB44VrvBlJAxwVvYQAaU0BtJCJf9gNTQAksyrbdgVRAisqnQ/5VUkC4IcZr3vZRQGqZ0huqJlJA",
          "dtype": "f8"
         },
         "yaxis": "y2"
        }
       ],
       "layout": {
        "images": [
         {
          "layer": "below",
          "sizex": 1.5,
          "sizey": 1.5,
          "source": "Figure5_template.png",
          "x": 0.1,
          "xanchor": "left",
          "y": -0.2,
          "yanchor": "bottom"
         }
        ],
        "template": {
         "data": {
          "bar": [
           {
            "error_x": {
             "color": "#2a3f5f"
            },
            "error_y": {
             "color": "#2a3f5f"
            },
            "marker": {
             "line": {
              "color": "#E5ECF6",
              "width": 0.5
             },
             "pattern": {
              "fillmode": "overlay",
              "size": 10,
              "solidity": 0.2
             }
            },
            "type": "bar"
           }
          ],
          "barpolar": [
           {
            "marker": {
             "line": {
              "color": "#E5ECF6",
              "width": 0.5
             },
             "pattern": {
              "fillmode": "overlay",
              "size": 10,
              "solidity": 0.2
             }
            },
            "type": "barpolar"
           }
          ],
          "carpet": [
           {
            "aaxis": {
             "endlinecolor": "#2a3f5f",
             "gridcolor": "white",
             "linecolor": "white",
             "minorgridcolor": "white",
             "startlinecolor": "#2a3f5f"
            },
            "baxis": {
             "endlinecolor": "#2a3f5f",
             "gridcolor": "white",
             "linecolor": "white",
             "minorgridcolor": "white",
             "startlinecolor": "#2a3f5f"
            },
            "type": "carpet"
           }
          ],
          "choropleth": [
           {
            "colorbar": {
             "outlinewidth": 0,
             "ticks": ""
            },
            "type": "choropleth"
           }
          ],
          "contour": [
           {
            "colorbar": {
             "outlinewidth": 0,
             "ticks": ""
            },
            "colorscale": [
             [
              0,
              "#0d0887"
             ],
             [
              0.1111111111111111,
              "#46039f"
             ],
             [
              0.2222222222222222,
              "#7201a8"
             ],
             [
              0.3333333333333333,
              "#9c179e"
             ],
             [
              0.4444444444444444,
              "#bd3786"
             ],
             [
              0.5555555555555556,
              "#d8576b"
             ],
             [
              0.6666666666666666,
              "#ed7953"
             ],
             [
              0.7777777777777778,
              "#fb9f3a"
             ],
             [
              0.8888888888888888,
              "#fdca26"
             ],
             [
              1,
              "#f0f921"
             ]
            ],
            "type": "contour"
           }
          ],
          "contourcarpet": [
           {
            "colorbar": {
             "outlinewidth": 0,
             "ticks": ""
            },
            "type": "contourcarpet"
           }
          ],
          "heatmap": [
           {
            "colorbar": {
             "outlinewidth": 0,
             "ticks": ""
            },
            "colorscale": [
             [
              0,
              "#0d0887"
             ],
             [
              0.1111111111111111,
              "#46039f"
             ],
             [
              0.2222222222222222,
              "#7201a8"
             ],
             [
              0.3333333333333333,
              "#9c179e"
             ],
             [
              0.4444444444444444,
              "#bd3786"
             ],
             [
              0.5555555555555556,
              "#d8576b"
             ],
             [
              0.6666666666666666,
              "#ed7953"
             ],
             [
              0.7777777777777778,
              "#fb9f3a"
             ],
             [
              0.8888888888888888,
              "#fdca26"
             ],
             [
              1,
              "#f0f921"
             ]
            ],
            "type": "heatmap"
           }
          ],
          "histogram": [
           {
            "marker": {
             "pattern": {
              "fillmode": "overlay",
              "size": 10,
              "solidity": 0.2
             }
            },
            "type": "histogram"
           }
          ],
          "histogram2d": [
           {
            "colorbar": {
             "outlinewidth": 0,
             "ticks": ""
            },
            "colorscale": [
             [
              0,
              "#0d0887"
             ],
             [
              0.1111111111111111,
              "#46039f"
             ],
             [
              0.2222222222222222,
              "#7201a8"
             ],
             [
              0.3333333333333333,
              "#9c179e"
             ],
             [
              0.4444444444444444,
              "#bd3786"
             ],
             [
              0.5555555555555556,
              "#d8576b"
             ],
             [
              0.6666666666666666,
              "#ed7953"
             ],
             [
              0.7777777777777778,
              "#fb9f3a"
             ],
             [
              0.8888888888888888,
              "#fdca26"
             ],
             [
              1,
              "#f0f921"
             ]
            ],
            "type": "histogram2d"
           }
          ],
          "histogram2dcontour": [
           {
            "colorbar": {
             "outlinewidth": 0,
             "ticks": ""
            },
            "colorscale": [
             [
              0,
              "#0d0887"
             ],
             [
              0.1111111111111111,
              "#46039f"
             ],
             [
              0.2222222222222222,
              "#7201a8"
             ],
             [
              0.3333333333333333,
              "#9c179e"
             ],
             [
              0.4444444444444444,
              "#bd3786"
             ],
             [
              0.5555555555555556,
              "#d8576b"
             ],
             [
              0.6666666666666666,
              "#ed7953"
             ],
             [
              0.7777777777777778,
              "#fb9f3a"
             ],
             [
              0.8888888888888888,
              "#fdca26"
             ],
             [
              1,
              "#f0f921"
             ]
            ],
            "type": "histogram2dcontour"
           }
          ],
          "mesh3d": [
           {
            "colorbar": {
             "outlinewidth": 0,
             "ticks": ""
            },
            "type": "mesh3d"
           }
          ],
          "parcoords": [
           {
            "line": {
             "colorbar": {
              "outlinewidth": 0,
              "ticks": ""
             }
            },
            "type": "parcoords"
           }
          ],
          "pie": [
           {
            "automargin": true,
            "type": "pie"
           }
          ],
          "scatter": [
           {
            "fillpattern": {
             "fillmode": "overlay",
             "size": 10,
             "solidity": 0.2
            },
            "type": "scatter"
           }
          ],
          "scatter3d": [
           {
            "line": {
             "colorbar": {
              "outlinewidth": 0,
              "ticks": ""
             }
            },
            "marker": {
             "colorbar": {
              "outlinewidth": 0,
              "ticks": ""
             }
            },
            "type": "scatter3d"
           }
          ],
          "scattercarpet": [
           {
            "marker": {
             "colorbar": {
              "outlinewidth": 0,
              "ticks": ""
             }
            },
            "type": "scattercarpet"
           }
          ],
          "scattergeo": [
           {
            "marker": {
             "colorbar": {
              "outlinewidth": 0,
              "ticks": ""
             }
            },
            "type": "scattergeo"
           }
          ],
          "scattergl": [
           {
            "marker": {
             "colorbar": {
              "outlinewidth": 0,
              "ticks": ""
             }
            },
            "type": "scattergl"
           }
          ],
          "scattermap": [
           {
            "marker": {
             "colorbar": {
              "outlinewidth": 0,
              "ticks": ""
             }
            },
            "type": "scattermap"
           }
          ],
          "scattermapbox": [
           {
            "marker": {
             "colorbar": {
              "outlinewidth": 0,
              "ticks": ""
             }
            },
            "type": "scattermapbox"
           }
          ],
          "scatterpolar": [
           {
            "marker": {
             "colorbar": {
              "outlinewidth": 0,
              "ticks": ""
             }
            },
            "type": "scatterpolar"
           }
          ],
          "scatterpolargl": [
           {
            "marker": {
             "colorbar": {
              "outlinewidth": 0,
              "ticks": ""
             }
            },
            "type": "scatterpolargl"
           }
          ],
          "scatterternary": [
           {
            "marker": {
             "colorbar": {
              "outlinewidth": 0,
              "ticks": ""
             }
            },
            "type": "scatterternary"
           }
          ],
          "surface": [
           {
            "colorbar": {
             "outlinewidth": 0,
             "ticks": ""
            },
            "colorscale": [
             [
              0,
              "#0d0887"
             ],
             [
              0.1111111111111111,
              "#46039f"
             ],
             [
              0.2222222222222222,
              "#7201a8"
             ],
             [
              0.3333333333333333,
              "#9c179e"
             ],
             [
              0.4444444444444444,
              "#bd3786"
             ],
             [
              0.5555555555555556,
              "#d8576b"
             ],
             [
              0.6666666666666666,
              "#ed7953"
             ],
             [
              0.7777777777777778,
              "#fb9f3a"
             ],
             [
              0.8888888888888888,
              "#fdca26"
             ],
             [
              1,
              "#f0f921"
             ]
            ],
            "type": "surface"
           }
          ],
          "table": [
           {
            "cells": {
             "fill": {
              "color": "#EBF0F8"
             },
             "line": {
              "color": "white"
             }
            },
            "header": {
             "fill": {
              "color": "#C8D4E3"
             },
             "line": {
              "color": "white"
             }
            },
            "type": "table"
           }
          ]
         },
         "layout": {
          "annotationdefaults": {
           "arrowcolor": "#2a3f5f",
           "arrowhead": 0,
           "arrowwidth": 1
          },
          "autotypenumbers": "strict",
          "coloraxis": {
           "colorbar": {
            "outlinewidth": 0,
            "ticks": ""
           }
          },
          "colorscale": {
           "diverging": [
            [
             0,
             "#8e0152"
            ],
            [
             0.1,
             "#c51b7d"
            ],
            [
             0.2,
             "#de77ae"
            ],
            [
             0.3,
             "#f1b6da"
            ],
            [
             0.4,
             "#fde0ef"
            ],
            [
             0.5,
             "#f7f7f7"
            ],
            [
             0.6,
             "#e6f5d0"
            ],
            [
             0.7,
             "#b8e186"
            ],
            [
             0.8,
             "#7fbc41"
            ],
            [
             0.9,
             "#4d9221"
            ],
            [
             1,
             "#276419"
            ]
           ],
           "sequential": [
            [
             0,
             "#0d0887"
            ],
            [
             0.1111111111111111,
             "#46039f"
            ],
            [
             0.2222222222222222,
             "#7201a8"
            ],
            [
             0.3333333333333333,
             "#9c179e"
            ],
            [
             0.4444444444444444,
             "#bd3786"
            ],
            [
             0.5555555555555556,
             "#d8576b"
            ],
            [
             0.6666666666666666,
             "#ed7953"
            ],
            [
             0.7777777777777778,
             "#fb9f3a"
            ],
            [
             0.8888888888888888,
             "#fdca26"
            ],
            [
             1,
             "#f0f921"
            ]
           ],
           "sequentialminus": [
            [
             0,
             "#0d0887"
            ],
            [
             0.1111111111111111,
             "#46039f"
            ],
            [
             0.2222222222222222,
             "#7201a8"
            ],
            [
             0.3333333333333333,
             "#9c179e"
            ],
            [
             0.4444444444444444,
             "#bd3786"
            ],
            [
             0.5555555555555556,
             "#d8576b"
            ],
            [
             0.6666666666666666,
             "#ed7953"
            ],
            [
             0.7777777777777778,
             "#fb9f3a"
            ],
            [
             0.8888888888888888,
             "#fdca26"
            ],
            [
             1,
             "#f0f921"
            ]
           ]
          },
          "colorway": [
           "#636efa",
           "#EF553B",
           "#00cc96",
           "#ab63fa",
           "#FFA15A",
           "#19d3f3",
           "#FF6692",
           "#B6E880",
           "#FF97FF",
           "#FECB52"
          ],
          "font": {
           "color": "#2a3f5f"
          },
          "geo": {
           "bgcolor": "white",
           "lakecolor": "white",
           "landcolor": "#E5ECF6",
           "showlakes": true,
           "showland": true,
           "subunitcolor": "white"
          },
          "hoverlabel": {
           "align": "left"
          },
          "hovermode": "closest",
          "mapbox": {
           "style": "light"
          },
          "paper_bgcolor": "white",
          "plot_bgcolor": "#E5ECF6",
          "polar": {
           "angularaxis": {
            "gridcolor": "white",
            "linecolor": "white",
            "ticks": ""
           },
           "bgcolor": "#E5ECF6",
           "radialaxis": {
            "gridcolor": "white",
            "linecolor": "white",
            "ticks": ""
           }
          },
          "scene": {
           "xaxis": {
            "backgroundcolor": "#E5ECF6",
            "gridcolor": "white",
            "gridwidth": 2,
            "linecolor": "white",
            "showbackground": true,
            "ticks": "",
            "zerolinecolor": "white"
           },
           "yaxis": {
            "backgroundcolor": "#E5ECF6",
            "gridcolor": "white",
            "gridwidth": 2,
            "linecolor": "white",
            "showbackground": true,
            "ticks": "",
            "zerolinecolor": "white"
           },
           "zaxis": {
            "backgroundcolor": "#E5ECF6",
            "gridcolor": "white",
            "gridwidth": 2,
            "linecolor": "white",
            "showbackground": true,
            "ticks": "",
            "zerolinecolor": "white"
           }
          },
          "shapedefaults": {
           "line": {
            "color": "#2a3f5f"
           }
          },
          "ternary": {
           "aaxis": {
            "gridcolor": "white",
            "linecolor": "white",
            "ticks": ""
           },
           "baxis": {
            "gridcolor": "white",
            "linecolor": "white",
            "ticks": ""
           },
           "bgcolor": "#E5ECF6",
           "caxis": {
            "gridcolor": "white",
            "linecolor": "white",
            "ticks": ""
           }
          },
          "title": {
           "x": 0.05
          },
          "xaxis": {
           "automargin": true,
           "gridcolor": "white",
           "linecolor": "white",
           "ticks": "",
           "title": {
            "standoff": 15
           },
           "zerolinecolor": "white",
           "zerolinewidth": 2
          },
          "yaxis": {
           "automargin": true,
           "gridcolor": "white",
           "linecolor": "white",
           "ticks": "",
           "title": {
            "standoff": 15
           },
           "zerolinecolor": "white",
           "zerolinewidth": 2
          }
         }
        },
        "xaxis": {
         "anchor": "y",
         "domain": [
          0,
          0.2888888888888889
         ]
        },
        "xaxis2": {
         "anchor": "y2",
         "domain": [
          0.35555555555555557,
          0.6444444444444445
         ]
        },
        "xaxis3": {
         "anchor": "y3",
         "domain": [
          0.7111111111111111,
          1
         ]
        },
        "yaxis": {
         "anchor": "x",
         "domain": [
          0,
          1
         ],
         "title": {
          "text": "T2*w Ratio"
         }
        },
        "yaxis2": {
         "anchor": "x2",
         "domain": [
          0,
          1
         ]
        },
        "yaxis3": {
         "anchor": "x3",
         "domain": [
          0,
          1
         ]
        }
       }
      }
     },
     "metadata": {},
     "output_type": "display_data"
    }
   ],
   "source": [
    "#| label: fig5cell\n",
    "\n",
    "import plotly.express as px\n",
    "from plotly.offline import plot\n",
    "from IPython.core.display import HTML\n",
    "import plotly.graph_objects as go\n",
    "from plotly.subplots import make_subplots\n",
    "import pandas as pd\n",
    "\n",
    "# Initialize the figure with subplots\n",
    "fig = make_subplots(\n",
    "    rows=1, cols=3,  # Adjust number of rows and columns as needed\n",
    ")\n",
    "\n",
    "# Color palettes\n",
    "palette_boxplots = ['steelblue', '#F0B0B0', 'lightcoral', '#B4464F']\n",
    "palette_points = ['#00517F', 'lightcoral', '#B4464F', '#5E000E']\n",
    "\n",
    "df_CSA = pd.read_csv('../data/parkinsons-spinalcord-mri-metrics/data/CSA.csv')\n",
    "df_CSA = df_CSA[df_CSA['VertLevel'] == 25] # Sort for only C2-C5 combined data ('25' corresponds to C2-C5 here)\n",
    "\n",
    "groups = ['CTRL', 'low', 'med', 'adv']\n",
    "\n",
    "for i, group in enumerate(groups):\n",
    "    box_color = palette_boxplots[i % len(palette_boxplots)]  # Ensure we don't run out of colors\n",
    "    points_color = palette_points[i % len(palette_points)]  # Cycle through jitter colors\n",
    "    \n",
    "    fig.add_trace(go.Box(\n",
    "        # Filter data for each group\n",
    "        x=df_CSA['UPDRS_class_bis'][df_CSA['UPDRS_class_bis'] == group], \n",
    "        y=df_CSA['CSA'][df_CSA['UPDRS_class_bis'] == group],  \n",
    "\n",
    "        # Show all points\n",
    "        boxpoints='all',\n",
    "        jitter=0.5,  # Jitter the points for better visibility\n",
    "        whiskerwidth=0.5,  \n",
    "        fillcolor=box_color,  # Color of the box\n",
    "        marker_size=5,  # Marker size for points\n",
    "        marker_color=points_color, # Color of the points\n",
    "        line_width=2,  # Border width of the box\n",
    "        pointpos=0, # Center the points with the box\n",
    "        showlegend=False\n",
    "    ), row=1, col=2\n",
    "    )\n",
    "\n",
    "### ADD STATIC BACKGROUND IMAGE ###\n",
    "fig.update_layout(\n",
    "    yaxis2_title=\"CSA (mm²)\",  # Y-axis title\n",
    "    images=[dict(\n",
    "        source='Figure5_template.png',  \n",
    "        x=0.1,\n",
    "        y=-0.2,\n",
    "        xanchor=\"left\",\n",
    "        yanchor=\"bottom\",\n",
    "        sizex=1.5,\n",
    "        sizey=1.5, \n",
    "        layer=\"below\",  \n",
    "    )],\n",
    ")\n",
    "\n",
    "fig.show()"
   ]
  },
  {
   "cell_type": "code",
   "execution_count": 2,
   "id": "bd9c5d9b",
   "metadata": {},
   "outputs": [
    {
     "name": "stdout",
     "output_type": "stream",
     "text": [
      "Number of CTRL subjects : 38\n",
      "Number of low subjects : 24\n",
      "Number of med subjects : 22\n",
      "Number of adv subjects : 24\n"
     ]
    }
   ],
   "source": [
    "print(f'Number of CTRL subjects : {(df_CSA['UPDRS_class_bis'] == 'CTRL').sum()}')\n",
    "print(f'Number of low subjects : {(df_CSA['UPDRS_class_bis'] == 'low').sum()}')\n",
    "print(f'Number of med subjects : {(df_CSA['UPDRS_class_bis'] == 'med').sum()}')\n",
    "print(f'Number of adv subjects : {(df_CSA['UPDRS_class_bis'] == 'adv').sum()}')"
   ]
  }
 ],
 "metadata": {
  "kernelspec": {
   "display_name": "Python 3",
   "language": "python",
   "name": "python3"
  },
  "language_info": {
   "codemirror_mode": {
    "name": "ipython",
    "version": 3
   },
   "file_extension": ".py",
   "mimetype": "text/x-python",
   "name": "python",
   "nbconvert_exporter": "python",
   "pygments_lexer": "ipython3",
   "version": "3.12.2"
  }
 },
 "nbformat": 4,
 "nbformat_minor": 5
}
